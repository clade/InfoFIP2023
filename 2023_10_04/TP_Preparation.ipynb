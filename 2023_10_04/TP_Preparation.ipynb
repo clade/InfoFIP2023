{
 "cells": [
  {
   "cell_type": "markdown",
   "metadata": {},
   "source": [
    "# Introduction\n",
    "\n",
    "\n",
    "L'objectif de l'interfaçage d'un instrument est d'envoyer des instructions depuis l'ordinateur afin que celui-ci effectue des opérations normalement faites manuellement. \n",
    "\n",
    "## Liste du matériel\n",
    "* Ordinateur avec installé : anaconda, VISA, pyvisa\n",
    "* Oscilloscope (Rigol, DS1052E)\n",
    "* Générateur (Rigol, DG1022)\n",
    "* Décade de capacités, décades de résistances, bobine 9mH, cables bananes et adaptateurs BNC bananes\n",
    "\n",
    "## Connexion\n",
    "\n",
    "Il existe plusieurs type de connexion entre un ordinateur et un instrument. Citons le GPIB, le RS232, l'USB et l'ethernet. \n",
    "\n",
    "La GPIB et le RS232 sont des interfaces de communications qui sont obsolètes, mais se trouvent encore fréquemment sur des appareils. Ce sont des interfaces simples, puisqu'on échange des mots d'octets entre les deux appareils. Le RS232 est le port série (COM sous windows). \n",
    "\n",
    "L'USB est beaucoup plus complexe car il ne définit par précisément ce qui peut être échangé. Pour l'USB, il est nécessaire d'avoir un driver pour chaque mode de communications. Comme mode de communication, citons l'émulation d'un port série (c'est par exemple ce que l'on retrouve sur les arduinos). Pour les instruments de mesure, une norme appelée USBTMC est utilisée par plusieurs fabricants (USB Test and Measurement Class). Certains fabricants peuvent cependant avoir développé leur propre interface USB.\n",
    "\n",
    "Enfin, de plus en plus de d'instruments sont connectés par ethernet. Les choses sont en général beaucoup plus simples que l'USB car il n'y a pas besoin de driver spécifique. Des normes de communications existent pour les instrument, en particulier le VXI-11. \n",
    "\n",
    "Le VXI-11 et l'USBTMC ont pour but de remplacer le GPIB. Ces protocoles permettent d'échanger des instructions selon une norme précise, le SCPI. \n",
    "\n",
    "## SCPI\n",
    "\n",
    "\n",
    "Le SCPI (Standard Commands for Programmable Instruments) est en quelque sorte la grammaire que l'on va utiliser. Par exemple, pour changer l'échelle verticale d'un oscilloscope on peut envoyer le chaîne : \"CH1:SCALE 10\". Pour connaître l'échelle verticale on va envoyer \"CH1:SCALE?\". L'instrument va alors renvoyer une chaîne correspondant à l'échelle. Dans cet exemple, les mots précis dépendent de la marque de l'instrument. Ce que le SCPI défini est la syntaxe et quelques instructions de base. \n",
    "\n",
    "Les instructions sont regroupées sous forme d'un arbre. Chaque \"branche\" est séparée par un \":\". Les arguments sont séparés de l'instruction par une espace et sont séparés entre eux par des virgules. Il est aussi possible de transférer des données binaires. Lorsque l'instruction attend une réponse, alors elle est suivie d'un \"?\". \n",
    "\n",
    "Pour connaître l'ensemble des commandes il faut se référer à la partie de la documentation de l'instrument appelée souvent Programmers' User Guide. \n",
    "\n",
    "Les instructions de base d'un instrument sont entre autre : \n",
    "\n",
    "* ``*IDN?`` qui renvoie une chaîne d'identification unique de l'appareil. Cette chaîne contient : ``<manufacturer>``,``<model number>``,``<serial number>``,``<software revision>`` \n",
    "* ``*RST`` qui fait un reset de l'appareil. \n",
    "\n",
    "Un dernier point important : le SCPI n'est pas sensible à la casse. De plus chaque instruction possède une version courte et une version longue. Celles-ci sont en général distinguées par la casse. Par exemple \"CHannel1:SCAle\" signifie que l'on peut utiliser indépendamment CH ou CHANNEL et SCA ou SCALE. \n",
    "\n",
    "## VISA\n",
    "\n",
    "Sous Windows, il est possible d'utiliser un driver VISA qui fournit une interface commune, quelque soit le mode de connexion ou le protocole bas niveau de communication avec l'instrument. La librairie VISA est une librairie propriétaire gratuite fournie par National Instruments. Elle peut être utilisée sous Python avec le module pyvisa (qu'il faut installer en plus de VISA). \n",
    "\n",
    "Le logiciel NI-MAX est installé en même temps que VISA. Il permet entre autre de lister l'ensemble des appareils connecté à l'ordinateur et d'envoyer des instructions directement à l'instrument. \n"
   ]
  },
  {
   "cell_type": "markdown",
   "metadata": {},
   "source": [
    "# Connexion\n",
    "\n",
    "\n",
    "1. Préparation : Manuellement, générez un signal sinusoïdal de fréquence 20 kHz, d'amplitude 5 Vpp et d'offset 0 V sur le channel 1 de votre générateur de fonction arbitraire. Mesurez votre signal à l'aide de l'oscilloscope. Vous utiliserez la fonction \"trig\" sur un front descendant.\n",
    "\n",
    "2. Identifiez votre générateur de fréquence arbitraire, en utilisant les commandes de pyvisa :\n",
    "\n",
    "        import pyvisa\n",
    "        rm = pyvisa.ResourceManager()\n",
    "        rm.list_resources()\n",
    "\n",
    "   "
   ]
  },
  {
   "cell_type": "code",
   "execution_count": 1,
   "metadata": {},
   "outputs": [
    {
     "data": {
      "text/plain": [
       "('USB0::0x1AB1::0x0588::DS1ET162057882::INSTR',\n",
       " 'USB0::0x1AB1::0x0588::DG1D122001715::INSTR',\n",
       " 'ASRL1::INSTR',\n",
       " 'ASRL3::INSTR')"
      ]
     },
     "execution_count": 1,
     "metadata": {},
     "output_type": "execute_result"
    }
   ],
   "source": [
    "import matplotlib.pyplot as plt\n",
    "%matplotlib inline\n",
    "import numpy as np\n",
    "import pyvisa\n",
    "rm = pyvisa.ResourceManager()\n",
    "rm.list_resources()"
   ]
  },
  {
   "cell_type": "markdown",
   "metadata": {},
   "source": [
    "Les commandes suivantes vous permettront de créer une connection avec votre instrument et de la tester\n",
    "\n",
    "\n",
    "        instrument = rm.open_resource(chaine_d_identification, query_delay=0.001)\n",
    "        instrument.query(\"*IDN?\")\n",
    "        \n",
    "L'argument optionel ``query_delay`` est indispensable pour le GBF.\n",
    "\n",
    "3. Créez deux variables (``scope`` et ``gbf``) correspondant à chacun de vos deux instruments"
   ]
  },
  {
   "cell_type": "code",
   "execution_count": 2,
   "metadata": {
    "collapsed": true
   },
   "outputs": [],
   "source": [
    "gbf = rm.open_resource('USB0::0x1AB1::0x0588::DG1D122001715::INSTR', query_delay=0.001)\n",
    "scope = rm.open_resource('USB0::0x1AB1::0x0588::DS1ET162057882::INSTR')"
   ]
  },
  {
   "cell_type": "markdown",
   "metadata": {},
   "source": [
    "4. Ecrivez une fonction, que l'on testera sur l'oscilloscope, qui renvoie un dictionnaire avec le nom de la compagnie, le nom du modèle, et le numéro de série. "
   ]
  },
  {
   "cell_type": "code",
   "execution_count": 3,
   "metadata": {
    "collapsed": true
   },
   "outputs": [],
   "source": [
    "def get_model_identification(inst):\n",
    "    res = inst.query(\"*IDN?\")\n",
    "    comp, model, serial, _ = res.split(',') \n",
    "    dic = {'compagnie':comp,\n",
    "          'model':model,\n",
    "          'serial':serial}\n",
    "    return dic"
   ]
  },
  {
   "cell_type": "code",
   "execution_count": 4,
   "metadata": {},
   "outputs": [
    {
     "data": {
      "text/plain": [
       "{'compagnie': 'Rigol Technologies',\n",
       " 'model': 'DS1052E',\n",
       " 'serial': 'DS1ET162057882'}"
      ]
     },
     "execution_count": 4,
     "metadata": {},
     "output_type": "execute_result"
    }
   ],
   "source": [
    "get_model_identification(scope)"
   ]
  },
  {
   "cell_type": "markdown",
   "metadata": {},
   "source": [
    "# Interfaçage du générateur de fonction arbitraire"
   ]
  },
  {
   "cell_type": "markdown",
   "metadata": {},
   "source": [
    "1. Regardez dans la documentation l'instruction APPL. Programmez une sinusoïde de fréquence 3 kHz, d'amplitude 2 Vpp et avec un offset de 0.5 V."
   ]
  },
  {
   "cell_type": "code",
   "execution_count": 6,
   "metadata": {},
   "outputs": [
    {
     "data": {
      "text/plain": [
       "23"
      ]
     },
     "execution_count": 6,
     "metadata": {},
     "output_type": "execute_result"
    }
   ],
   "source": [
    "gbf.write('APPL:SIN 3000,2.0,0.5')"
   ]
  },
  {
   "cell_type": "markdown",
   "metadata": {
    "collapsed": true
   },
   "source": [
    "Il existe des commandes simples permettant de changer un paramètre unique, par exemple :\n",
    "\n",
    "        gbf.write('FREQ 1542')\n",
    "        gbf.query('FREQ?')\n",
    "\n",
    "Ces fonctions utilisent des chaînes de charactères.\n",
    "  \n",
    "2. Écrivez deux fonctions python ``set_frequency`` et ``get_frequency`` qui utilisent des nombres. \n",
    "\n",
    "3. Testez votre fonction ``set_frequency`` pour régler la fréquence du signal à 1.123 MHz. Qu'observez vous à l'oscilloscope ? Pourquoi ? \n"
   ]
  },
  {
   "cell_type": "code",
   "execution_count": 20,
   "metadata": {
    "collapsed": true
   },
   "outputs": [],
   "source": [
    "def set_frequency(inst, freq=1000):\n",
    "    command = f'FREQ {freq:.3f}'\n",
    "    inst.write(command)"
   ]
  },
  {
   "cell_type": "code",
   "execution_count": 21,
   "metadata": {},
   "outputs": [],
   "source": [
    "set_frequency(gbf, freq=1.123e6)"
   ]
  },
  {
   "cell_type": "code",
   "execution_count": 22,
   "metadata": {
    "collapsed": true
   },
   "outputs": [],
   "source": [
    "def get_frequency(inst):\n",
    "    command = f'FREQ?'\n",
    "    return float(inst.query(command))"
   ]
  },
  {
   "cell_type": "code",
   "execution_count": 23,
   "metadata": {},
   "outputs": [
    {
     "data": {
      "text/plain": [
       "1123000.0"
      ]
     },
     "execution_count": 23,
     "metadata": {},
     "output_type": "execute_result"
    }
   ],
   "source": [
    "get_frequency(gbf)"
   ]
  },
  {
   "cell_type": "markdown",
   "metadata": {
    "collapsed": true
   },
   "source": [
    "Nous rappelons la définition de la puissance en unité $dBm$:\n",
    "\n",
    "$P (dBm) = 10\\log(P (mW)) = 20\\log(\\frac{V_{rms}}{\\sqrt{0.001 R}}))$ \n",
    "\n",
    "où par convention $P$ est la puissance électrique dissipée dans une résistance de $R=50$ Ohm. Nous rappelons aussi que $V_{pp}=2\\sqrt{2}V_{rms}$\n",
    "\n",
    "\n",
    "4. À la main, avec la fonction utility, réglez le GBF de façon à pouvoir changer l'amplitude du signal en dBm. Pour cela, il faudra régler l'impédance de sortie du GBF en 50 Ohm. Quelle est l'amplitude Vpp du signal que vous mesurez sur l'oscilloscope ? Pourquoi ?"
   ]
  },
  {
   "cell_type": "code",
   "execution_count": 24,
   "metadata": {},
   "outputs": [
    {
     "name": "stdout",
     "output_type": "stream",
     "text": [
      "1.8089783639e-05\n",
      "632.456104083\n"
     ]
    }
   ],
   "source": [
    "Vrms = 223.607e-3\n",
    "print(20*np.log(Vrms/np.sqrt(1e-3*50)))\n",
    "Vpp = 2*np.sqrt(2)*Vrms\n",
    "print(Vpp*1e3)"
   ]
  },
  {
   "cell_type": "markdown",
   "metadata": {},
   "source": [
    "5. Ecrivez une fonction python ``set_amplitude`` qui permet de changer l'amplitude du signal généré. Elle acceptera aussi l'unité Vpp, Vrms, dBm (l'unité par défaut sera Vpp). Il faudra d'abord utiliser une commande pour changer l'unité et ensuite utiliser une commande pour ecrire la valeur de l'amplitude. Entre les deux commandes, on mettra une pause de 100 ms (``from time import sleep``)"
   ]
  },
  {
   "cell_type": "code",
   "execution_count": 25,
   "metadata": {
    "collapsed": true
   },
   "outputs": [],
   "source": [
    "from time import sleep\n",
    "def set_amplitude(inst, amp=5.0, unit='VPP'):\n",
    "    command_unit = f'VOLT:UNIT {unit}'\n",
    "    inst.write(command_unit)\n",
    "    sleep(0.1)\n",
    "    command = f'VOLT {amp:.3f}'\n",
    "    inst.write(command)"
   ]
  },
  {
   "cell_type": "code",
   "execution_count": 26,
   "metadata": {
    "collapsed": true
   },
   "outputs": [],
   "source": [
    "set_amplitude(gbf, amp=2, unit='VPP')"
   ]
  },
  {
   "cell_type": "code",
   "execution_count": 27,
   "metadata": {
    "collapsed": true
   },
   "outputs": [],
   "source": [
    "set_amplitude(gbf, amp=0, unit='DBM')"
   ]
  },
  {
   "cell_type": "markdown",
   "metadata": {},
   "source": [
    "6. Ecrivez une fonction qui retourne un dictionnaire avec la forme, la fréquence, l'amplitude et l'offset du signal actuellement généré sur le channel 1. On utilisera la commande ``APPL?`` ."
   ]
  },
  {
   "cell_type": "code",
   "execution_count": 28,
   "metadata": {
    "collapsed": true
   },
   "outputs": [],
   "source": [
    "def get_all_parameters(inst):\n",
    "    all_ = inst.query('APPL?',delay=0.001)\n",
    "    forme, freq, amp, offset = all_[5:-2].split(',')\n",
    "    dic = {'forme':forme,\n",
    "          'frequency':float(freq),\n",
    "          'amplitude':float(amp),\n",
    "          'offset':float(offset)}\n",
    "    return dic"
   ]
  },
  {
   "cell_type": "code",
   "execution_count": 29,
   "metadata": {},
   "outputs": [
    {
     "data": {
      "text/plain": [
       "{'amplitude': 0.0, 'forme': 'SIN', 'frequency': 1123000.0, 'offset': 0.5}"
      ]
     },
     "execution_count": 29,
     "metadata": {},
     "output_type": "execute_result"
    }
   ],
   "source": [
    "get_all_parameters(gbf)"
   ]
  },
  {
   "cell_type": "markdown",
   "metadata": {},
   "source": [
    "7. *(si vous avez le temps)* Ecrivez une fonction qui permet de faire un saut de fréquence de $\\delta f$. Cette fonction renvera une exception si la fréquence finale n'est pas comprise entre 1 Hz et 5 MHz."
   ]
  },
  {
   "cell_type": "code",
   "execution_count": 30,
   "metadata": {
    "collapsed": true
   },
   "outputs": [],
   "source": [
    "def add_delta_freq(inst, freq_step):\n",
    "    freq_init = get_frequency(inst)\n",
    "    print(f'La fréquence initiale est de {freq_init:3f}')\n",
    "    freq_final = freq_init + freq_step\n",
    "    if (freq_final>1) and (freq_final<5e6): \n",
    "        set_frequency(inst, freq=freq_final)\n",
    "        return\n",
    "    raise Exception(f\"La fréquence demandée {freq_final:.2e} n'est pas comprise entre 1 Hz et 5\")"
   ]
  },
  {
   "cell_type": "code",
   "execution_count": 31,
   "metadata": {},
   "outputs": [
    {
     "name": "stdout",
     "output_type": "stream",
     "text": [
      "La fréquence initiale est de 1123000.000000\n"
     ]
    }
   ],
   "source": [
    "add_delta_freq(gbf, 1e6)"
   ]
  },
  {
   "cell_type": "markdown",
   "metadata": {},
   "source": [
    "# Interfaçage de l'oscilloscope\n",
    "\n",
    "Comme pour le GBF, il y a un certain nombre de commandes que vous pouvez trouver dans la documentation :\n",
    "[DS1000DE_ProgrammingGuide_EN.pdf](https://www.batronix.com/pdf/Rigol/ProgrammingGuide/DS1000DE_ProgrammingGuide_EN.pdf)\n",
    "\n",
    "Par exemple la commande ``:TIMEBASE:SCALE`` permet de connaître ou de programmer l'échelle horizontale. \n",
    "\n",
    "1. Essayez cette commande."
   ]
  },
  {
   "cell_type": "code",
   "execution_count": 32,
   "metadata": {},
   "outputs": [
    {
     "data": {
      "text/plain": [
       "'5.000e-07'"
      ]
     },
     "execution_count": 32,
     "metadata": {},
     "output_type": "execute_result"
    }
   ],
   "source": [
    "scope.query(':TIMEBASE:SCALE?')"
   ]
  },
  {
   "cell_type": "markdown",
   "metadata": {},
   "source": [
    "La difficulté particulière pour l'oscilloscope est de récupérer la courbe affichée sur celui-ci. La commande ``:WAVEFORM:DATA?`` va renvoyer les donner sous formes binaires. Qu'est-ce que cela signifie ? \n",
    "\n",
    "L'échange de donnée entre l'oscilloscope et l'ordinateur se fait par l'échange d'une chaîne d'octet. Lorsque l'on veut envoyer un mot (par exemple ``*IDN?``), celui ci va être encodé avec la table ASCII ([en.wikipedia.org/wiki/ASCII](https://en.wikipedia.org/wiki/ASCII)). Dans ce cas la suite d'octet sera (en décimale) ``42, 73, 68, 78, 63``. De la même façon un nombre écrit en décimal peut être encodé en ASCII : par exemple ``12345`` donnera ``49, 50, 51, 52, 53``. Cependant, un nombre peut être codé plus efficacement : en effet on peut écrire $12345 = 48\\times256 + 57$, et décider d'envoyer les deux octets ``48`` et``57``. C'est le codage binaire, codage utilisé par notre oscilloscope. La différence est le même que celle qu'il y a entre ``np.savetxt`` et ``np.save``. \n",
    "  \n",
    "La librairie ``pyvisa`` est capable de décoder automatiquement les données binaires envoyées par l'oscilloscope. Dans notre cas, les ordonnées des points sont des entiers entre 0 et 256 et sont donc codées sur un seul octet. Cela correspond au type de donnée 's' (short). On pourra récupérer les données à l'aide de la commande \n",
    "\n",
    "  ``scope.query_binary_values(':WAVEFORM:DATA?', datatype='s')``\n",
    "\n",
    "2. Utilisez cette commande et affichez la courbe avec matplotlib."
   ]
  },
  {
   "cell_type": "code",
   "execution_count": 33,
   "metadata": {},
   "outputs": [
    {
     "data": {
      "text/plain": [
       "[<matplotlib.lines.Line2D at 0x1c9186bd5c0>]"
      ]
     },
     "execution_count": 33,
     "metadata": {},
     "output_type": "execute_result"
    },
    {
     "data": {
      "image/png": "[encoded data removed]",
      "text/plain": [
       "<matplotlib.figure.Figure at 0x1c9185c0860>"
      ]
     },
     "metadata": {},
     "output_type": "display_data"
    }
   ],
   "source": [
    "res = scope.query_binary_values(':WAVEFORM:DATA?', datatype='s')\n",
    "plt.plot(res)"
   ]
  },
  {
   "cell_type": "markdown",
   "metadata": {},
   "source": [
    "On remarque que les valeurs sont à l'envers (le haut correspond au bas) et qu'il faut les mettre à l'échelle. Cette opération nécéssite de connaître plusieurs paramètres de l'oscilloscope et prend du temps à coder. Nous ne le ferons pas.\n"
   ]
  },
  {
   "cell_type": "code",
   "execution_count": null,
   "metadata": {
    "collapsed": true
   },
   "outputs": [],
   "source": []
  },
  {
   "cell_type": "markdown",
   "metadata": {},
   "source": [
    "# Librairie tpmontrouge\n",
    "\n",
    "Une librairie a été écrite afin de faciliter l'usage des instruments de la plateforme expérimentale de montrouge (particulièrement la préparation à l'agrégation). L'idée est d'avoir une interface pour chaque type d'instrument indépendament de la marque et du modèle.\n",
    "\n",
    "La création des objets se fait de la façon suivante"
   ]
  },
  {
   "cell_type": "code",
   "execution_count": 40,
   "metadata": {
    "collapsed": true,
    "tags": [
     "keep"
    ]
   },
   "outputs": [],
   "source": [
    "from tpmontrouge.instrument import Scope,GBF, get_first_instrument\n",
    "\n",
    "scope = get_first_instrument(Scope) # renvoie le premier instrument de type Scope qu'il trouve\n",
    "gbf = get_first_instrument(GBF)"
   ]
  },
  {
   "cell_type": "markdown",
   "metadata": {},
   "source": [
    "Le changement d'une valeur peut se faire de deux façon différences : soit à l'aide de fonction soit d'un ``property``. Par exemple : \n",
    "\n",
    "    gbf.set_frequency(10E3)\n",
    "    print(gbf.get_frequency())\n",
    "    \n",
    "    gbf.frequency = 10E3\n",
    "    print(gbf.frequency)\n",
    "\n",
    "\n",
    "Pour le GBF, nous avons défini les propriétés suivante : ``amplitude``, ``frequency``, ``offset``, ``function``\n",
    "\n",
    "Pour l'oscilloscope, nous avons plusieurs méthodes ``autoset()``, ``start_acquisition()``, ``stop_acquisition()`` et beaucoup de propriétés. Voici un exemple : "
   ]
  },
  {
   "cell_type": "code",
   "execution_count": 99,
   "metadata": {
    "tags": [
     "keep"
    ]
   },
   "outputs": [
    {
     "name": "stdout",
     "output_type": "stream",
     "text": [
      "Scale 0.0001 s/div\n",
      "Offset 0.0 s\n"
     ]
    }
   ],
   "source": [
    "print('Scale', scope.horizontal.scale, 's/div')\n",
    "sleep(0.01)\n",
    "print('Offset', scope.horizontal.offset, 's')\n",
    "sleep(0.01)\n",
    "scope.horizontal.scale = 1.0e-4 # s/div\n",
    "sleep(0.01)\n",
    "scope.horizontal.offset = 0.0E-3 # s\n",
    "sleep(0.01)\n",
    "\n",
    "scope.channel[1].coupling = 'AC'\n",
    "sleep(0.01)\n",
    "scope.channel[1].scale = 1.0\n",
    "sleep(1)\n",
    "wfm = scope.channel[1].get_waveform()"
   ]
  },
  {
   "cell_type": "markdown",
   "metadata": {},
   "source": [
    "Cette dernière commande renvoie un objet qui contient toute les données de la trace dont ``wfm.x_data`` et ``wfm.y_data``.\n",
    "\n",
    "3. Utilisez la librairie tpmontrouge pour initisaliser l'oscilloscope et récupérer une trace"
   ]
  },
  {
   "cell_type": "markdown",
   "metadata": {},
   "source": [
    "# Ajustement (fit) d'une sinusoïde avec un modèle\n",
    "\n",
    "Voici un example de code permettant d'ajuster un jeu de données par une droite. Nous verrons ceci plus en détails en cours. \n",
    "\n",
    "\n",
    "    from scipy.optimize import curve_fit\n",
    "    def droite(x, a, b):\n",
    "        return a*x+b\n",
    "    \n",
    "    p0 = (.5, 7) # paramètres initiaux\n",
    "    popt, pcov = curve_fit(droite, x_data, y_data, p0)\n",
    "\n",
    "\n",
    "Il est important de mettre des paramètres initiaux raisonnables sinon le fit ne convergera pas vers la bonne valeur. Pour cela on tracera la courbe avec ``p0`` (en utlisant ``*p0``)\n",
    "\n",
    "1. Définissez une fonction sinusoïdale avec les quatre paramètres pertinent : ``offset``, ``amplitude``, ``frequence``, ``phase``. Ajuster la sinusoïde que vous avez récupérée avec l'oscilloscope. Affichez l'amplitude et la phase de la sinusoïde. "
   ]
  },
  {
   "cell_type": "code",
   "execution_count": 100,
   "metadata": {
    "collapsed": true
   },
   "outputs": [],
   "source": [
    "from scipy.optimize import curve_fit\n",
    "\n",
    "def sinus(t, amplitude, offset, frequence, phase):\n",
    "    return amplitude*np.sin(2*np.pi*frequence*t + phase) + offset\n",
    "\n",
    "\n",
    "def fit_sinusoid(wfm, freq):\n",
    "    a = (wfm.y_data.max()-wfm.y_data.min())/2\n",
    "    p0 = (a, 0, freq, 0)\n",
    "    popt, pcov = curve_fit(sinus, wfm.x_data, wfm.y_data, p0)\n",
    "    if popt[0]<0:\n",
    "        popt[0], popt[3] = -popt[0], (popt[3]+np.pi)%(2*np.pi)\n",
    "    return popt"
   ]
  },
  {
   "cell_type": "code",
   "execution_count": 103,
   "metadata": {},
   "outputs": [
    {
     "name": "stdout",
     "output_type": "stream",
     "text": [
      "L'amplitude du signal est de 0.644 V et la phase est de 0.784 rad\n"
     ]
    },
    {
     "data": {
      "image/png": "[encoded data removed]",
      "text/plain": [
       "<matplotlib.figure.Figure at 0x1c91a794c50>"
      ]
     },
     "metadata": {},
     "output_type": "display_data"
    }
   ],
   "source": [
    "freq0 = 4e3\n",
    "popt = fit_sinusoid(wfm, freq0)\n",
    "\n",
    "plt.plot(wfm.x_data,wfm.y_data,label='data')\n",
    "plt.plot(wfm.x_data,sinus(wfm.x_data,1,0,freq0,0),label='fit init')\n",
    "plt.plot(wfm.x_data,sinus(wfm.x_data,*popt),label='fit')\n",
    "plt.legend()\n",
    "plt.grid()\n",
    "plt.ylabel('V')\n",
    "plt.xlabel('s')\n",
    "\n",
    "print(f\"L'amplitude du signal est de {popt[0]:.3f} V et la phase est de {popt[3]:.3f} rad\")"
   ]
  },
  {
   "cell_type": "markdown",
   "metadata": {},
   "source": [
    "# Diagramme de Bode\n",
    "\n",
    "Nous avons maintenant tous les outils pour faire un diagramme de Bode. Nous proposons de monter le circuit suivant:\n",
    "\n",
    "![circuit rlc](rlc.pdf \"Circuit RLC\")\n",
    "\n",
    "On prendra typiquement $C = 500~\\mathrm{pF}$ et $R = 100~\\Omega$\n",
    "\n",
    "L'idée consiste à mesurer l'amplitude et la phase des deux sinusoïdes (entrée et sortie) à l'aide de deux ajustement et de calculer ensuite le gain et le déphasage.\n",
    "\n",
    "1. Faire un nouveau notebook pour prendre les points du diagramme de Bode et les enregistrer sur l'ordinateur. Avec un autre notebook, analyser les données.\n",
    "\n",
    "   On pourra utliser la fonction autoset à chaque nouvelle fréquence (et attendre quelques secondes avant d'enregistrer les données)."
   ]
  },
  {
   "cell_type": "code",
   "execution_count": 104,
   "metadata": {
    "collapsed": true
   },
   "outputs": [],
   "source": [
    "import matplotlib.pyplot as plt\n",
    "%matplotlib inline\n",
    "\n",
    "import numpy as np\n",
    "from scipy.optimize import curve_fit\n",
    "\n",
    "from time import sleep\n",
    "from tpmontrouge.instrument import Scope,GBF, get_first_instrument\n",
    "\n",
    "scope = get_first_instrument(Scope)\n",
    "gbf = get_first_instrument(GBF)\n",
    "\n",
    "\n",
    "def sinus(t, amplitude, offset, frequence, phase):\n",
    "    return amplitude*np.sin(2*np.pi*frequence*t + phase) + offset\n",
    "\n",
    "\n",
    "def fit_sinusoid(wfm, freq):\n",
    "    a = (wfm.y_data.max()-wfm.y_data.min())/2\n",
    "    p0 = (a, 0, freq, 0)\n",
    "    popt, pcov = curve_fit(sinus, wfm.x_data, wfm.y_data, p0)\n",
    "    if popt[0]<0:\n",
    "        popt[0], popt[3] = -popt[0], popt[3]+np.pi\n",
    "    return popt\n",
    "\n",
    "def get_bode_point(freq):\n",
    "    gbf.frequency = freq\n",
    "\n",
    "    scope.autoset()\n",
    "    sleep(6)\n",
    "    wfm1 = scope.get_channel_waveform(1)\n",
    "    wfm2 = scope.get_channel_waveform(2)\n",
    "    \n",
    "    popt1 = fit_sinusoid(wfm1, freq)\n",
    "    popt2 = fit_sinusoid(wfm2, freq)    \n",
    "    \n",
    "    return list(popt1), list(popt2)\n",
    "\n",
    "Tfreq = np.linspace(40000, 80000, 41)\n",
    "data = [get_bode_point(freq) for freq in Tfreq]"
   ]
  },
  {
   "cell_type": "code",
   "execution_count": 107,
   "metadata": {},
   "outputs": [
    {
     "data": {
      "image/png": "[encoded data removed]",
      "text/plain": [
       "<matplotlib.figure.Figure at 0x1c91aa37a58>"
      ]
     },
     "metadata": {},
     "output_type": "display_data"
    }
   ],
   "source": [
    "data = np.array(data)\n",
    "\n",
    "gain = data[:, 1, 0]/data[:, 0, 0]\n",
    "phase = data[:, 1, -1] - data[:, 0, -1]\n",
    "\n",
    "phase = np.unwrap(phase)\n",
    "\n",
    "fig = plt.figure()\n",
    "ax1, ax2 = fig.subplots(2, 1, sharex=True)\n",
    "\n",
    "ax1.plot(Tfreq, gain, 'o')\n",
    "ax1.set_ylabel('Gain')\n",
    "ax2.plot(Tfreq, 180*phase/np.pi, 'o')\n",
    "ax2.set_ylabel('Phase (°)')\n",
    "ax2.set_xlabel('Frequency (Hz)')\n",
    "ax1.grid()\n",
    "ax2.grid()"
   ]
  },
  {
   "cell_type": "code",
   "execution_count": null,
   "metadata": {
    "collapsed": true
   },
   "outputs": [],
   "source": []
  },
  {
   "cell_type": "code",
   "execution_count": null,
   "metadata": {
    "collapsed": true
   },
   "outputs": [],
   "source": []
  },
  {
   "cell_type": "code",
   "execution_count": 12,
   "metadata": {},
   "outputs": [
    {
     "name": "stdout",
     "output_type": "stream",
     "text": [
      "[NbConvertApp] Converting notebook TP Instrument.ipynb to pdf\n",
      "[NbConvertApp] Writing 36201 bytes to notebook.tex\n",
      "[NbConvertApp] Building PDF\n",
      "[NbConvertApp] Running xelatex 3 times: ['xelatex', 'notebook.tex', '-quiet']\n",
      "[NbConvertApp] Running bibtex 1 time: ['bibtex', 'notebook']\n",
      "[NbConvertApp] WARNING | bibtex had problems, most likely because there were no citations\n",
      "[NbConvertApp] PDF successfully created\n",
      "[NbConvertApp] Writing 67787 bytes to build/TP Instrument.pdf\n"
     ]
    }
   ],
   "source": [
    "!python remove_cells.py TP_Preparation.ipynb > \"TP Instrument.ipynb\"\n",
    "!jupyter nbconvert --to pdf --output-dir=build \"TP Instrument.ipynb\""
   ]
  },
  {
   "cell_type": "code",
   "execution_count": null,
   "metadata": {
    "collapsed": true
   },
   "outputs": [],
   "source": []
  }
 ],
 "metadata": {
  "celltoolbar": "Tags",
  "kernelspec": {
   "display_name": "Python 3",
   "language": "python",
   "name": "python3"
  },
  "language_info": {
   "codemirror_mode": {
    "name": "ipython",
    "version": 3
   },
   "file_extension": ".py",
   "mimetype": "text/x-python",
   "name": "python",
   "nbconvert_exporter": "python",
   "pygments_lexer": "ipython3",
   "version": "3.8.8"
  }
 },
 "nbformat": 4,
 "nbformat_minor": 2
}
