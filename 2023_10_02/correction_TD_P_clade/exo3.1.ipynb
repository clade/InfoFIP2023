{
 "cells": [
  {
   "cell_type": "code",
   "execution_count": 2,
   "id": "943acbcf",
   "metadata": {},
   "outputs": [],
   "source": [
    "from scipy.optimize import curve_fit"
   ]
  },
  {
   "cell_type": "code",
   "execution_count": 8,
   "id": "78c5d970",
   "metadata": {},
   "outputs": [
    {
     "name": "stdout",
     "output_type": "stream",
     "text": [
      "[ 1.08348182e+00 -2.12175517e+03]\n"
     ]
    },
    {
     "data": {
      "text/plain": [
       "[<matplotlib.lines.Line2D at 0x7f0cd38b10a0>]"
      ]
     },
     "execution_count": 8,
     "metadata": {},
     "output_type": "execute_result"
    },
    {
     "data": {
      "image/png": "[encoded data removed]",
      "text/plain": [
       "<Figure size 432x288 with 1 Axes>"
      ]
     },
     "metadata": {
      "needs_background": "light"
     },
     "output_type": "display_data"
    }
   ],
   "source": [
    "import numpy as np\n",
    "import matplotlib.pyplot as plt\n",
    "\n",
    "np.random.seed(0) # pour que le générateur \"aléatoire\" soit \n",
    "                  # le même pour tout le monde\n",
    "N = 100\n",
    "x = np.linspace(2000, 2018, N)\n",
    "y = np.arange(N)*0.2 + 45 + np.random.normal(size=N)\n",
    "\n",
    "plt.plot(x, y, 'o');\n",
    "\n",
    "def f(x, a, b):\n",
    "    return a*x + b\n",
    "\n",
    "popt, pcov = curve_fit(f, x, y)\n",
    "print(popt)\n",
    "\n",
    "plt.plot(x, f(x, popt[0], popt[1]))\n"
   ]
  },
  {
   "cell_type": "code",
   "execution_count": 4,
   "id": "f42c0690",
   "metadata": {},
   "outputs": [
    {
     "data": {
      "text/plain": [
       "array([ 1.08348182e+00, -2.12175517e+03])"
      ]
     },
     "execution_count": 4,
     "metadata": {},
     "output_type": "execute_result"
    }
   ],
   "source": []
  },
  {
   "cell_type": "code",
   "execution_count": 5,
   "id": "62996f67",
   "metadata": {},
   "outputs": [
    {
     "data": {
      "text/plain": [
       "array([[ 3.73523915e-04, -7.50409536e-01],\n",
       "       [-7.50409536e-01,  1.50758303e+03]])"
      ]
     },
     "execution_count": 5,
     "metadata": {},
     "output_type": "execute_result"
    }
   ],
   "source": [
    "pcov"
   ]
  },
  {
   "cell_type": "code",
   "execution_count": 11,
   "id": "487114f6",
   "metadata": {},
   "outputs": [
    {
     "data": {
      "text/plain": [
       "-0.999996587616246"
      ]
     },
     "execution_count": 11,
     "metadata": {},
     "output_type": "execute_result"
    }
   ],
   "source": [
    "pcov[0, 1]/np.sqrt(pcov[0, 0]*pcov[1, 1])"
   ]
  },
  {
   "cell_type": "code",
   "execution_count": 42,
   "id": "e0318f1f",
   "metadata": {},
   "outputs": [
    {
     "name": "stdout",
     "output_type": "stream",
     "text": [
      "0.019749191412580896\n",
      "39.67626120659922\n"
     ]
    }
   ],
   "source": [
    "sigma_b = np.sqrt(pcov[1, 1])\n",
    "sigma_a = np.sqrt(pcov[0, 0])\n",
    "print(sigma_a)\n",
    "print(sigma_b)\n"
   ]
  },
  {
   "cell_type": "code",
   "execution_count": 15,
   "id": "994a8a19",
   "metadata": {},
   "outputs": [
    {
     "data": {
      "text/plain": [
       "66.87810806440802"
      ]
     },
     "execution_count": 15,
     "metadata": {},
     "output_type": "execute_result"
    }
   ],
   "source": [
    "f(2020, *popt)"
   ]
  },
  {
   "cell_type": "code",
   "execution_count": 18,
   "id": "e1f343fb",
   "metadata": {},
   "outputs": [
    {
     "data": {
      "text/plain": [
       "54.92410215981484"
      ]
     },
     "execution_count": 18,
     "metadata": {},
     "output_type": "execute_result"
    }
   ],
   "source": [
    "# Ce qu'il ne faut pas faire \n",
    "x_e = 2010\n",
    "sigma_x = np.sqrt(sigma_a**2 * x_e**2 + sigma_b**2)\n",
    "sigma_x"
   ]
  },
  {
   "cell_type": "code",
   "execution_count": 21,
   "id": "f34b6b24",
   "metadata": {},
   "outputs": [
    {
     "data": {
      "text/plain": [
       "0.10325902607003734"
      ]
     },
     "execution_count": 21,
     "metadata": {},
     "output_type": "execute_result"
    }
   ],
   "source": [
    "# Ce qu'il faut faire \n",
    "x_e = 2010\n",
    "sigma_x = np.sqrt(sigma_a**2 * x_e**2 + sigma_b**2 + 2*x_e*pcov[0, 1])\n",
    "sigma_x"
   ]
  },
  {
   "cell_type": "code",
   "execution_count": 37,
   "id": "7840223a",
   "metadata": {},
   "outputs": [],
   "source": [
    "M = 100000\n",
    "\n",
    "res = []\n",
    "for _ in range(1000):\n",
    "    y = np.arange(N)*0.2 + 45 + np.random.normal(size=N)\n",
    "\n",
    "    popt, pcov = curve_fit(f, x, y)\n",
    "#    print(popt)\n",
    "    res.append(popt)\n",
    "res = np.array(res)"
   ]
  },
  {
   "cell_type": "code",
   "execution_count": 38,
   "id": "e4f40663",
   "metadata": {},
   "outputs": [
    {
     "data": {
      "text/plain": [
       "array([[ 1.09395116e+00, -2.14290185e+03],\n",
       "       [ 1.10572131e+00, -2.16666747e+03],\n",
       "       [ 1.08892953e+00, -2.13292432e+03],\n",
       "       ...,\n",
       "       [ 1.10292131e+00, -2.16087202e+03],\n",
       "       [ 1.12578113e+00, -2.20673719e+03],\n",
       "       [ 1.11218413e+00, -2.17960053e+03]])"
      ]
     },
     "execution_count": 38,
     "metadata": {},
     "output_type": "execute_result"
    }
   ],
   "source": [
    "res"
   ]
  },
  {
   "cell_type": "code",
   "execution_count": 39,
   "id": "90d86f00",
   "metadata": {},
   "outputs": [
    {
     "data": {
      "text/plain": [
       "36.71255987019267"
      ]
     },
     "execution_count": 39,
     "metadata": {},
     "output_type": "execute_result"
    }
   ],
   "source": [
    "res[:,1].std()"
   ]
  },
  {
   "cell_type": "code",
   "execution_count": 41,
   "id": "25c18b94",
   "metadata": {},
   "outputs": [
    {
     "data": {
      "text/plain": [
       "0.01827295671787489"
      ]
     },
     "execution_count": 41,
     "metadata": {},
     "output_type": "execute_result"
    }
   ],
   "source": [
    "res[:,0].std()"
   ]
  },
  {
   "cell_type": "code",
   "execution_count": 44,
   "id": "075e4b98",
   "metadata": {},
   "outputs": [
    {
     "data": {
      "text/plain": [
       "<matplotlib.collections.PathCollection at 0x7f0cd3a6a6a0>"
      ]
     },
     "execution_count": 44,
     "metadata": {},
     "output_type": "execute_result"
    },
    {
     "data": {
      "image/png": "[encoded data removed]",
      "text/plain": [
       "<Figure size 432x288 with 1 Axes>"
      ]
     },
     "metadata": {
      "needs_background": "light"
     },
     "output_type": "display_data"
    }
   ],
   "source": [
    "plt.scatter(res[:,0], res[:,1])"
   ]
  },
  {
   "cell_type": "code",
   "execution_count": 46,
   "id": "f29d2650",
   "metadata": {},
   "outputs": [
    {
     "data": {
      "text/plain": [
       "array([[ 3.34235182e-04, -6.71516317e-01],\n",
       "       [-6.71516317e-01,  1.34916121e+03]])"
      ]
     },
     "execution_count": 46,
     "metadata": {},
     "output_type": "execute_result"
    }
   ],
   "source": [
    "np.cov(res[:,0], res[:,1])"
   ]
  },
  {
   "cell_type": "code",
   "execution_count": 49,
   "id": "38cf327d",
   "metadata": {},
   "outputs": [
    {
     "data": {
      "text/plain": [
       "-0.6708448011078576"
      ]
     },
     "execution_count": 49,
     "metadata": {},
     "output_type": "execute_result"
    }
   ],
   "source": [
    "np.mean( (res[:,0] - res[:,0].mean())*(res[:,1] - res[:,1].mean()))"
   ]
  },
  {
   "cell_type": "code",
   "execution_count": 50,
   "id": "51588efe",
   "metadata": {},
   "outputs": [
    {
     "name": "stdout",
     "output_type": "stream",
     "text": [
      "[ 1.08348184 56.04328986]\n"
     ]
    },
    {
     "data": {
      "text/plain": [
       "[<matplotlib.lines.Line2D at 0x7f0cd6db9cd0>]"
      ]
     },
     "execution_count": 50,
     "metadata": {},
     "output_type": "execute_result"
    },
    {
     "data": {
      "image/png": "[encoded data removed]",
      "text/plain": [
       "<Figure size 432x288 with 1 Axes>"
      ]
     },
     "metadata": {
      "needs_background": "light"
     },
     "output_type": "display_data"
    }
   ],
   "source": [
    "np.random.seed(0) # pour que le générateur \"aléatoire\" soit \n",
    "                  # le même pour tout le monde\n",
    "N = 100\n",
    "x = np.linspace(2000, 2018, N)\n",
    "y = np.arange(N)*0.2 + 45 + np.random.normal(size=N)\n",
    "\n",
    "plt.plot(x, y, 'o');\n",
    "\n",
    "def f(x, a, b):\n",
    "    return a*(x-2010) + b\n",
    "\n",
    "popt, pcov = curve_fit(f, x, y)\n",
    "print(popt)\n",
    "\n",
    "plt.plot(x, f(x, popt[0], popt[1]))\n"
   ]
  },
  {
   "cell_type": "code",
   "execution_count": 51,
   "id": "49c215dc",
   "metadata": {},
   "outputs": [
    {
     "data": {
      "text/plain": [
       "array([[0.00037352, 0.00037352],\n",
       "       [0.00037352, 0.01066241]])"
      ]
     },
     "execution_count": 51,
     "metadata": {},
     "output_type": "execute_result"
    }
   ],
   "source": [
    "pcov"
   ]
  },
  {
   "cell_type": "code",
   "execution_count": 52,
   "id": "9f664863",
   "metadata": {},
   "outputs": [
    {
     "data": {
      "text/plain": [
       "0.18716796679887945"
      ]
     },
     "execution_count": 52,
     "metadata": {},
     "output_type": "execute_result"
    }
   ],
   "source": [
    "pcov[0, 1]/np.sqrt(pcov[0, 0]*pcov[1, 1])"
   ]
  },
  {
   "cell_type": "code",
   "execution_count": 53,
   "id": "c0a28f53",
   "metadata": {},
   "outputs": [],
   "source": [
    "M = 100000\n",
    "\n",
    "res = []\n",
    "for _ in range(1000):\n",
    "    y = np.arange(N)*0.2 + 45 + np.random.normal(size=N)\n",
    "\n",
    "    popt, pcov = curve_fit(f, x, y)\n",
    "#    print(popt)\n",
    "    res.append(popt)\n",
    "res = np.array(res)"
   ]
  },
  {
   "cell_type": "code",
   "execution_count": 54,
   "id": "b7e21df2",
   "metadata": {},
   "outputs": [
    {
     "data": {
      "text/plain": [
       "<matplotlib.collections.PathCollection at 0x7f0cd2fdee20>"
      ]
     },
     "execution_count": 54,
     "metadata": {},
     "output_type": "execute_result"
    },
    {
     "data": {
      "image/png": "[encoded data removed]",
      "text/plain": [
       "<Figure size 432x288 with 1 Axes>"
      ]
     },
     "metadata": {
      "needs_background": "light"
     },
     "output_type": "display_data"
    }
   ],
   "source": [
    "plt.scatter(res[:,0], res[:,1])"
   ]
  },
  {
   "cell_type": "code",
   "execution_count": null,
   "id": "1d930472",
   "metadata": {},
   "outputs": [],
   "source": []
  }
 ],
 "metadata": {
  "kernelspec": {
   "display_name": "Python 3",
   "language": "python",
   "name": "python3"
  },
  "language_info": {
   "codemirror_mode": {
    "name": "ipython",
    "version": 3
   },
   "file_extension": ".py",
   "mimetype": "text/x-python",
   "name": "python",
   "nbconvert_exporter": "python",
   "pygments_lexer": "ipython3",
   "version": "3.8.8"
  },
  "varInspector": {
   "cols": {
    "lenName": 16,
    "lenType": 16,
    "lenVar": 40
   },
   "kernels_config": {
    "python": {
     "delete_cmd_postfix": "",
     "delete_cmd_prefix": "del ",
     "library": "var_list.py",
     "varRefreshCmd": "print(var_dic_list())"
    },
    "r": {
     "delete_cmd_postfix": ") ",
     "delete_cmd_prefix": "rm(",
     "library": "var_list.r",
     "varRefreshCmd": "cat(var_dic_list()) "
    }
   },
   "types_to_exclude": [
    "module",
    "function",
    "builtin_function_or_method",
    "instance",
    "_Feature"
   ],
   "window_display": false
  }
 },
 "nbformat": 4,
 "nbformat_minor": 5
}
