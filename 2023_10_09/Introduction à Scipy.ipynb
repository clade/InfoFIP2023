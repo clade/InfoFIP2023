{
 "cells": [
  {
   "cell_type": "code",
   "execution_count": 2,
   "metadata": {},
   "outputs": [],
   "source": [
    "%matplotlib inline\n",
    "import matplotlib.pyplot as plt"
   ]
  },
  {
   "cell_type": "markdown",
   "metadata": {},
   "source": [
    "# Introduction à Scipy\n",
    "\n",
    "Scipy contient des implémentations de plusieurs algorithmes numérique : \n",
    "* Fonctions spéciales\n",
    "* Intégrales\n",
    "* Equations différentielles\n",
    "* Optimisation\n",
    "* Algebre linéaires\n",
    "* Transformée de Fourier"
   ]
  },
  {
   "cell_type": "markdown",
   "metadata": {},
   "source": [
    "## Fonctions spéciales\n",
    "\n",
    "Fonctions qui ne sont pas dans numpy : Bessel, Airy, fonction d'erreur, ... (Ce sont des fonctions définies par des intégrales)\n",
    "\n",
    "Exemple : fonction erreur\n",
    "    $$ \\mathrm{erf}(x) = \\int_0^x \\frac{2}{\\sqrt{\\pi}} e^{-t^2} dt$$"
   ]
  },
  {
   "cell_type": "code",
   "execution_count": 3,
   "metadata": {},
   "outputs": [
    {
     "data": {
      "text/plain": [
       "0.8427007929497148"
      ]
     },
     "execution_count": 3,
     "metadata": {},
     "output_type": "execute_result"
    }
   ],
   "source": [
    "from scipy.special import erf\n",
    "\n",
    "erf(1)"
   ]
  },
  {
   "cell_type": "markdown",
   "metadata": {},
   "source": [
    "## Intégrales numériques\n",
    "\n",
    "### Intégrale d'une fonction : \n",
    "\n",
    "Il existe plusieurs algorithme. Le plus simple : ``quad``\n",
    "\n"
   ]
  },
  {
   "cell_type": "code",
   "execution_count": 4,
   "metadata": {},
   "outputs": [],
   "source": [
    "import numpy as np\n",
    "from scipy.integrate import quad"
   ]
  },
  {
   "cell_type": "code",
   "execution_count": 5,
   "metadata": {},
   "outputs": [],
   "source": [
    "quad?"
   ]
  },
  {
   "cell_type": "code",
   "execution_count": 6,
   "metadata": {},
   "outputs": [
    {
     "name": "stdout",
     "output_type": "stream",
     "text": [
      "0.8427007929497149\n",
      "1.1102230246251565e-16\n"
     ]
    }
   ],
   "source": [
    "def ma_fonction(t):\n",
    "    return 2/np.sqrt(np.pi)*np.exp(-t**2)\n",
    "\n",
    "# Renvoie la valeur et une estimation de l'incertitude\n",
    "res, err = quad(ma_fonction, 0, 1)\n",
    "print(res)\n",
    "print(res - erf(1))"
   ]
  },
  {
   "cell_type": "code",
   "execution_count": 7,
   "metadata": {},
   "outputs": [
    {
     "data": {
      "text/plain": [
       "(0.5491762723634688, 6.09708142155739e-15)"
      ]
     },
     "execution_count": 7,
     "metadata": {},
     "output_type": "execute_result"
    }
   ],
   "source": [
    "def ma_fonction(t, sigma):\n",
    "    return np.exp(-t**2/(2*sigma**2))\n",
    "\n",
    "quad(ma_fonction, 0, 1, args=(0.45,))\n"
   ]
  },
  {
   "cell_type": "markdown",
   "metadata": {},
   "source": [
    "### Remarques\n",
    "\n",
    "**Si on connait la fonction, ne pas en faire un tableau**\n",
    "\n",
    "La fonction quad calcul automatiquement les points pour l'intégrale afin d'atteintre une erreur donnée\n",
    "\n",
    "La fonction quad peut intégrer sur des bornes infinies (``np.inf``)"
   ]
  },
  {
   "cell_type": "code",
   "execution_count": 11,
   "metadata": {},
   "outputs": [
    {
     "name": "stdout",
     "output_type": "stream",
     "text": [
      "1.0\n",
      "Nombre de points : 135\n",
      "Erreur : 0.0\n"
     ]
    }
   ],
   "source": [
    "list_of_points = []\n",
    "def ma_fonction(t):\n",
    "    list_of_points.append(t)\n",
    "    return 2/np.sqrt(np.pi)*np.exp(-t**2)\n",
    "res, err = quad(ma_fonction, 0, np.inf)\n",
    "print(res)\n",
    "print(\"Nombre de points :\" , len(list_of_points))\n",
    "#print(list_of_points)\n",
    "print(\"Erreur :\", np.abs(res - 1 ))"
   ]
  },
  {
   "cell_type": "code",
   "execution_count": 12,
   "metadata": {},
   "outputs": [
    {
     "name": "stdout",
     "output_type": "stream",
     "text": [
      "135\n"
     ]
    }
   ],
   "source": [
    "print(len(list_of_points))"
   ]
  },
  {
   "cell_type": "code",
   "execution_count": 17,
   "metadata": {},
   "outputs": [
    {
     "name": "stdout",
     "output_type": "stream",
     "text": [
      "40.99601281916947\n",
      "Nombre de points : 1485\n",
      "Erreur : 39.99601281916947\n"
     ]
    },
    {
     "name": "stderr",
     "output_type": "stream",
     "text": [
      "<ipython-input-17-0b027cf4276a>:5: IntegrationWarning: The maximum number of subdivisions (50) has been achieved.\n",
      "  If increasing the limit yields no improvement it is advised to analyze \n",
      "  the integrand in order to determine the difficulties.  If the position of a \n",
      "  local difficulty can be determined (singularity, discontinuity) one will \n",
      "  probably gain from splitting up the interval and calling the integrator \n",
      "  on the subranges.  Perhaps a special-purpose integrator should be used.\n",
      "  res, err = quad(ma_fonction, 0, np.inf)\n"
     ]
    }
   ],
   "source": [
    "list_of_points = []\n",
    "def ma_fonction(t):\n",
    "    list_of_points.append(t)\n",
    "    return t/(1+t**2)\n",
    "res, err = quad(ma_fonction, 0, np.inf)\n",
    "print(res)\n",
    "print(\"Nombre de points :\" , len(list_of_points))\n",
    "#print(list_of_points)\n",
    "print(\"Erreur :\", np.abs(res - 1 ))"
   ]
  },
  {
   "cell_type": "code",
   "execution_count": null,
   "metadata": {},
   "outputs": [],
   "source": []
  },
  {
   "cell_type": "markdown",
   "metadata": {},
   "source": [
    "### Intégrales d'un tableau de points\n",
    "\n",
    "Utiliser la fonction trapz ou simps"
   ]
  },
  {
   "cell_type": "code",
   "execution_count": 19,
   "metadata": {},
   "outputs": [
    {
     "data": {
      "text/plain": [
       "11.5"
      ]
     },
     "execution_count": 19,
     "metadata": {},
     "output_type": "execute_result"
    },
    {
     "data": {
      "image/png": "[encoded data removed]",
      "text/plain": [
       "<Figure size 432x288 with 1 Axes>"
      ]
     },
     "metadata": {
      "needs_background": "light"
     },
     "output_type": "display_data"
    }
   ],
   "source": [
    "from scipy.integrate import trapz\n",
    "\n",
    "data_y = [0, 1, 2, 4, 8]\n",
    "data_x = [0, 2, 3, 4, 5]\n",
    "\n",
    "plt.plot(data_x, data_y)\n",
    "plt.fill_between(data_x, data_y, alpha=.5)\n",
    "\n",
    "trapz(data_y, data_x)"
   ]
  },
  {
   "cell_type": "markdown",
   "metadata": {},
   "source": [
    "## Equations différentielles\n",
    "\n",
    "La librairie ``scipy.integrate`` contient des fonctions pour résoudre les équations différentielles ordinaires, c'est à dire des équations de la forme:\n",
    "\n",
    "$$\\frac{dy}{dt} = f(t, y)$$\n",
    "    \n",
    "avec conditions initiales (on connait $y$ à l'instant $t_0$). La variable $y$ peut être un tableau numpy.\n",
    "\n",
    "On utilise la fonction ``solve_ivp`` (remplace ``ode`` ou ``odeint``): \n",
    "\n",
    "    def solve_ivp(fun, t_span, y0, method='RK45', t_eval=None, ...)\n",
    "    \n",
    "Il existe plusieurs méthodes d'intégration (par défaut Runge-Kutta d'ordre 5(4) qui adapte la taille des pas)\n",
    "\n",
    "La fonction ``solve_ivp`` renvoie un objet (dictionnaire) qui le résultat (res.y) mais aussi d'autres informations sur la convergence de l'algorithme.\n",
    "\n",
    "Exemple : \n",
    "$$\\frac{dy}{dt} = -y$$    \n",
    "\n"
   ]
  },
  {
   "cell_type": "code",
   "execution_count": 22,
   "metadata": {},
   "outputs": [
    {
     "data": {
      "text/plain": [
       "  message: The solver successfully reached the end of the integration interval.\n",
       "  success: True\n",
       "   status: 0\n",
       "        t: [ 0.000e+00  4.000e-01  8.000e-01  1.200e+00  1.600e+00\n",
       "             2.000e+00  2.400e+00  2.800e+00  3.200e+00  3.600e+00\n",
       "             4.000e+00]\n",
       "        y: [[ 1.000e+00  6.703e-01  4.493e-01  3.012e-01  2.019e-01\n",
       "              1.353e-01  9.072e-02  6.081e-02  4.076e-02  2.732e-02\n",
       "              1.832e-02]]\n",
       "      sol: None\n",
       " t_events: None\n",
       " y_events: None\n",
       "     nfev: 122\n",
       "     njev: 0\n",
       "      nlu: 0"
      ]
     },
     "execution_count": 22,
     "metadata": {},
     "output_type": "execute_result"
    }
   ],
   "source": [
    "from scipy.integrate import solve_ivp\n",
    "# Solve initial value problem\n",
    "\n",
    "def f(t, y):\n",
    "    return -y\n",
    "\n",
    "res = solve_ivp(f, t_span=[0, 4], y0=[1], t_eval=np.linspace(0, 4, 11), \n",
    "                rtol=1E-7, atol=1E-7)\n",
    "res"
   ]
  },
  {
   "cell_type": "code",
   "execution_count": 23,
   "metadata": {},
   "outputs": [
    {
     "data": {
      "text/plain": [
       "[<matplotlib.lines.Line2D at 0x7f7c7ea417c0>]"
      ]
     },
     "execution_count": 23,
     "metadata": {},
     "output_type": "execute_result"
    },
    {
     "data": {
      "image/png": "[encoded data removed]",
      "text/plain": [
       "<Figure size 432x288 with 1 Axes>"
      ]
     },
     "metadata": {
      "needs_background": "light"
     },
     "output_type": "display_data"
    }
   ],
   "source": [
    "plt.plot(res.t, res.y[0], 'o')"
   ]
  },
  {
   "cell_type": "code",
   "execution_count": 24,
   "metadata": {},
   "outputs": [
    {
     "data": {
      "text/plain": [
       "1.7731305576584866e-08"
      ]
     },
     "execution_count": 24,
     "metadata": {},
     "output_type": "execute_result"
    }
   ],
   "source": [
    "res.y[0, -1] - np.exp(-4)"
   ]
  },
  {
   "cell_type": "code",
   "execution_count": 15,
   "metadata": {},
   "outputs": [
    {
     "data": {
      "text/plain": [
       "11"
      ]
     },
     "execution_count": 15,
     "metadata": {},
     "output_type": "execute_result"
    }
   ],
   "source": [
    "len(res.t)"
   ]
  },
  {
   "cell_type": "code",
   "execution_count": 16,
   "metadata": {},
   "outputs": [
    {
     "data": {
      "text/plain": [
       "  message: 'The solver successfully reached the end of the integration interval.'\n",
       "     nfev: 140\n",
       "     njev: 0\n",
       "      nlu: 0\n",
       "      sol: None\n",
       "   status: 0\n",
       "  success: True\n",
       "        t: array([0. , 0.4, 0.8, 1.2, 1.6, 2. , 2.4, 2.8, 3.2, 3.6, 4. ])\n",
       " t_events: None\n",
       "        y: array([[ 1.00000000e+00,  1.83531441e-02,  3.36575782e-04,\n",
       "         6.25529975e-06,  1.60535093e-07,  1.43992293e-07,\n",
       "         9.50371941e-07,  7.83634365e-09, -2.64102615e-07,\n",
       "        -4.41883282e-07,  2.53752885e-07]])\n",
       " y_events: None"
      ]
     },
     "execution_count": 16,
     "metadata": {},
     "output_type": "execute_result"
    }
   ],
   "source": [
    "# Utilisation d'un paramètre \n",
    "def f(t, y, tau):\n",
    "    return -y/tau\n",
    "\n",
    "res = solve_ivp(lambda t, y:f(t, y, tau=0.1), t_span=[0, 4], y0=[1], t_eval=np.linspace(0, 4, 11))\n",
    "res"
   ]
  },
  {
   "cell_type": "markdown",
   "metadata": {},
   "source": [
    "## Equations différentielles d'ordre élevé\n",
    "\n",
    "L'astuce consiste à augmenter la dimension de $y$ en rajoutant des fonctions intermédiaires qui sont les dérivées de la fonction initiale.\n",
    "\n",
    "Par exemple l'équation \n",
    "\n",
    "$$\\frac{d^2y}{dt^2} = \\frac{f(y)}{m}$$\n",
    "\n",
    "devient \n",
    "\n",
    "$$\\frac d{dt} \\begin{pmatrix}\n",
    "y \\\\ \n",
    "y ^\\prime\n",
    "\\end{pmatrix} = \\begin{pmatrix}\n",
    "y ^\\prime \\\\\n",
    "f(y)/m\n",
    "\\end{pmatrix} = F(y, y^\\prime)$$\n",
    "\n",
    "\n",
    "Voir le TD"
   ]
  },
  {
   "cell_type": "markdown",
   "metadata": {},
   "source": [
    "# Optimisation\n",
    "* Zeros d'une fonction\n",
    "* Minimum\n",
    "* Ajustement d'une courbe\n",
    "\n",
    "Exemple : \n",
    "* première solution $>0$ de $\\tan(x)=x$\n",
    "* Premier minimum de $sinc(x)$"
   ]
  },
  {
   "cell_type": "code",
   "execution_count": 17,
   "metadata": {},
   "outputs": [
    {
     "data": {
      "text/plain": [
       "(-10.0, 10.0)"
      ]
     },
     "execution_count": 17,
     "metadata": {},
     "output_type": "execute_result"
    },
    {
     "data": {
      "image/png": "[encoded data removed]",
      "text/plain": [
       "<Figure size 432x288 with 1 Axes>"
      ]
     },
     "metadata": {
      "needs_background": "light"
     },
     "output_type": "display_data"
    }
   ],
   "source": [
    "x = np.linspace(0, 10, 2001)\n",
    "plt.plot(x, x)\n",
    "plt.plot(x, np.tan(x))\n",
    "plt.ylim(-10, 10)"
   ]
  },
  {
   "cell_type": "code",
   "execution_count": 25,
   "metadata": {},
   "outputs": [
    {
     "data": {
      "text/plain": [
       "      converged: True\n",
       "           flag: 'converged'\n",
       " function_calls: 12\n",
       "     iterations: 11\n",
       "           root: 4.493409457909064"
      ]
     },
     "execution_count": 25,
     "metadata": {},
     "output_type": "execute_result"
    }
   ],
   "source": [
    "from scipy.optimize import root_scalar\n",
    "\n",
    "def f(x):\n",
    "    return np.tan(x) - x\n",
    "\n",
    "res = root_scalar(f, bracket=[4, 4.7], method='brentq')\n",
    "res"
   ]
  },
  {
   "cell_type": "code",
   "execution_count": 28,
   "metadata": {},
   "outputs": [
    {
     "data": {
      "text/plain": [
       "4.493409457909064"
      ]
     },
     "execution_count": 28,
     "metadata": {},
     "output_type": "execute_result"
    },
    {
     "data": {
      "image/png": "[encoded data removed]",
      "text/plain": [
       "<Figure size 432x288 with 1 Axes>"
      ]
     },
     "metadata": {
      "needs_background": "light"
     },
     "output_type": "display_data"
    }
   ],
   "source": [
    "x = np.linspace(0, 10, 2001)\n",
    "plt.plot(x, x)\n",
    "plt.plot(x, np.tan(x))\n",
    "plt.ylim(-10, 10)\n",
    "plt.plot(res.root, [f(res.root)+res.root], 'o')\n",
    "\n",
    "res.root"
   ]
  },
  {
   "cell_type": "markdown",
   "metadata": {},
   "source": [
    "### Minimisation"
   ]
  },
  {
   "cell_type": "code",
   "execution_count": 29,
   "metadata": {},
   "outputs": [],
   "source": [
    "def french_sinc(x):\n",
    "    return np.sinc(x/np.pi)"
   ]
  },
  {
   "cell_type": "code",
   "execution_count": 30,
   "metadata": {
    "scrolled": true
   },
   "outputs": [
    {
     "data": {
      "image/png": "[encoded data removed]",
      "text/plain": [
       "<Figure size 432x288 with 1 Axes>"
      ]
     },
     "metadata": {
      "needs_background": "light"
     },
     "output_type": "display_data"
    }
   ],
   "source": [
    "plt.plot(x, french_sinc(x))\n",
    "plt.grid()"
   ]
  },
  {
   "cell_type": "code",
   "execution_count": 34,
   "metadata": {},
   "outputs": [],
   "source": [
    "from scipy.optimize import minimize_scalar\n",
    "minimize_scalar?"
   ]
  },
  {
   "cell_type": "code",
   "execution_count": 32,
   "metadata": {},
   "outputs": [
    {
     "data": {
      "text/plain": [
       " message: \n",
       "          Optimization terminated successfully;\n",
       "          The returned value satisfies the termination criteria\n",
       "          (using xtol = 1.48e-08 )\n",
       " success: True\n",
       "     fun: -0.21723362821122166\n",
       "       x: 4.4934094607238\n",
       "     nit: 9\n",
       "    nfev: 12"
      ]
     },
     "execution_count": 32,
     "metadata": {},
     "output_type": "execute_result"
    }
   ],
   "source": [
    "res = minimize_scalar(french_sinc, [4, 4.71])\n",
    "res"
   ]
  },
  {
   "cell_type": "code",
   "execution_count": 33,
   "metadata": {},
   "outputs": [
    {
     "data": {
      "text/plain": [
       "[<matplotlib.lines.Line2D at 0x7f7c7e8a81f0>]"
      ]
     },
     "execution_count": 33,
     "metadata": {},
     "output_type": "execute_result"
    },
    {
     "data": {
      "image/png": "[encoded data removed]",
      "text/plain": [
       "<Figure size 432x288 with 1 Axes>"
      ]
     },
     "metadata": {
      "needs_background": "light"
     },
     "output_type": "display_data"
    }
   ],
   "source": [
    "plt.plot(x, french_sinc(x))\n",
    "plt.grid()\n",
    "plt.plot(res.x, res.fun, 'ko')"
   ]
  },
  {
   "cell_type": "code",
   "execution_count": 25,
   "metadata": {},
   "outputs": [
    {
     "data": {
      "text/plain": [
       "[<matplotlib.lines.Line2D at 0x7f8a26f8ba60>]"
      ]
     },
     "execution_count": 25,
     "metadata": {},
     "output_type": "execute_result"
    },
    {
     "data": {
      "image/png": "[encoded data removed]",
      "text/plain": [
       "<Figure size 432x288 with 1 Axes>"
      ]
     },
     "metadata": {
      "needs_background": "light"
     },
     "output_type": "display_data"
    }
   ],
   "source": [
    "x = np.linspace(0, 30, 2001)\n",
    "plt.plot(x, french_sinc(x))\n",
    "plt.grid()\n",
    "res = minimize_scalar(french_sinc, [10, 205])\n",
    "plt.plot(res.x, res.fun, 'ko')"
   ]
  },
  {
   "cell_type": "markdown",
   "metadata": {},
   "source": [
    "# Algèbre linéaire\n",
    "\n",
    "numpy.linalg et scipy.linalg (plus de fonction dans scipy)\n",
    "\n",
    "* Matrice : np.matrix (produit matriciel)\n",
    "* Inverse de matrice\n",
    "* Diagonalisation/valeurs propres/vecteurs propres\n",
    "\n",
    "Exemple: valeurs propres de \n",
    "$$\\begin{bmatrix}\n",
    "1 & 1 & 0\\\\\n",
    "1 & 0 & 1 \\\\\n",
    "0  & 1 & -1\\\\\n",
    "\\end{bmatrix}$$\n",
    "\n",
    "Tracer les vp en fonction de $\\delta$ pour $\\Omega=1$\n",
    "$$\\begin{bmatrix}\n",
    "\\delta & \\frac\\Omega2 & 0\\\\\n",
    "\\frac\\Omega2 & 0 & \\frac\\Omega2 \\\\\n",
    "0  & \\frac\\Omega2 & -\\delta\\\\\n",
    "\\end{bmatrix}$$"
   ]
  },
  {
   "cell_type": "code",
   "execution_count": 38,
   "metadata": {},
   "outputs": [
    {
     "data": {
      "text/plain": [
       "matrix([[1, 1],\n",
       "        [1, 2]])"
      ]
     },
     "execution_count": 38,
     "metadata": {},
     "output_type": "execute_result"
    }
   ],
   "source": [
    "import numpy as np\n",
    "\n",
    "a = np.array([[0, 1], [1, 1]])\n",
    "a*a\n",
    "a@a\n",
    "\n",
    "a = np.matrix([[0, 1], [1, 1]])\n",
    "a*a"
   ]
  },
  {
   "cell_type": "code",
   "execution_count": 39,
   "metadata": {},
   "outputs": [
    {
     "data": {
      "text/plain": [
       "matrix([[ 1,  1,  0],\n",
       "        [ 1,  0,  1],\n",
       "        [ 0,  1, -1]])"
      ]
     },
     "execution_count": 39,
     "metadata": {},
     "output_type": "execute_result"
    }
   ],
   "source": [
    "H = np.matrix([[1, 1, 0], [1, 0, 1], [0, 1, -1]])\n",
    "H"
   ]
  },
  {
   "cell_type": "code",
   "execution_count": 40,
   "metadata": {},
   "outputs": [
    {
     "data": {
      "text/plain": [
       "(array([-1.73205081,  0.        ,  1.73205081]),\n",
       " array([[-0.21132487, -0.57735027,  0.78867513],\n",
       "        [ 0.57735027,  0.57735027,  0.57735027],\n",
       "        [-0.78867513,  0.57735027,  0.21132487]]))"
      ]
     },
     "execution_count": 40,
     "metadata": {},
     "output_type": "execute_result"
    }
   ],
   "source": [
    "from scipy.linalg import eigh # Matrice hermicienne\n",
    "\n",
    "eigh(H) # Renvoie les valeurs propres et vecteurs propres"
   ]
  },
  {
   "cell_type": "code",
   "execution_count": 41,
   "metadata": {},
   "outputs": [],
   "source": [
    "def trois_niveaux(delta, omega):\n",
    "    H = np.matrix([[delta, omega/2, 0], [omega/2, 0, omega/2], [0, omega/2, -delta]])\n",
    "    return eigh(H)[0]\n",
    "    \n",
    "all_delta = np.linspace(-5, 5)\n",
    "sans_couplage = np.array([trois_niveaux(delta, omega=0) for delta in all_delta])\n",
    "avec_couplage = np.array([trois_niveaux(delta, omega=1) for delta in all_delta])"
   ]
  },
  {
   "cell_type": "code",
   "execution_count": 32,
   "metadata": {},
   "outputs": [
    {
     "data": {
      "text/plain": [
       "[<matplotlib.lines.Line2D at 0x7f8a271d8c70>,\n",
       " <matplotlib.lines.Line2D at 0x7f8a271d8e20>,\n",
       " <matplotlib.lines.Line2D at 0x7f8a271d8cd0>]"
      ]
     },
     "execution_count": 32,
     "metadata": {},
     "output_type": "execute_result"
    },
    {
     "data": {
      "image/png": "[encoded data removed]",
      "text/plain": [
       "<Figure size 432x288 with 1 Axes>"
      ]
     },
     "metadata": {
      "needs_background": "light"
     },
     "output_type": "display_data"
    }
   ],
   "source": [
    "plt.plot(all_delta, sans_couplage, 'k:')\n",
    "plt.plot(all_delta, avec_couplage, 'k-')"
   ]
  },
  {
   "cell_type": "code",
   "execution_count": null,
   "metadata": {},
   "outputs": [],
   "source": []
  }
 ],
 "metadata": {
  "kernelspec": {
   "display_name": "Python 3",
   "language": "python",
   "name": "python3"
  },
  "language_info": {
   "codemirror_mode": {
    "name": "ipython",
    "version": 3
   },
   "file_extension": ".py",
   "mimetype": "text/x-python",
   "name": "python",
   "nbconvert_exporter": "python",
   "pygments_lexer": "ipython3",
   "version": "3.8.8"
  },
  "varInspector": {
   "cols": {
    "lenName": 16,
    "lenType": 16,
    "lenVar": 40
   },
   "kernels_config": {
    "python": {
     "delete_cmd_postfix": "",
     "delete_cmd_prefix": "del ",
     "library": "var_list.py",
     "varRefreshCmd": "print(var_dic_list())"
    },
    "r": {
     "delete_cmd_postfix": ") ",
     "delete_cmd_prefix": "rm(",
     "library": "var_list.r",
     "varRefreshCmd": "cat(var_dic_list()) "
    }
   },
   "types_to_exclude": [
    "module",
    "function",
    "builtin_function_or_method",
    "instance",
    "_Feature"
   ],
   "window_display": false
  }
 },
 "nbformat": 4,
 "nbformat_minor": 2
}
