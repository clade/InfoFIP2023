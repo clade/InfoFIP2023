{
 "cells": [
  {
   "cell_type": "markdown",
   "id": "b2be5176",
   "metadata": {},
   "source": [
    "# Python"
   ]
  },
  {
   "cell_type": "markdown",
   "id": "29b996fa",
   "metadata": {},
   "source": [
    "## Les ensembles\n",
    "* Comme en mathématiques : un ensemble ne contient pas deux fois le même élément\n",
    "* Union |, intersection &\n",
    "* Avec les tableaux numpy, il existe le fonction np.unique "
   ]
  },
  {
   "cell_type": "code",
   "execution_count": 45,
   "id": "68e407b1",
   "metadata": {},
   "outputs": [
    {
     "name": "stdout",
     "output_type": "stream",
     "text": [
      "{1, 3, 4, 6, 8}\n",
      "{1}\n"
     ]
    }
   ],
   "source": [
    "s1 = {1, 3, 4}\n",
    "s2 = {1, 6, 8}\n",
    "print(s1|s2)\n",
    "print(s1&s2)"
   ]
  },
  {
   "cell_type": "code",
   "execution_count": 46,
   "id": "b2195bdf",
   "metadata": {},
   "outputs": [
    {
     "data": {
      "text/plain": [
       "{1, 2, 3, 4}"
      ]
     },
     "execution_count": 46,
     "metadata": {},
     "output_type": "execute_result"
    }
   ],
   "source": [
    "set([1, 2, 3, 4, 3, 2, 1])"
   ]
  },
  {
   "cell_type": "code",
   "execution_count": 52,
   "id": "8adc37da",
   "metadata": {},
   "outputs": [
    {
     "data": {
      "text/plain": [
       "{' ',\n",
       " ':',\n",
       " 'C',\n",
       " 'a',\n",
       " 'b',\n",
       " 'c',\n",
       " 'd',\n",
       " 'e',\n",
       " 'f',\n",
       " 'h',\n",
       " 'i',\n",
       " 'l',\n",
       " 'm',\n",
       " 'n',\n",
       " 'o',\n",
       " 'p',\n",
       " 'q',\n",
       " 's',\n",
       " 't',\n",
       " 'u',\n",
       " 'x',\n",
       " 'é',\n",
       " 'ê'}"
      ]
     },
     "execution_count": 52,
     "metadata": {},
     "output_type": "execute_result"
    }
   ],
   "source": [
    "data = \"Comme en mathématiques : un ensemble ne contient pas deux fois le même élément\"\n",
    "\n",
    "s = set(data)\n",
    "s"
   ]
  },
  {
   "cell_type": "code",
   "execution_count": 57,
   "id": "957a56a3",
   "metadata": {},
   "outputs": [
    {
     "data": {
      "text/plain": [
       "array([1, 2, 3, 4, 5])"
      ]
     },
     "execution_count": 57,
     "metadata": {},
     "output_type": "execute_result"
    }
   ],
   "source": [
    "a = np.array([2, 1, 3, 3, 4, 5, 2, 3])\n",
    "np.unique(a)"
   ]
  },
  {
   "cell_type": "code",
   "execution_count": null,
   "id": "ee8459c8",
   "metadata": {},
   "outputs": [],
   "source": []
  },
  {
   "cell_type": "markdown",
   "id": "4c0f2623",
   "metadata": {},
   "source": [
    "## Les n-uplets (tuples)\n",
    "* Comme les listes sauf que l'on ne peut pas les modifier\n",
    "* Défini avec des ()\n",
    "* Utilisé pour regrouper un nombre connu de données : (x, y, z)\n",
    "* Utilisé lorsqu'une fonction renvoie plusieurs valeurs"
   ]
  },
  {
   "cell_type": "code",
   "execution_count": null,
   "id": "14e5493e",
   "metadata": {},
   "outputs": [],
   "source": [
    "a = (1, 2, 3)\n",
    "print(a[1])"
   ]
  },
  {
   "cell_type": "code",
   "execution_count": 62,
   "id": "85e7a1e5",
   "metadata": {
    "scrolled": true
   },
   "outputs": [
    {
     "name": "stdout",
     "output_type": "stream",
     "text": [
      "<class 'tuple'>\n",
      "2\n"
     ]
    }
   ],
   "source": [
    "def ma_fonction():\n",
    "    return 1, 2, 3\n",
    "\n",
    "a, b, c = ma_fonction()\n",
    "\n",
    "a = ma_fonction()\n",
    "print(type(a))\n",
    "print(a[1])"
   ]
  },
  {
   "cell_type": "code",
   "execution_count": null,
   "id": "3815250e",
   "metadata": {},
   "outputs": [],
   "source": [
    "a, b, c = (1, 2, 5)\n",
    "print(b)"
   ]
  },
  {
   "cell_type": "code",
   "execution_count": null,
   "id": "a556e9a1",
   "metadata": {},
   "outputs": [],
   "source": [
    "# Tuple de taille 0\n",
    "()\n",
    "# Tuple de taille 1\n",
    "(1,)"
   ]
  },
  {
   "cell_type": "markdown",
   "id": "36664b30",
   "metadata": {},
   "source": [
    "## Les dictionnaires\n",
    "* Conteneur (comme les listes ou tuple)\n",
    "* Le contenu est indéxé par une clé qui est en général un nombre ou une chaine de caractère\n",
    "* Explicit is better than implicit (paramètre ou résultat d'une expérience)\n",
    "* Utilisation dans les fonctions"
   ]
  },
  {
   "cell_type": "code",
   "execution_count": 64,
   "id": "9c819e09",
   "metadata": {},
   "outputs": [
    {
     "name": "stdout",
     "output_type": "stream",
     "text": [
      "100\n"
     ]
    }
   ],
   "source": [
    "parametres = {\"N\":100, 'l':30, \"h\":50, \"g\":9.81, 'm':0.1}\n",
    "print(parametres['N'])"
   ]
  },
  {
   "cell_type": "code",
   "execution_count": 65,
   "id": "18c0a395",
   "metadata": {},
   "outputs": [
    {
     "name": "stdout",
     "output_type": "stream",
     "text": [
      "La valeur de N est 100\n",
      "La valeur de l est 30\n",
      "La valeur de h est 50\n",
      "La valeur de g est 9.81\n",
      "La valeur de m est 0.1\n"
     ]
    }
   ],
   "source": [
    "# Boucle for sur un dictionnaire\n",
    "for key, val in parametres.items():\n",
    "    print(f'La valeur de {key} est {val}')"
   ]
  },
  {
   "cell_type": "code",
   "execution_count": 66,
   "id": "800349b4",
   "metadata": {},
   "outputs": [
    {
     "name": "stdout",
     "output_type": "stream",
     "text": [
      "Dupont a 13 ans.\n",
      "Dubois a 34 ans.\n"
     ]
    }
   ],
   "source": [
    "# Liste de dictionnaire\n",
    "personne_1 = {\"nom\":\"Dupont\", \"age\":13}\n",
    "personne_2 = {\"nom\":\"Dubois\", \"age\":34}\n",
    "\n",
    "annuaire = [personne_1, personne_2]\n",
    "\n",
    "for personne in annuaire : \n",
    "    print(f\"{personne['nom']} a {personne['age']} ans.\")\n",
    "    #print('{} a {} ans'.format(personne['nom'], personne['age']))"
   ]
  },
  {
   "cell_type": "code",
   "execution_count": null,
   "id": "c90badd6",
   "metadata": {},
   "outputs": [],
   "source": []
  },
  {
   "cell_type": "markdown",
   "id": "1725612f",
   "metadata": {},
   "source": [
    "## Les fonctions\n",
    "\n",
    "Nombre arbitraire d'arguments (tuple et dictionnaire)"
   ]
  },
  {
   "cell_type": "code",
   "execution_count": 1,
   "id": "b82c77ce",
   "metadata": {},
   "outputs": [
    {
     "name": "stdout",
     "output_type": "stream",
     "text": [
      "1 3 2\n"
     ]
    }
   ],
   "source": [
    "def f(a, b, c):\n",
    "    print(a, b, c)\n",
    "    \n",
    "f(1, c=2, b=3)"
   ]
  },
  {
   "cell_type": "code",
   "execution_count": 2,
   "id": "974d335f",
   "metadata": {},
   "outputs": [
    {
     "data": {
      "text/plain": [
       "'f'"
      ]
     },
     "execution_count": 2,
     "metadata": {},
     "output_type": "execute_result"
    }
   ],
   "source": [
    "g = f\n",
    "g.__name__\n"
   ]
  },
  {
   "cell_type": "code",
   "execution_count": null,
   "id": "cecca103",
   "metadata": {},
   "outputs": [],
   "source": [
    "[f]"
   ]
  },
  {
   "cell_type": "code",
   "execution_count": 70,
   "id": "c5e350a4",
   "metadata": {},
   "outputs": [
    {
     "name": "stdout",
     "output_type": "stream",
     "text": [
      "1 2 3\n"
     ]
    }
   ],
   "source": [
    "p = (2, 3)\n",
    "f(1, *p)"
   ]
  },
  {
   "cell_type": "code",
   "execution_count": 79,
   "id": "9427ee34",
   "metadata": {},
   "outputs": [
    {
     "name": "stdout",
     "output_type": "stream",
     "text": [
      "1 3 2\n"
     ]
    }
   ],
   "source": [
    "d = {'a':1, 'c':2}\n",
    "f(b=3, **d)"
   ]
  },
  {
   "cell_type": "code",
   "execution_count": 87,
   "id": "8e995e3b",
   "metadata": {},
   "outputs": [
    {
     "name": "stdout",
     "output_type": "stream",
     "text": [
      "1 (2, 3, 4) {}\n",
      "1 (2, 3) {'m': 4, 'l': 5}\n",
      "3 () {'m': 4, 'l': 5}\n"
     ]
    }
   ],
   "source": [
    "def f(a, *args, **kwd):\n",
    "    print(a, args, kwd)\n",
    "\n",
    "f(1, 2, 3, 4)\n",
    "f(1, 2, 3, m=4, l=5)\n",
    "f(a=3, m=4, l=5)"
   ]
  },
  {
   "cell_type": "code",
   "execution_count": 88,
   "id": "7ef200d5",
   "metadata": {},
   "outputs": [
    {
     "name": "stdout",
     "output_type": "stream",
     "text": [
      "1 () {'c': 2}\n"
     ]
    }
   ],
   "source": [
    "parametres = {'a':1, 'c':2}\n",
    "f(**parametres)"
   ]
  },
  {
   "cell_type": "code",
   "execution_count": 89,
   "id": "88eca7eb",
   "metadata": {},
   "outputs": [
    {
     "data": {
      "text/plain": [
       "10.987679728847352"
      ]
     },
     "execution_count": 89,
     "metadata": {},
     "output_type": "execute_result"
    }
   ],
   "source": [
    "import numpy as np\n",
    "\n",
    "parametres_pendule = {\"m\":100, 'l':30, \"g\":9.81}    \n",
    "def periode(l, g, **kwd):\n",
    "    return 2*np.pi*np.sqrt(l/g)\n",
    "\n",
    "periode(**parametres_pendule)"
   ]
  },
  {
   "cell_type": "code",
   "execution_count": null,
   "id": "c9ec0cc6",
   "metadata": {},
   "outputs": [],
   "source": []
  },
  {
   "cell_type": "markdown",
   "id": "cd577b64",
   "metadata": {},
   "source": [
    "### Fonctions anonymes \n",
    "` lambda arg1, arg2 : expr`"
   ]
  },
  {
   "cell_type": "code",
   "execution_count": 3,
   "id": "38ac1abb",
   "metadata": {},
   "outputs": [
    {
     "data": {
      "text/plain": [
       "6"
      ]
     },
     "execution_count": 3,
     "metadata": {},
     "output_type": "execute_result"
    }
   ],
   "source": [
    "f = lambda a, b, c:a+b+c\n",
    "f(1, 2, 3)"
   ]
  },
  {
   "cell_type": "code",
   "execution_count": 4,
   "id": "5383f281",
   "metadata": {},
   "outputs": [
    {
     "data": {
      "text/plain": [
       "6"
      ]
     },
     "execution_count": 4,
     "metadata": {},
     "output_type": "execute_result"
    }
   ],
   "source": [
    "(lambda a, b, c:a+b+c)(1, 2, 3)"
   ]
  },
  {
   "cell_type": "code",
   "execution_count": null,
   "id": "54281409",
   "metadata": {},
   "outputs": [],
   "source": [
    "# integrale(f, a, b, N_step)\n",
    "# integrale(lambda x: exp(-x**2), 0, 1, 100)"
   ]
  },
  {
   "cell_type": "markdown",
   "id": "48ed3f8f",
   "metadata": {
    "extensions": {
     "jupyter_dashboards": {
      "version": 1,
      "views": {
       "grid_default": {
        "col": 0,
        "height": 5,
        "hidden": false,
        "row": 79,
        "width": 12
       },
       "report_default": {}
      }
     }
    },
    "slideshow": {
     "slide_type": "slide"
    }
   },
   "source": [
    "# Modules en Python\n",
    "\n",
    "* Les modules sont des fichiers dont on peut importer les objets (en général des fonctions) qui y sont définis. \n",
    "* Un module peut contenir d'autre modules\n",
    "* Modules standards (ex: math)"
   ]
  },
  {
   "cell_type": "code",
   "execution_count": 5,
   "id": "00ce8a84",
   "metadata": {
    "extensions": {
     "jupyter_dashboards": {
      "version": 1,
      "views": {
       "grid_default": {
        "col": 4,
        "height": 4,
        "hidden": false,
        "row": 75,
        "width": 4
       },
       "report_default": {}
      }
     }
    }
   },
   "outputs": [
    {
     "data": {
      "text/plain": [
       "8.166169912567652"
      ]
     },
     "execution_count": 5,
     "metadata": {},
     "output_type": "execute_result"
    }
   ],
   "source": [
    "from math import exp\n",
    "exp(2.1)"
   ]
  },
  {
   "cell_type": "code",
   "execution_count": 6,
   "id": "3fcc3e56",
   "metadata": {
    "extensions": {
     "jupyter_dashboards": {
      "version": 1,
      "views": {
       "grid_default": {
        "col": 8,
        "height": 4,
        "hidden": false,
        "row": 75,
        "width": 4
       },
       "report_default": {}
      }
     }
    }
   },
   "outputs": [
    {
     "data": {
      "text/plain": [
       "2.718281828459045"
      ]
     },
     "execution_count": 6,
     "metadata": {},
     "output_type": "execute_result"
    }
   ],
   "source": [
    "import math\n",
    "math.exp(1)"
   ]
  },
  {
   "cell_type": "code",
   "execution_count": 8,
   "id": "716b212a",
   "metadata": {
    "extensions": {
     "jupyter_dashboards": {
      "version": 1,
      "views": {
       "grid_default": {
        "col": 0,
        "height": 4,
        "hidden": false,
        "row": 84,
        "width": 4
       },
       "report_default": {}
      }
     }
    }
   },
   "outputs": [
    {
     "data": {
      "text/plain": [
       "0.7071067811865476"
      ]
     },
     "execution_count": 8,
     "metadata": {},
     "output_type": "execute_result"
    }
   ],
   "source": [
    "# Syntaxe à éviter\n",
    "from math import *\n",
    "from numpy import *\n",
    "sin(pi/4)"
   ]
  },
  {
   "cell_type": "code",
   "execution_count": 14,
   "id": "7a04f0fa",
   "metadata": {},
   "outputs": [
    {
     "ename": "AttributeError",
     "evalue": "module 'numpy' has no attribute 'acos'",
     "output_type": "error",
     "traceback": [
      "\u001b[0;31m---------------------------------------------------------------------------\u001b[0m",
      "\u001b[0;31mAttributeError\u001b[0m                            Traceback (most recent call last)",
      "\u001b[0;32m<ipython-input-14-e2b177d7b2db>\u001b[0m in \u001b[0;36m<module>\u001b[0;34m\u001b[0m\n\u001b[0;32m----> 1\u001b[0;31m \u001b[0mnp\u001b[0m\u001b[0;34m.\u001b[0m\u001b[0macos\u001b[0m\u001b[0;34m(\u001b[0m\u001b[0mnp\u001b[0m\u001b[0;34m.\u001b[0m\u001b[0marray\u001b[0m\u001b[0;34m(\u001b[0m\u001b[0;34m[\u001b[0m\u001b[0;36m1\u001b[0m\u001b[0;34m,\u001b[0m \u001b[0;36m2\u001b[0m\u001b[0;34m]\u001b[0m\u001b[0;34m)\u001b[0m\u001b[0;34m)\u001b[0m\u001b[0;34m\u001b[0m\u001b[0;34m\u001b[0m\u001b[0m\n\u001b[0m",
      "\u001b[0;32m~/.local/lib/python3.8/site-packages/numpy/__init__.py\u001b[0m in \u001b[0;36m__getattr__\u001b[0;34m(attr)\u001b[0m\n\u001b[1;32m    309\u001b[0m             \u001b[0;32mreturn\u001b[0m \u001b[0mTester\u001b[0m\u001b[0;34m\u001b[0m\u001b[0;34m\u001b[0m\u001b[0m\n\u001b[1;32m    310\u001b[0m \u001b[0;34m\u001b[0m\u001b[0m\n\u001b[0;32m--> 311\u001b[0;31m         raise AttributeError(\"module {!r} has no attribute \"\n\u001b[0m\u001b[1;32m    312\u001b[0m                              \"{!r}\".format(__name__, attr))\n\u001b[1;32m    313\u001b[0m \u001b[0;34m\u001b[0m\u001b[0m\n",
      "\u001b[0;31mAttributeError\u001b[0m: module 'numpy' has no attribute 'acos'"
     ]
    }
   ],
   "source": [
    "np.acos(np.array([1, 2]))"
   ]
  },
  {
   "cell_type": "code",
   "execution_count": 7,
   "id": "b9262b9c",
   "metadata": {},
   "outputs": [],
   "source": [
    "# Donner un nom plus simple\n",
    "# Eviter sauf si tout le monde le fait\n",
    "import numpy as np"
   ]
  },
  {
   "cell_type": "markdown",
   "id": "e52bd691",
   "metadata": {
    "extensions": {
     "jupyter_dashboards": {
      "version": 1,
      "views": {
       "grid_default": {
        "col": 0,
        "height": 6,
        "hidden": false,
        "row": 88,
        "width": 12
       },
       "report_default": {}
      }
     }
    },
    "slideshow": {
     "slide_type": "slide"
    }
   },
   "source": [
    "# Langage orienté objet\n",
    "\n",
    "* Tout en Python est object\n",
    "* Un objet contient des données \n",
    "* La classe d'un objet défini ce qu'est l'objet\n",
    "* La classe défini des fonctions qui permettent d'utiliser les données de l'objet ou de le modifier. Ce sont des méthodes\n",
    "\n",
    "Exemples : \n",
    "* liste, nombre complexe\n",
    "* Tableaux numpy\n",
    "* Oscilloscope"
   ]
  },
  {
   "cell_type": "code",
   "execution_count": 19,
   "id": "1dafc99c",
   "metadata": {
    "extensions": {
     "jupyter_dashboards": {
      "version": 1,
      "views": {
       "grid_default": {
        "col": 4,
        "height": 4,
        "hidden": false,
        "row": 84,
        "width": 4
       },
       "report_default": {}
      }
     }
    }
   },
   "outputs": [
    {
     "name": "stdout",
     "output_type": "stream",
     "text": [
      "[5, 'coucou', 4, 1, 2]\n"
     ]
    }
   ],
   "source": [
    "l = [5, 4, 1, 2]\n",
    "l.insert(1, 'coucou') # modification de l'objet\n",
    "print(l)\n",
    "# l.index('coucou')"
   ]
  },
  {
   "cell_type": "code",
   "execution_count": 20,
   "id": "aa591bf9",
   "metadata": {
    "extensions": {
     "jupyter_dashboards": {
      "version": 1,
      "views": {
       "grid_default": {
        "col": 4,
        "height": 4,
        "hidden": false,
        "row": 84,
        "width": 4
       },
       "report_default": {}
      }
     }
    }
   },
   "outputs": [
    {
     "data": {
      "text/plain": [
       "(1-2j)"
      ]
     },
     "execution_count": 20,
     "metadata": {},
     "output_type": "execute_result"
    }
   ],
   "source": [
    "z = 1 + 2J\n",
    "z.real # attribut de l'objet\n",
    "z.conjugate() # methode qui renvoie un nouvel objet"
   ]
  },
  {
   "cell_type": "code",
   "execution_count": 21,
   "id": "9908981c",
   "metadata": {},
   "outputs": [
    {
     "data": {
      "text/plain": [
       "(1+2j)"
      ]
     },
     "execution_count": 21,
     "metadata": {},
     "output_type": "execute_result"
    }
   ],
   "source": [
    "z"
   ]
  },
  {
   "cell_type": "code",
   "execution_count": 23,
   "id": "98682dca",
   "metadata": {},
   "outputs": [
    {
     "name": "stdout",
     "output_type": "stream",
     "text": [
      "None\n"
     ]
    }
   ],
   "source": [
    "print(l.insert(2, 'bonjour'))"
   ]
  },
  {
   "cell_type": "code",
   "execution_count": 26,
   "id": "52a838d5",
   "metadata": {},
   "outputs": [
    {
     "name": "stdout",
     "output_type": "stream",
     "text": [
      "45\n",
      "45\n"
     ]
    }
   ],
   "source": [
    "a = [1, 2, 3]\n",
    "b = a\n",
    "a.insert(0, 45)\n",
    "print(a[0])\n",
    "print(b[0])"
   ]
  },
  {
   "cell_type": "code",
   "execution_count": 25,
   "id": "c308a697",
   "metadata": {},
   "outputs": [
    {
     "name": "stdout",
     "output_type": "stream",
     "text": [
      "B\n",
      "1\n"
     ]
    }
   ],
   "source": [
    "a = [1, 2, 4]\n",
    "b = a\n",
    "a = 'Bonjour'\n",
    "print(a[0])\n",
    "print(b[0])"
   ]
  },
  {
   "cell_type": "code",
   "execution_count": 28,
   "id": "e91b7aa0",
   "metadata": {},
   "outputs": [
    {
     "data": {
      "text/plain": [
       "[13, 2]"
      ]
     },
     "execution_count": 28,
     "metadata": {},
     "output_type": "execute_result"
    }
   ],
   "source": [
    "from math import pi\n",
    "def f(la_liste):\n",
    "    la_liste[0] = 13 + pi\n",
    "    \n",
    "l = [1, 2]\n",
    "f(l)\n",
    "l"
   ]
  },
  {
   "cell_type": "markdown",
   "id": "6654de49",
   "metadata": {},
   "source": [
    "## Variables globales/locales\n",
    "* Dans une fonction, une variable est soit globale soit locale\n",
    "* Si on assigne un objet à une variable dans une fonction, elle est automatiquement locale\n",
    "* Modifier une liste ne rend pas la liste locale\n",
    "* L'instrution `global` ne doit **jamais** être utilisée (sauf cas exceptionels)"
   ]
  },
  {
   "cell_type": "code",
   "execution_count": 29,
   "id": "1127a97f",
   "metadata": {},
   "outputs": [
    {
     "name": "stdout",
     "output_type": "stream",
     "text": [
      "1\n",
      "3\n"
     ]
    }
   ],
   "source": [
    "x = 1\n",
    "\n",
    "def f1():\n",
    "    print(x)\n",
    "    \n",
    "f1()\n",
    "x = 3\n",
    "f1()\n",
    "#def print(x):\n",
    "#    None\n"
   ]
  },
  {
   "cell_type": "code",
   "execution_count": 32,
   "id": "c196abb5",
   "metadata": {},
   "outputs": [
    {
     "name": "stdout",
     "output_type": "stream",
     "text": [
      "0.8414709848078965\n",
      "0.5403023058681398\n"
     ]
    }
   ],
   "source": [
    "from math import sin, cos\n",
    "def f(x):\n",
    "    print(sin(x))\n",
    "f(1)\n",
    "sin = cos\n",
    "f(1)"
   ]
  },
  {
   "cell_type": "code",
   "execution_count": 33,
   "id": "34041fef",
   "metadata": {},
   "outputs": [
    {
     "name": "stdout",
     "output_type": "stream",
     "text": [
      "3\n",
      "4\n"
     ]
    }
   ],
   "source": [
    "def f2(x):\n",
    "    print(x)\n",
    "print(x)\n",
    "f2(4)"
   ]
  },
  {
   "cell_type": "code",
   "execution_count": 35,
   "id": "53f96e04",
   "metadata": {},
   "outputs": [
    {
     "name": "stdout",
     "output_type": "stream",
     "text": [
      "4\n",
      "3\n"
     ]
    }
   ],
   "source": [
    "x = 3   \n",
    "def f3():\n",
    "    x = 4\n",
    "    print(x)\n",
    "f3()\n",
    "print(x)"
   ]
  },
  {
   "cell_type": "code",
   "execution_count": 37,
   "id": "02e34cf8",
   "metadata": {},
   "outputs": [
    {
     "ename": "UnboundLocalError",
     "evalue": "local variable 'x' referenced before assignment",
     "output_type": "error",
     "traceback": [
      "\u001b[0;31m---------------------------------------------------------------------------\u001b[0m",
      "\u001b[0;31mUnboundLocalError\u001b[0m                         Traceback (most recent call last)",
      "\u001b[0;32m<ipython-input-37-1bfa6a49a868>\u001b[0m in \u001b[0;36m<module>\u001b[0;34m\u001b[0m\n\u001b[1;32m      4\u001b[0m     \u001b[0mx\u001b[0m \u001b[0;34m=\u001b[0m \u001b[0;36m4\u001b[0m\u001b[0;34m\u001b[0m\u001b[0;34m\u001b[0m\u001b[0m\n\u001b[1;32m      5\u001b[0m     \u001b[0mprint\u001b[0m\u001b[0;34m(\u001b[0m\u001b[0mx\u001b[0m\u001b[0;34m)\u001b[0m\u001b[0;34m\u001b[0m\u001b[0;34m\u001b[0m\u001b[0m\n\u001b[0;32m----> 6\u001b[0;31m \u001b[0mf4\u001b[0m\u001b[0;34m(\u001b[0m\u001b[0;34m)\u001b[0m\u001b[0;34m\u001b[0m\u001b[0;34m\u001b[0m\u001b[0m\n\u001b[0m",
      "\u001b[0;32m<ipython-input-37-1bfa6a49a868>\u001b[0m in \u001b[0;36mf4\u001b[0;34m()\u001b[0m\n\u001b[1;32m      1\u001b[0m \u001b[0mx\u001b[0m \u001b[0;34m=\u001b[0m \u001b[0;36m2\u001b[0m\u001b[0;34m\u001b[0m\u001b[0;34m\u001b[0m\u001b[0m\n\u001b[1;32m      2\u001b[0m \u001b[0;32mdef\u001b[0m \u001b[0mf4\u001b[0m\u001b[0;34m(\u001b[0m\u001b[0;34m)\u001b[0m\u001b[0;34m:\u001b[0m\u001b[0;34m\u001b[0m\u001b[0;34m\u001b[0m\u001b[0m\n\u001b[0;32m----> 3\u001b[0;31m     \u001b[0mprint\u001b[0m\u001b[0;34m(\u001b[0m\u001b[0mx\u001b[0m\u001b[0;34m)\u001b[0m\u001b[0;34m\u001b[0m\u001b[0;34m\u001b[0m\u001b[0m\n\u001b[0m\u001b[1;32m      4\u001b[0m     \u001b[0mx\u001b[0m \u001b[0;34m=\u001b[0m \u001b[0;36m4\u001b[0m\u001b[0;34m\u001b[0m\u001b[0;34m\u001b[0m\u001b[0m\n\u001b[1;32m      5\u001b[0m     \u001b[0mprint\u001b[0m\u001b[0;34m(\u001b[0m\u001b[0mx\u001b[0m\u001b[0;34m)\u001b[0m\u001b[0;34m\u001b[0m\u001b[0;34m\u001b[0m\u001b[0m\n",
      "\u001b[0;31mUnboundLocalError\u001b[0m: local variable 'x' referenced before assignment"
     ]
    }
   ],
   "source": [
    "x = 2   \n",
    "def f4():\n",
    "    print(x)\n",
    "    x = 4\n",
    "    print(x)\n",
    "f4()"
   ]
  },
  {
   "cell_type": "markdown",
   "id": "d1603a5f",
   "metadata": {},
   "source": [
    "Les variables globales doivent être constantes : \n",
    "* Constantes numériques\n",
    "* Autres objets : fonctions, modules, ..."
   ]
  },
  {
   "cell_type": "code",
   "execution_count": 38,
   "id": "0972d220",
   "metadata": {},
   "outputs": [],
   "source": [
    "from math import sin, pi\n",
    "\n",
    "def ma_fonction(x):\n",
    "    if x==0:\n",
    "        return 1\n",
    "    return sin(pi*x)/(pi*x)\n"
   ]
  },
  {
   "cell_type": "code",
   "execution_count": null,
   "id": "59ba8b5b",
   "metadata": {},
   "outputs": [],
   "source": []
  },
  {
   "cell_type": "markdown",
   "id": "c9414074",
   "metadata": {},
   "source": [
    "# Les exceptions (erreurs)\n",
    "* Il faut toujours lire et comprendre les erreurs\n",
    "* En général python indique toujours l'endroit où se trouve l'erreur\n",
    "* Sauf pour les \"syntax error\""
   ]
  },
  {
   "cell_type": "code",
   "execution_count": 39,
   "id": "63b7c061",
   "metadata": {},
   "outputs": [
    {
     "ename": "ValueError",
     "evalue": "math domain error",
     "output_type": "error",
     "traceback": [
      "\u001b[0;31m---------------------------------------------------------------------------\u001b[0m",
      "\u001b[0;31mValueError\u001b[0m                                Traceback (most recent call last)",
      "\u001b[0;32m<ipython-input-39-eb80c803d6ae>\u001b[0m in \u001b[0;36m<module>\u001b[0;34m\u001b[0m\n\u001b[1;32m      1\u001b[0m \u001b[0;32mfrom\u001b[0m \u001b[0mmath\u001b[0m \u001b[0;32mimport\u001b[0m \u001b[0msqrt\u001b[0m\u001b[0;34m\u001b[0m\u001b[0;34m\u001b[0m\u001b[0m\n\u001b[1;32m      2\u001b[0m \u001b[0;34m\u001b[0m\u001b[0m\n\u001b[0;32m----> 3\u001b[0;31m \u001b[0msqrt\u001b[0m\u001b[0;34m(\u001b[0m\u001b[0;34m-\u001b[0m\u001b[0;36m1\u001b[0m\u001b[0;34m)\u001b[0m\u001b[0;34m\u001b[0m\u001b[0;34m\u001b[0m\u001b[0m\n\u001b[0m",
      "\u001b[0;31mValueError\u001b[0m: math domain error"
     ]
    }
   ],
   "source": [
    "from math import sqrt\n",
    "\n",
    "sqrt(-1)"
   ]
  },
  {
   "cell_type": "code",
   "execution_count": 40,
   "id": "93214dab",
   "metadata": {},
   "outputs": [
    {
     "ename": "TypeError",
     "evalue": "'list' object is not callable",
     "output_type": "error",
     "traceback": [
      "\u001b[0;31m---------------------------------------------------------------------------\u001b[0m",
      "\u001b[0;31mTypeError\u001b[0m                                 Traceback (most recent call last)",
      "\u001b[0;32m<ipython-input-40-0642d5456545>\u001b[0m in \u001b[0;36m<module>\u001b[0;34m\u001b[0m\n\u001b[1;32m      1\u001b[0m \u001b[0ml\u001b[0m \u001b[0;34m=\u001b[0m \u001b[0;34m[\u001b[0m\u001b[0;36m1\u001b[0m\u001b[0;34m,\u001b[0m \u001b[0;36m2\u001b[0m\u001b[0;34m,\u001b[0m \u001b[0;36m4\u001b[0m\u001b[0;34m]\u001b[0m\u001b[0;34m\u001b[0m\u001b[0;34m\u001b[0m\u001b[0m\n\u001b[0;32m----> 2\u001b[0;31m \u001b[0ml\u001b[0m\u001b[0;34m(\u001b[0m\u001b[0;36m1\u001b[0m\u001b[0;34m)\u001b[0m\u001b[0;34m\u001b[0m\u001b[0;34m\u001b[0m\u001b[0m\n\u001b[0m",
      "\u001b[0;31mTypeError\u001b[0m: 'list' object is not callable"
     ]
    }
   ],
   "source": [
    "l = [1, 2, 4]\n",
    "l(1)"
   ]
  },
  {
   "cell_type": "code",
   "execution_count": 41,
   "id": "bbce9efe",
   "metadata": {},
   "outputs": [
    {
     "ename": "TypeError",
     "evalue": "'function' object is not subscriptable",
     "output_type": "error",
     "traceback": [
      "\u001b[0;31m---------------------------------------------------------------------------\u001b[0m",
      "\u001b[0;31mTypeError\u001b[0m                                 Traceback (most recent call last)",
      "\u001b[0;32m<ipython-input-41-eaf288da1121>\u001b[0m in \u001b[0;36m<module>\u001b[0;34m\u001b[0m\n\u001b[1;32m      2\u001b[0m     \u001b[0mprint\u001b[0m\u001b[0;34m(\u001b[0m\u001b[0mx\u001b[0m\u001b[0;34m)\u001b[0m\u001b[0;34m\u001b[0m\u001b[0;34m\u001b[0m\u001b[0m\n\u001b[1;32m      3\u001b[0m \u001b[0;34m\u001b[0m\u001b[0m\n\u001b[0;32m----> 4\u001b[0;31m \u001b[0mf\u001b[0m\u001b[0;34m[\u001b[0m\u001b[0;36m1\u001b[0m\u001b[0;34m]\u001b[0m\u001b[0;34m\u001b[0m\u001b[0;34m\u001b[0m\u001b[0m\n\u001b[0m",
      "\u001b[0;31mTypeError\u001b[0m: 'function' object is not subscriptable"
     ]
    }
   ],
   "source": [
    "def f(x):\n",
    "    print(x)\n",
    "    \n",
    "f[1]"
   ]
  },
  {
   "cell_type": "code",
   "execution_count": 42,
   "id": "4ad65285",
   "metadata": {},
   "outputs": [
    {
     "ename": "IndentationError",
     "evalue": "unexpected indent (<ipython-input-42-ae826c11a736>, line 3)",
     "output_type": "error",
     "traceback": [
      "\u001b[0;36m  File \u001b[0;32m\"<ipython-input-42-ae826c11a736>\"\u001b[0;36m, line \u001b[0;32m3\u001b[0m\n\u001b[0;31m    print(x)\u001b[0m\n\u001b[0m    ^\u001b[0m\n\u001b[0;31mIndentationError\u001b[0m\u001b[0;31m:\u001b[0m unexpected indent\n"
     ]
    }
   ],
   "source": [
    "def f(x):\n",
    "    y = 2*x\n",
    "     print(x)"
   ]
  },
  {
   "cell_type": "code",
   "execution_count": 46,
   "id": "3fc578e8",
   "metadata": {},
   "outputs": [
    {
     "ename": "SyntaxError",
     "evalue": "invalid syntax (<ipython-input-46-64b203b3365b>, line 6)",
     "output_type": "error",
     "traceback": [
      "\u001b[0;36m  File \u001b[0;32m\"<ipython-input-46-64b203b3365b>\"\u001b[0;36m, line \u001b[0;32m6\u001b[0m\n\u001b[0;31m    b = 2\u001b[0m\n\u001b[0m    ^\u001b[0m\n\u001b[0;31mSyntaxError\u001b[0m\u001b[0;31m:\u001b[0m invalid syntax\n"
     ]
    }
   ],
   "source": [
    "def f(x, y, z):\n",
    "    return (x + y*(sin(x+z))*34\n",
    "\n",
    "#            + 45 )\n",
    "            \n",
    "b = 2\n"
   ]
  },
  {
   "cell_type": "markdown",
   "id": "df8ae03c",
   "metadata": {},
   "source": [
    "## Créer sa propre erreur\n",
    "* raise Exception('Un message')\n",
    "* Ne pas utiliser print(message)\n",
    "* try: except"
   ]
  },
  {
   "cell_type": "code",
   "execution_count": 47,
   "id": "4f2e97c9",
   "metadata": {},
   "outputs": [
    {
     "name": "stdout",
     "output_type": "stream",
     "text": [
      "0.10545470031833197\n"
     ]
    },
    {
     "ename": "Exception",
     "evalue": "La balle ne touche pas le plafond",
     "output_type": "error",
     "traceback": [
      "\u001b[0;31m---------------------------------------------------------------------------\u001b[0m",
      "\u001b[0;31mException\u001b[0m                                 Traceback (most recent call last)",
      "\u001b[0;32m<ipython-input-47-d41ab9e67048>\u001b[0m in \u001b[0;36m<module>\u001b[0;34m\u001b[0m\n\u001b[1;32m      9\u001b[0m \u001b[0;34m\u001b[0m\u001b[0m\n\u001b[1;32m     10\u001b[0m \u001b[0mprint\u001b[0m\u001b[0;34m(\u001b[0m\u001b[0mtemps_arrivee\u001b[0m\u001b[0;34m(\u001b[0m\u001b[0mh\u001b[0m\u001b[0;34m=\u001b[0m\u001b[0;36m1\u001b[0m\u001b[0;34m,\u001b[0m \u001b[0mv_0\u001b[0m\u001b[0;34m=\u001b[0m\u001b[0;36m10\u001b[0m\u001b[0;34m)\u001b[0m\u001b[0;34m)\u001b[0m\u001b[0;34m\u001b[0m\u001b[0;34m\u001b[0m\u001b[0m\n\u001b[0;32m---> 11\u001b[0;31m \u001b[0mprint\u001b[0m\u001b[0;34m(\u001b[0m\u001b[0mtemps_arrivee\u001b[0m\u001b[0;34m(\u001b[0m\u001b[0mh\u001b[0m\u001b[0;34m=\u001b[0m\u001b[0;36m1\u001b[0m\u001b[0;34m,\u001b[0m \u001b[0mv_0\u001b[0m\u001b[0;34m=\u001b[0m\u001b[0;36m1\u001b[0m\u001b[0;34m)\u001b[0m\u001b[0;34m)\u001b[0m\u001b[0;34m\u001b[0m\u001b[0;34m\u001b[0m\u001b[0m\n\u001b[0m",
      "\u001b[0;32m<ipython-input-47-d41ab9e67048>\u001b[0m in \u001b[0;36mtemps_arrivee\u001b[0;34m(h, v_0, g)\u001b[0m\n\u001b[1;32m      5\u001b[0m     \u001b[0mDelta\u001b[0m \u001b[0;34m=\u001b[0m \u001b[0mv_0\u001b[0m\u001b[0;34m**\u001b[0m\u001b[0;36m2\u001b[0m \u001b[0;34m-\u001b[0m \u001b[0;36m2\u001b[0m\u001b[0;34m*\u001b[0m\u001b[0mg\u001b[0m\u001b[0;34m*\u001b[0m\u001b[0mh\u001b[0m\u001b[0;34m\u001b[0m\u001b[0;34m\u001b[0m\u001b[0m\n\u001b[1;32m      6\u001b[0m     \u001b[0;32mif\u001b[0m \u001b[0mDelta\u001b[0m\u001b[0;34m<\u001b[0m\u001b[0;36m0\u001b[0m\u001b[0;34m:\u001b[0m\u001b[0;34m\u001b[0m\u001b[0;34m\u001b[0m\u001b[0m\n\u001b[0;32m----> 7\u001b[0;31m         \u001b[0;32mraise\u001b[0m \u001b[0mException\u001b[0m\u001b[0;34m(\u001b[0m\u001b[0;34m\"La balle ne touche pas le plafond\"\u001b[0m\u001b[0;34m)\u001b[0m\u001b[0;34m\u001b[0m\u001b[0;34m\u001b[0m\u001b[0m\n\u001b[0m\u001b[1;32m      8\u001b[0m     \u001b[0;32mreturn\u001b[0m \u001b[0;34m(\u001b[0m\u001b[0mv_0\u001b[0m \u001b[0;34m-\u001b[0m \u001b[0msqrt\u001b[0m\u001b[0;34m(\u001b[0m\u001b[0mDelta\u001b[0m\u001b[0;34m)\u001b[0m\u001b[0;34m)\u001b[0m\u001b[0;34m/\u001b[0m\u001b[0mg\u001b[0m\u001b[0;34m\u001b[0m\u001b[0;34m\u001b[0m\u001b[0m\n\u001b[1;32m      9\u001b[0m \u001b[0;34m\u001b[0m\u001b[0m\n",
      "\u001b[0;31mException\u001b[0m: La balle ne touche pas le plafond"
     ]
    }
   ],
   "source": [
    "# On lance une balle à la vitesse v_0 vers le haut\n",
    "# Calculer le temps pour arriver au plafond de hauteur h\n",
    "from math import sqrt\n",
    "def temps_arrivee(h, v_0, g=9.81):\n",
    "    Delta = v_0**2 - 2*g*h\n",
    "    if Delta<0:\n",
    "        raise Exception(\"La balle ne touche pas le plafond\")\n",
    "    return (v_0 - sqrt(Delta))/g\n",
    "\n",
    "print(temps_arrivee(h=1, v_0=10))\n",
    "print(temps_arrivee(h=1, v_0=1))"
   ]
  },
  {
   "cell_type": "code",
   "execution_count": 48,
   "id": "4c097887",
   "metadata": {},
   "outputs": [
    {
     "name": "stdout",
     "output_type": "stream",
     "text": [
      "1.2109094006366639\n",
      "La balle ne touche pas le plafond\n"
     ]
    },
    {
     "ename": "TypeError",
     "evalue": "unsupported operand type(s) for *: 'int' and 'NoneType'",
     "output_type": "error",
     "traceback": [
      "\u001b[0;31m---------------------------------------------------------------------------\u001b[0m",
      "\u001b[0;31mTypeError\u001b[0m                                 Traceback (most recent call last)",
      "\u001b[0;32m<ipython-input-48-f2880f6bcfc3>\u001b[0m in \u001b[0;36m<module>\u001b[0;34m\u001b[0m\n\u001b[1;32m     14\u001b[0m \u001b[0;31m#print(temps_arrivee(h=1, v_0=1))\u001b[0m\u001b[0;34m\u001b[0m\u001b[0;34m\u001b[0m\u001b[0;34m\u001b[0m\u001b[0m\n\u001b[1;32m     15\u001b[0m \u001b[0mt\u001b[0m \u001b[0;34m=\u001b[0m \u001b[0mtemps_arrivee\u001b[0m\u001b[0;34m(\u001b[0m\u001b[0mh\u001b[0m\u001b[0;34m=\u001b[0m\u001b[0;36m1\u001b[0m\u001b[0;34m,\u001b[0m \u001b[0mv_0\u001b[0m\u001b[0;34m=\u001b[0m\u001b[0;36m1\u001b[0m\u001b[0;34m)\u001b[0m\u001b[0;34m\u001b[0m\u001b[0;34m\u001b[0m\u001b[0m\n\u001b[0;32m---> 16\u001b[0;31m \u001b[0mprint\u001b[0m\u001b[0;34m(\u001b[0m\u001b[0;36m2\u001b[0m\u001b[0;34m*\u001b[0m\u001b[0mt\u001b[0m \u001b[0;34m+\u001b[0m \u001b[0;36m1\u001b[0m\u001b[0;34m)\u001b[0m\u001b[0;34m\u001b[0m\u001b[0;34m\u001b[0m\u001b[0m\n\u001b[0m",
      "\u001b[0;31mTypeError\u001b[0m: unsupported operand type(s) for *: 'int' and 'NoneType'"
     ]
    }
   ],
   "source": [
    "# On lance une balle à la vitesse v_0 vers le haut\n",
    "# Calculer le temps pour arriver au plafond de hauteur h\n",
    "from math import sqrt\n",
    "def temps_arrivee(h, v_0, g=9.81):\n",
    "    Delta = v_0**2 - 2*g*h\n",
    "    if Delta<0:\n",
    "        print(\"La balle ne touche pas le plafond\")\n",
    "#        raise Exception(\"La balle ne touche pas le plafond\")\n",
    "    else:\n",
    "        return (v_0 - sqrt(Delta))/g\n",
    "\n",
    "t = temps_arrivee(h=1, v_0=10)\n",
    "print(2*t + 1)\n",
    "#print(temps_arrivee(h=1, v_0=1))\n",
    "t = temps_arrivee(h=1, v_0=1)\n",
    "print(2*t + 1)"
   ]
  },
  {
   "cell_type": "code",
   "execution_count": 49,
   "id": "856d49e8",
   "metadata": {},
   "outputs": [
    {
     "name": "stdout",
     "output_type": "stream",
     "text": [
      "0.10545470031833197\n"
     ]
    },
    {
     "ename": "Exception",
     "evalue": "La balle ne touche pas le plafond",
     "output_type": "error",
     "traceback": [
      "\u001b[0;31m---------------------------------------------------------------------------\u001b[0m",
      "\u001b[0;31mValueError\u001b[0m                                Traceback (most recent call last)",
      "\u001b[0;32m<ipython-input-49-3a03f4968e75>\u001b[0m in \u001b[0;36mtemps_arrivee\u001b[0;34m(h, v_0, g)\u001b[0m\n\u001b[1;32m      4\u001b[0m     \u001b[0;32mtry\u001b[0m\u001b[0;34m:\u001b[0m\u001b[0;34m\u001b[0m\u001b[0;34m\u001b[0m\u001b[0m\n\u001b[0;32m----> 5\u001b[0;31m         \u001b[0;32mreturn\u001b[0m \u001b[0;34m(\u001b[0m\u001b[0mv_0\u001b[0m \u001b[0;34m-\u001b[0m \u001b[0msqrt\u001b[0m\u001b[0;34m(\u001b[0m\u001b[0mDelta\u001b[0m\u001b[0;34m)\u001b[0m\u001b[0;34m)\u001b[0m\u001b[0;34m/\u001b[0m\u001b[0mg\u001b[0m\u001b[0;34m\u001b[0m\u001b[0;34m\u001b[0m\u001b[0m\n\u001b[0m\u001b[1;32m      6\u001b[0m     \u001b[0;32mexcept\u001b[0m \u001b[0mValueError\u001b[0m\u001b[0;34m:\u001b[0m\u001b[0;34m\u001b[0m\u001b[0;34m\u001b[0m\u001b[0m\n",
      "\u001b[0;31mValueError\u001b[0m: math domain error",
      "\nDuring handling of the above exception, another exception occurred:\n",
      "\u001b[0;31mException\u001b[0m                                 Traceback (most recent call last)",
      "\u001b[0;32m<ipython-input-49-3a03f4968e75>\u001b[0m in \u001b[0;36m<module>\u001b[0;34m\u001b[0m\n\u001b[1;32m      7\u001b[0m         \u001b[0;32mraise\u001b[0m \u001b[0mException\u001b[0m\u001b[0;34m(\u001b[0m\u001b[0;34m\"La balle ne touche pas le plafond\"\u001b[0m\u001b[0;34m)\u001b[0m\u001b[0;34m\u001b[0m\u001b[0;34m\u001b[0m\u001b[0m\n\u001b[1;32m      8\u001b[0m \u001b[0mprint\u001b[0m\u001b[0;34m(\u001b[0m\u001b[0mtemps_arrivee\u001b[0m\u001b[0;34m(\u001b[0m\u001b[0;36m1\u001b[0m\u001b[0;34m,\u001b[0m \u001b[0;36m10\u001b[0m\u001b[0;34m)\u001b[0m\u001b[0;34m)\u001b[0m\u001b[0;34m\u001b[0m\u001b[0;34m\u001b[0m\u001b[0m\n\u001b[0;32m----> 9\u001b[0;31m \u001b[0mprint\u001b[0m\u001b[0;34m(\u001b[0m\u001b[0mtemps_arrivee\u001b[0m\u001b[0;34m(\u001b[0m\u001b[0;36m1\u001b[0m\u001b[0;34m,\u001b[0m \u001b[0;36m1\u001b[0m\u001b[0;34m)\u001b[0m\u001b[0;34m)\u001b[0m\u001b[0;34m\u001b[0m\u001b[0;34m\u001b[0m\u001b[0m\n\u001b[0m",
      "\u001b[0;32m<ipython-input-49-3a03f4968e75>\u001b[0m in \u001b[0;36mtemps_arrivee\u001b[0;34m(h, v_0, g)\u001b[0m\n\u001b[1;32m      5\u001b[0m         \u001b[0;32mreturn\u001b[0m \u001b[0;34m(\u001b[0m\u001b[0mv_0\u001b[0m \u001b[0;34m-\u001b[0m \u001b[0msqrt\u001b[0m\u001b[0;34m(\u001b[0m\u001b[0mDelta\u001b[0m\u001b[0;34m)\u001b[0m\u001b[0;34m)\u001b[0m\u001b[0;34m/\u001b[0m\u001b[0mg\u001b[0m\u001b[0;34m\u001b[0m\u001b[0;34m\u001b[0m\u001b[0m\n\u001b[1;32m      6\u001b[0m     \u001b[0;32mexcept\u001b[0m \u001b[0mValueError\u001b[0m\u001b[0;34m:\u001b[0m\u001b[0;34m\u001b[0m\u001b[0;34m\u001b[0m\u001b[0m\n\u001b[0;32m----> 7\u001b[0;31m         \u001b[0;32mraise\u001b[0m \u001b[0mException\u001b[0m\u001b[0;34m(\u001b[0m\u001b[0;34m\"La balle ne touche pas le plafond\"\u001b[0m\u001b[0;34m)\u001b[0m\u001b[0;34m\u001b[0m\u001b[0;34m\u001b[0m\u001b[0m\n\u001b[0m\u001b[1;32m      8\u001b[0m \u001b[0mprint\u001b[0m\u001b[0;34m(\u001b[0m\u001b[0mtemps_arrivee\u001b[0m\u001b[0;34m(\u001b[0m\u001b[0;36m1\u001b[0m\u001b[0;34m,\u001b[0m \u001b[0;36m10\u001b[0m\u001b[0;34m)\u001b[0m\u001b[0;34m)\u001b[0m\u001b[0;34m\u001b[0m\u001b[0;34m\u001b[0m\u001b[0m\n\u001b[1;32m      9\u001b[0m \u001b[0mprint\u001b[0m\u001b[0;34m(\u001b[0m\u001b[0mtemps_arrivee\u001b[0m\u001b[0;34m(\u001b[0m\u001b[0;36m1\u001b[0m\u001b[0;34m,\u001b[0m \u001b[0;36m1\u001b[0m\u001b[0;34m)\u001b[0m\u001b[0;34m)\u001b[0m\u001b[0;34m\u001b[0m\u001b[0;34m\u001b[0m\u001b[0m\n",
      "\u001b[0;31mException\u001b[0m: La balle ne touche pas le plafond"
     ]
    }
   ],
   "source": [
    "from math import sqrt\n",
    "def temps_arrivee(h, v_0, g=9.81):\n",
    "    Delta = v_0**2 - 2*g*h\n",
    "    try:\n",
    "        return (v_0 - sqrt(Delta))/g\n",
    "    except ValueError:\n",
    "        raise Exception(\"La balle ne touche pas le plafond\")\n",
    "print(temps_arrivee(1, 10))\n",
    "print(temps_arrivee(1, 1))"
   ]
  },
  {
   "cell_type": "code",
   "execution_count": null,
   "id": "72ba2395",
   "metadata": {},
   "outputs": [],
   "source": []
  },
  {
   "cell_type": "markdown",
   "id": "44cd8983",
   "metadata": {},
   "source": [
    "# Les fichiers\n",
    "* Répertoire absolu et relatif\n",
    "* Chemin d'accès\n",
    "* Fichier texte (c'est une chaine de caractère)\n",
    "* Lecture/écriture\n",
    "* Format JSON"
   ]
  },
  {
   "cell_type": "code",
   "execution_count": 50,
   "id": "c34a3919",
   "metadata": {},
   "outputs": [
    {
     "name": "stdout",
     "output_type": "stream",
     "text": [
      "/home/pierre/Enseignement/2023/Python1/cours/cours2\r\n"
     ]
    }
   ],
   "source": [
    "!pwd\n",
    "# Sous windows !cd => c:\\Users\\login\\"
   ]
  },
  {
   "cell_type": "code",
   "execution_count": 51,
   "id": "767d33d9",
   "metadata": {},
   "outputs": [],
   "source": [
    "filename = \"/home/pierre/Enseignement/2023/Python1/cours/cours2/Python_et_numpy_avance.ipynb\"\n",
    "filename = \"Python_et_numpy_avance.ipynb\""
   ]
  },
  {
   "cell_type": "code",
   "execution_count": 52,
   "id": "79aa78bc",
   "metadata": {},
   "outputs": [],
   "source": [
    "current_dir = \"/home/pierre/Enseignement/2022/PythonENS/cours/cours2\""
   ]
  },
  {
   "cell_type": "code",
   "execution_count": 53,
   "id": "385eea65",
   "metadata": {},
   "outputs": [
    {
     "name": "stdout",
     "output_type": "stream",
     "text": [
      "['Python_et_numpy_avance.ipynb', 'untitled.txt', 'test.json', 'data', '.ipynb_checkpoints', 'test_python.txt']\n",
      "['Bases de python et utilisation de numpy.ipynb', 'ma_figure.pdf', 'ma_figure.svg']\n"
     ]
    }
   ],
   "source": [
    "# Chemin relatif\n",
    "import os\n",
    "print(os.listdir(current_dir))\n",
    "#print(os.listdir('data/'))\n",
    "print(os.listdir('../cours1'))"
   ]
  },
  {
   "cell_type": "code",
   "execution_count": null,
   "id": "60883829",
   "metadata": {},
   "outputs": [],
   "source": []
  },
  {
   "cell_type": "code",
   "execution_count": null,
   "id": "afc97d02",
   "metadata": {},
   "outputs": [],
   "source": []
  },
  {
   "cell_type": "code",
   "execution_count": 54,
   "id": "eaf0604a",
   "metadata": {},
   "outputs": [],
   "source": [
    "file = 'data/test_python.txt'\n",
    "fd = open(file, 'w')\n",
    "fd.write('Bonjour\\n')\n",
    "fd.close()"
   ]
  },
  {
   "cell_type": "code",
   "execution_count": 55,
   "id": "a1a4112d",
   "metadata": {},
   "outputs": [],
   "source": [
    "with open(file, 'a') as fd:\n",
    "    fd.write('Au revoir')"
   ]
  },
  {
   "cell_type": "code",
   "execution_count": 57,
   "id": "91872afa",
   "metadata": {},
   "outputs": [
    {
     "name": "stdout",
     "output_type": "stream",
     "text": [
      "Bonjour\n",
      "Au revoir\n"
     ]
    }
   ],
   "source": [
    "with open(file) as fd:\n",
    "    print(fd.read())"
   ]
  },
  {
   "cell_type": "code",
   "execution_count": null,
   "id": "88d41d7c",
   "metadata": {},
   "outputs": [],
   "source": [
    "with open(file) as fd:\n",
    "    lines = fd.readlines()\n",
    "    \n",
    "for line in lines:\n",
    "    print(line.strip()) # strip pour enlever le \\n"
   ]
  },
  {
   "cell_type": "code",
   "execution_count": null,
   "id": "57513371",
   "metadata": {},
   "outputs": [],
   "source": []
  },
  {
   "cell_type": "markdown",
   "id": "62c2a012",
   "metadata": {},
   "source": [
    "## JSON\n",
    "* Permet d'enregistrer une liste ou un dictionnaire\n",
    "* Fichier lisible par un humain"
   ]
  },
  {
   "cell_type": "code",
   "execution_count": 61,
   "id": "82a3b4f0",
   "metadata": {},
   "outputs": [],
   "source": [
    "import json\n",
    "\n",
    "personne_1 = {\"nom\":\"Dupont\", \"age\":13}\n",
    "personne_2 = {\"nom\":\"Dubois\", \"age\":34}\n",
    "\n",
    "annuaire = [personne_1, personne_2]\n",
    "\n",
    "file = 'test.json'\n",
    "with open(file, \"w\") as f:\n",
    "    json.dump(annuaire, f, indent=2)\n",
    "    "
   ]
  },
  {
   "cell_type": "code",
   "execution_count": 59,
   "id": "21a83f3c",
   "metadata": {},
   "outputs": [
    {
     "name": "stdout",
     "output_type": "stream",
     "text": [
      "[{'nom': 'Dupont', 'age': 13}, {'nom': 'Dubois', 'age': 34}]\n"
     ]
    }
   ],
   "source": [
    "with open(file) as f:\n",
    "    annuaire = json.load(f)\n",
    "print(annuaire)    \n",
    "    \n"
   ]
  },
  {
   "cell_type": "code",
   "execution_count": null,
   "id": "d0077ecd",
   "metadata": {},
   "outputs": [],
   "source": []
  },
  {
   "cell_type": "markdown",
   "id": "2d28c9ab",
   "metadata": {},
   "source": [
    "# Numpy"
   ]
  },
  {
   "cell_type": "code",
   "execution_count": 1,
   "id": "72993e9e",
   "metadata": {},
   "outputs": [],
   "source": [
    "import numpy as np\n",
    "import matplotlib.pyplot as plt"
   ]
  },
  {
   "cell_type": "markdown",
   "id": "e6fb70f0",
   "metadata": {},
   "source": [
    "# Tableaux nD"
   ]
  },
  {
   "cell_type": "code",
   "execution_count": 6,
   "id": "4f6aa30a",
   "metadata": {},
   "outputs": [
    {
     "data": {
      "text/plain": [
       "2"
      ]
     },
     "execution_count": 6,
     "metadata": {},
     "output_type": "execute_result"
    }
   ],
   "source": [
    "a = np.array([[1,2], [3, 4]])\n",
    "# l'index est un tuple\n",
    "a\n",
    "a[0, 1]\n",
    "#a[(0, 1)]"
   ]
  },
  {
   "cell_type": "code",
   "execution_count": 9,
   "id": "12455d80",
   "metadata": {},
   "outputs": [
    {
     "name": "stdout",
     "output_type": "stream",
     "text": [
      "[[0.44896538 0.66974977 0.53821711 0.57615746 0.08194611]\n",
      " [0.78903641 0.02560489 0.26720062 0.50950385 0.78355268]\n",
      " [0.42192165 0.17556142 0.40080314 0.2183728  0.03265151]\n",
      " [0.93833002 0.4835424  0.96206389 0.43382712 0.99247962]\n",
      " [0.08243995 0.99159993 0.54426793 0.37827489 0.61231135]]\n"
     ]
    }
   ],
   "source": [
    "x = np.random.rand(5, 5)\n",
    "print(x)"
   ]
  },
  {
   "cell_type": "code",
   "execution_count": 14,
   "id": "ce8db3b7",
   "metadata": {},
   "outputs": [
    {
     "data": {
      "text/plain": [
       "array([[0., 0., 0., 0.],\n",
       "       [0., 0., 0., 0.]])"
      ]
     },
     "execution_count": 14,
     "metadata": {},
     "output_type": "execute_result"
    }
   ],
   "source": [
    "np.zeros([2, 4])"
   ]
  },
  {
   "cell_type": "code",
   "execution_count": 11,
   "id": "f1889f25",
   "metadata": {},
   "outputs": [
    {
     "data": {
      "text/plain": [
       "array([[0.78903641, 0.02560489, 0.26720062, 0.50950385],\n",
       "       [0.42192165, 0.17556142, 0.40080314, 0.2183728 ]])"
      ]
     },
     "execution_count": 11,
     "metadata": {},
     "output_type": "execute_result"
    }
   ],
   "source": [
    "# Récupérer une colonne\n",
    "x[:,0]\n",
    "x[1:3, :-1]"
   ]
  },
  {
   "cell_type": "code",
   "execution_count": 12,
   "id": "de862318",
   "metadata": {},
   "outputs": [
    {
     "data": {
      "text/plain": [
       "(5, 5)"
      ]
     },
     "execution_count": 12,
     "metadata": {},
     "output_type": "execute_result"
    }
   ],
   "source": [
    "x.shape"
   ]
  },
  {
   "cell_type": "code",
   "execution_count": null,
   "id": "9f15b069",
   "metadata": {},
   "outputs": [],
   "source": [
    "# méthode reshape\n",
    "x = np.random.rand(25)\n",
    "x.reshape((5, 5))"
   ]
  },
  {
   "cell_type": "code",
   "execution_count": 16,
   "id": "4fcaea4c",
   "metadata": {},
   "outputs": [
    {
     "name": "stdout",
     "output_type": "stream",
     "text": [
      "[[1 2 3]\n",
      " [1 2 3]\n",
      " [1 2 3]\n",
      " [1 2 3]]\n",
      "[[ 7  7  7]\n",
      " [ 8  8  8]\n",
      " [ 9  9  9]\n",
      " [10 10 10]]\n"
     ]
    }
   ],
   "source": [
    "# meshgrid\n",
    "a, b = np.meshgrid([1, 2, 3], [7, 8, 9, 10])\n",
    "print(a)\n",
    "print(b)"
   ]
  },
  {
   "cell_type": "code",
   "execution_count": 22,
   "id": "2ab4af58",
   "metadata": {},
   "outputs": [
    {
     "data": {
      "text/plain": [
       "<matplotlib.colorbar.Colorbar at 0x7f89207834c0>"
      ]
     },
     "execution_count": 22,
     "metadata": {},
     "output_type": "execute_result"
    },
    {
     "data": {
      "image/png": "[encoded data removed]",
      "text/plain": [
       "<Figure size 432x288 with 2 Axes>"
      ]
     },
     "metadata": {
      "needs_background": "light"
     },
     "output_type": "display_data"
    }
   ],
   "source": [
    "\n",
    "# Création d'une image 2D avec meshgrid\n",
    "\n",
    "x = np.linspace(-.5, .5, 100)*4*np.pi\n",
    "y = np.linspace(-.5, .5, 150)*4*np.pi\n",
    "X, Y = np.meshgrid(x, y)\n",
    "R = np.sqrt(X**2 + Y**2)\n",
    "#plt.imshow((np.sin(Y)+np.cos(X))*np.exp(-R**2/30))\n",
    "plt.imshow(np.exp(-R**2/30), cmap='plasma')\n",
    "plt.colorbar()"
   ]
  },
  {
   "cell_type": "code",
   "execution_count": null,
   "id": "8554cd0e",
   "metadata": {},
   "outputs": [],
   "source": [
    "a = np.random.rand(3, 4, 2)\n",
    "a"
   ]
  },
  {
   "cell_type": "code",
   "execution_count": null,
   "id": "7d399560",
   "metadata": {},
   "outputs": [],
   "source": [
    "a.sum(axis=1)"
   ]
  },
  {
   "cell_type": "code",
   "execution_count": null,
   "id": "9e7dd84c",
   "metadata": {},
   "outputs": [],
   "source": [
    "a.sum(axis=(1, 2))"
   ]
  },
  {
   "cell_type": "code",
   "execution_count": null,
   "id": "5d562ebf",
   "metadata": {},
   "outputs": [],
   "source": []
  },
  {
   "cell_type": "code",
   "execution_count": 27,
   "id": "3f61b1c1",
   "metadata": {},
   "outputs": [
    {
     "data": {
      "text/plain": [
       "array([[0.14373463, 0.23439261, 0.25924488],\n",
       "       [0.19477976, 0.2866457 , 0.9013089 ],\n",
       "       [0.02264623, 0.90387362, 0.46635957],\n",
       "       [0.54645181, 0.75662366, 0.22234325],\n",
       "       [0.12929755, 0.88166716, 0.62862056]])"
      ]
     },
     "execution_count": 27,
     "metadata": {},
     "output_type": "execute_result"
    }
   ],
   "source": [
    "x = np.random.rand(5, 3)\n",
    "x"
   ]
  },
  {
   "cell_type": "code",
   "execution_count": 29,
   "id": "2d06d343",
   "metadata": {},
   "outputs": [
    {
     "data": {
      "text/plain": [
       "array([0.21245737, 0.46091145, 0.46429314, 0.50847291, 0.54652842])"
      ]
     },
     "execution_count": 29,
     "metadata": {},
     "output_type": "execute_result"
    }
   ],
   "source": [
    "x.mean(axis=1)"
   ]
  },
  {
   "cell_type": "markdown",
   "id": "b82ac84c",
   "metadata": {},
   "source": [
    "# Tableau dans la mémoire\n",
    "* strides\n",
    "* from numpy.lib.stride_tricks import as_strided"
   ]
  },
  {
   "cell_type": "code",
   "execution_count": 1,
   "id": "9d4a485f",
   "metadata": {},
   "outputs": [
    {
     "data": {
      "text/plain": [
       "[1]"
      ]
     },
     "execution_count": 1,
     "metadata": {},
     "output_type": "execute_result"
    }
   ],
   "source": [
    "a = []\n",
    "b = a\n",
    "b.append(1)\n",
    "a"
   ]
  },
  {
   "cell_type": "code",
   "execution_count": null,
   "id": "c52e0970",
   "metadata": {},
   "outputs": [],
   "source": [
    "a = np.arange(10)\n",
    "b = a[:3]\n",
    "b[0] = 10\n",
    "a"
   ]
  },
  {
   "cell_type": "code",
   "execution_count": null,
   "id": "e3a52fd9",
   "metadata": {},
   "outputs": [],
   "source": [
    "a.shape"
   ]
  },
  {
   "cell_type": "code",
   "execution_count": null,
   "id": "5348379d",
   "metadata": {
    "scrolled": true
   },
   "outputs": [],
   "source": [
    "a = np.linspace(0, 1, 11)\n",
    "#a.dtype = np.int64\n",
    "a"
   ]
  },
  {
   "cell_type": "code",
   "execution_count": null,
   "id": "34748571",
   "metadata": {},
   "outputs": [],
   "source": [
    "a[2]"
   ]
  },
  {
   "cell_type": "code",
   "execution_count": null,
   "id": "7f8caff6",
   "metadata": {},
   "outputs": [],
   "source": [
    "b = a[::2]\n",
    "b"
   ]
  },
  {
   "cell_type": "code",
   "execution_count": null,
   "id": "f876d865",
   "metadata": {},
   "outputs": [],
   "source": []
  },
  {
   "cell_type": "code",
   "execution_count": null,
   "id": "7ee219aa",
   "metadata": {},
   "outputs": [],
   "source": [
    "print(a.strides)\n",
    "print(b.strides)"
   ]
  },
  {
   "cell_type": "code",
   "execution_count": null,
   "id": "085c4177",
   "metadata": {},
   "outputs": [],
   "source": [
    "a = np.zeros((4, 3))\n",
    "a.strides"
   ]
  },
  {
   "cell_type": "code",
   "execution_count": null,
   "id": "cf41cf59",
   "metadata": {},
   "outputs": [],
   "source": [
    "a = np.arange(10)\n",
    "a.reshape((5, 2))"
   ]
  },
  {
   "cell_type": "code",
   "execution_count": null,
   "id": "45293a48",
   "metadata": {
    "scrolled": true
   },
   "outputs": [],
   "source": [
    "from numpy.lib.stride_tricks import as_strided\n",
    "a = np.arange(10)\n",
    "b = as_strided(a, shape=((6, 5)), strides=(8, 8))\n",
    "print(b)\n",
    "#b.mean(axis=1)"
   ]
  },
  {
   "cell_type": "markdown",
   "id": "d3893f90",
   "metadata": {},
   "source": [
    "# Broadcast"
   ]
  },
  {
   "cell_type": "code",
   "execution_count": 30,
   "id": "9d6bc14a",
   "metadata": {},
   "outputs": [],
   "source": [
    "import numpy as np\n",
    "from numpy import *"
   ]
  },
  {
   "cell_type": "code",
   "execution_count": 32,
   "id": "7f57eada",
   "metadata": {},
   "outputs": [
    {
     "data": {
      "text/plain": [
       "array([0.40514252, 0.13478749, 0.22673899, 0.98649996, 0.35557377])"
      ]
     },
     "execution_count": 32,
     "metadata": {},
     "output_type": "execute_result"
    }
   ],
   "source": [
    "x = np.random.rand(5)\n",
    "x"
   ]
  },
  {
   "cell_type": "code",
   "execution_count": 38,
   "id": "8832132c",
   "metadata": {},
   "outputs": [
    {
     "data": {
      "text/plain": [
       "array([3., 4.])"
      ]
     },
     "execution_count": 38,
     "metadata": {},
     "output_type": "execute_result"
    }
   ],
   "source": [
    "x[2:4] + 2"
   ]
  },
  {
   "cell_type": "code",
   "execution_count": null,
   "id": "5e164da8",
   "metadata": {},
   "outputs": [],
   "source": []
  },
  {
   "cell_type": "code",
   "execution_count": 42,
   "id": "95029caf",
   "metadata": {},
   "outputs": [
    {
     "name": "stdout",
     "output_type": "stream",
     "text": [
      "(5, 5)\n",
      "(1, 5)\n"
     ]
    },
    {
     "data": {
      "text/plain": [
       "array([[1.02509885, 2.74115212, 3.29267669, 4.72117002, 5.59556385],\n",
       "       [1.52200889, 2.33703806, 3.70425874, 4.56971256, 5.15240082]])"
      ]
     },
     "execution_count": 42,
     "metadata": {},
     "output_type": "execute_result"
    }
   ],
   "source": [
    "# Si sur une dimension la taille du tableau vaut 1, alors numpy peut l'étendre\n",
    "# pour qu'elle ait la même valeur que celle de l'autre tableau\n",
    "x = random.rand(5, 5)\n",
    "a = array([ [1, 2, 3, 4, 5] ])\n",
    "print(x.shape)\n",
    "print(a.shape)\n",
    "x + a\n",
    "x[2:4, :] + a"
   ]
  },
  {
   "cell_type": "code",
   "execution_count": null,
   "id": "d355055f",
   "metadata": {},
   "outputs": [],
   "source": [
    "x = np.arange(10)\n",
    "x + 1"
   ]
  },
  {
   "cell_type": "code",
   "execution_count": null,
   "id": "310df0f2",
   "metadata": {},
   "outputs": [],
   "source": [
    "# Il y a une syntaxe simple pour rajouter une dimension de taille 1\n",
    "# C'est newaxis\n",
    "a = arange(5)\n",
    "b = a[np.newaxis, :]\n",
    "x = random.rand(5, 5)\n",
    "x[2:4, :] = b\n",
    "x"
   ]
  },
  {
   "cell_type": "code",
   "execution_count": 43,
   "id": "3e7a815d",
   "metadata": {},
   "outputs": [
    {
     "name": "stdout",
     "output_type": "stream",
     "text": [
      "[[ 8.36849253 11.92181278  9.00265016 18.86317485 18.7849147 ]\n",
      " [14.13264325 16.54411792 11.07599628  3.55013717 15.55692167]\n",
      " [12.22955338  0.72140408  1.01774637  9.32702606  7.06777787]\n",
      " [ 8.1618087  17.02043415  5.36869047 15.26328654 17.53625932]\n",
      " [ 0.27927201  7.36561785  1.15922399 18.97472348 12.69871536]\n",
      " [12.56920069 16.97387632 12.16501643 16.49076701  5.35795125]\n",
      " [ 1.91633744 19.12602645 10.92793234 18.09573856 19.31894248]\n",
      " [ 9.47044479  2.09979974  0.56171049  8.13554496 12.48921352]\n",
      " [17.18138621  6.12986777  6.298114    2.06346925 15.41860937]\n",
      " [ 0.57529256 12.10533197 14.31454181  6.87408222  1.72796792]]\n"
     ]
    }
   ],
   "source": [
    "# Exemple : calculer une moyenne pondérée \n",
    "# Chaque ligne est un élève, chaque colonne un examen\n",
    "notes = random.rand(10, 5)*20\n",
    "print(notes)\n",
    "coef = array([1, 4, 2, 5, 8])"
   ]
  },
  {
   "cell_type": "code",
   "execution_count": 44,
   "id": "41b2877c",
   "metadata": {},
   "outputs": [
    {
     "data": {
      "text/plain": [
       "array([15.93281179, 12.23335834,  6.01640079, 15.17937168, 11.42617658,\n",
       "       11.50560919, 17.26532703,  7.97922488,  9.39816532,  6.29099293])"
      ]
     },
     "execution_count": 44,
     "metadata": {},
     "output_type": "execute_result"
    }
   ],
   "source": [
    "# Il est inutile de faire des boucles\n",
    "(notes*coef[np.newaxis,:]).sum(axis=1)/np.sum(coef)"
   ]
  },
  {
   "cell_type": "markdown",
   "id": "b9176f1c",
   "metadata": {},
   "source": [
    "# Au delà de numpy : numba\n",
    "* Calculer $\\pi$ (avec une formule très très lente!!!)\n",
    "$$ \\frac\\pi4 = \\sum_i \\frac{(-1)^i}{2i+1} = 1 - \\frac13 + \\frac 15 - \\frac17 + \\ldots $$\n",
    "\n",
    "* numba.vectorize\n"
   ]
  },
  {
   "cell_type": "code",
   "execution_count": 51,
   "id": "c3846b5f",
   "metadata": {},
   "outputs": [
    {
     "name": "stdout",
     "output_type": "stream",
     "text": [
      "121 ms ± 1.32 ms per loop (mean ± std. dev. of 7 runs, 10 loops each)\n"
     ]
    }
   ],
   "source": [
    "def pi_python(N):\n",
    "    res = 0\n",
    "    coef = 1\n",
    "    for i in range(N):\n",
    "        res += coef/(2*i+1)\n",
    "        coef = -coef\n",
    "    return 4*res\n",
    "\n",
    "%timeit pi_python(1000000) # 77 ms"
   ]
  },
  {
   "cell_type": "code",
   "execution_count": 52,
   "id": "373a3e5b",
   "metadata": {},
   "outputs": [
    {
     "name": "stdout",
     "output_type": "stream",
     "text": [
      "16.2 ms ± 506 µs per loop (mean ± std. dev. of 7 runs, 100 loops each)\n"
     ]
    }
   ],
   "source": [
    "import numpy as np\n",
    "def pi_np(N):\n",
    "    Ti = np.arange(N)\n",
    "    moins_un_puissance_i = ( 1-2*(Ti%2) )\n",
    "    return 4*np.sum( moins_un_puissance_i/(2*Ti+1))\n",
    "\n",
    "%timeit pi_np(1000000) # 11.5ms"
   ]
  },
  {
   "cell_type": "code",
   "execution_count": 54,
   "id": "3c3cb53b",
   "metadata": {},
   "outputs": [
    {
     "name": "stdout",
     "output_type": "stream",
     "text": [
      "1.67 ms ± 1.59 µs per loop (mean ± std. dev. of 7 runs, 1000 loops each)\n"
     ]
    }
   ],
   "source": [
    "from numba import jit, int64, float64\n",
    "import numba\n",
    "# Just in time complier\n",
    "\n",
    "numba_pi = jit(float64(int64))(pi_python)\n",
    "\n",
    "%timeit numba_pi(1000000)"
   ]
  },
  {
   "cell_type": "code",
   "execution_count": 55,
   "id": "64ae3ca5",
   "metadata": {},
   "outputs": [
    {
     "data": {
      "text/plain": [
       "3.1415916535897743"
      ]
     },
     "execution_count": 55,
     "metadata": {},
     "output_type": "execute_result"
    }
   ],
   "source": [
    "numba_pi(1000000)"
   ]
  },
  {
   "cell_type": "code",
   "execution_count": 69,
   "id": "aa9609bc",
   "metadata": {},
   "outputs": [],
   "source": [
    "# Décorateur @\n",
    "@jit( float64(int64) )\n",
    "def numba_pi(N):\n",
    "    res = 0\n",
    "    coef = 1\n",
    "    for i in range(N):\n",
    "        res += coef/(2*i+1)\n",
    "        coef = -coef\n",
    "    return 4*res\n"
   ]
  },
  {
   "cell_type": "code",
   "execution_count": 70,
   "id": "962dade0",
   "metadata": {},
   "outputs": [
    {
     "name": "stdout",
     "output_type": "stream",
     "text": [
      "1.3 ms ± 61.9 µs per loop (mean ± std. dev. of 7 runs, 1000 loops each)\n"
     ]
    }
   ],
   "source": [
    "#@jit(float64[:](float64[:], float64[:]), parallel=True)\n",
    "@jit(parallel=True)\n",
    "def somme(a, b):\n",
    "    N = len(a)\n",
    "    c = np.zeros(N)\n",
    "    for i in numba.prange(N):\n",
    "        c[i] = a[i] + b[i]\n",
    "    return c\n",
    "\n",
    "\n",
    "a = np.linspace(1, 2, 1000000)\n",
    "b = np.logspace(1, 2, 1000000)\n",
    "\n",
    "somme(a, b)\n",
    "\n",
    "%timeit somme(a, b)"
   ]
  },
  {
   "cell_type": "code",
   "execution_count": 71,
   "id": "e404916e",
   "metadata": {},
   "outputs": [
    {
     "name": "stdout",
     "output_type": "stream",
     "text": [
      "1.37 ms ± 110 µs per loop (mean ± std. dev. of 7 runs, 1000 loops each)\n"
     ]
    }
   ],
   "source": [
    "%timeit a + b"
   ]
  },
  {
   "cell_type": "code",
   "execution_count": null,
   "id": "992068e4",
   "metadata": {},
   "outputs": [],
   "source": [
    "# Numpy utilise des variables intermédiaires -> vitesse limitée par la mémoire\n",
    "(a + b)*c + a\n",
    "tmp1 = a + b\n",
    "tmp2 = tmp1*c\n",
    "res = tmp2 + a"
   ]
  },
  {
   "cell_type": "code",
   "execution_count": null,
   "id": "94d92f4b",
   "metadata": {},
   "outputs": [],
   "source": []
  },
  {
   "cell_type": "code",
   "execution_count": 42,
   "id": "75beca6f",
   "metadata": {},
   "outputs": [
    {
     "data": {
      "text/plain": [
       "5.277408"
      ]
     },
     "execution_count": 42,
     "metadata": {},
     "output_type": "execute_result"
    }
   ],
   "source": [
    "def volume(dimension, M):\n",
    "    pts = np.random.rand(M, dimension)*2 - 1\n",
    "    carre_norme = np.sum(pts**2, axis=1)\n",
    "    return np.mean(carre_norme<1) * 2**dimension\n",
    "\n",
    "volume(5, 1000000)"
   ]
  },
  {
   "cell_type": "code",
   "execution_count": 49,
   "id": "347f1498",
   "metadata": {},
   "outputs": [
    {
     "name": "stdout",
     "output_type": "stream",
     "text": [
      "1.89 s ± 96.3 ms per loop (mean ± std. dev. of 7 runs, 1 loop each)\n"
     ]
    }
   ],
   "source": [
    "%timeit volume(10, 10000000)"
   ]
  },
  {
   "cell_type": "code",
   "execution_count": 47,
   "id": "d2132361",
   "metadata": {},
   "outputs": [
    {
     "data": {
      "text/plain": [
       "5.273312"
      ]
     },
     "execution_count": 47,
     "metadata": {},
     "output_type": "execute_result"
    }
   ],
   "source": [
    "@jit(float64(float64, int64))\n",
    "def volume_numba(dimension, M):\n",
    "    output = 0\n",
    "    for i in range(M):\n",
    "        point = np.random.rand(dimension)*2 -1 \n",
    "        carre_norme = np.sum(point**2)\n",
    "        if carre_norme<1:\n",
    "            output += 1\n",
    "    return output/M * 2**dimension\n",
    "\n",
    "\n",
    "volume_numba(5, 1000000)\n"
   ]
  },
  {
   "cell_type": "code",
   "execution_count": 50,
   "id": "d7021020",
   "metadata": {},
   "outputs": [
    {
     "name": "stdout",
     "output_type": "stream",
     "text": [
      "3.29 s ± 7.58 ms per loop (mean ± std. dev. of 7 runs, 1 loop each)\n"
     ]
    }
   ],
   "source": [
    "%timeit volume_numba(10, 10000000)"
   ]
  },
  {
   "cell_type": "markdown",
   "id": "467fba8f",
   "metadata": {},
   "source": [
    "# Les décorateurs\n",
    "Utilisé pour modifier automatiquement une fonction\n",
    "\n",
    "Par exemple : \n",
    "\n",
    "* Gérer les erreurs d'un façon spécifique\n",
    "* Loguer les appels d'une fonction\n",
    "* Mettre en cache\n",
    "* Pour numpy : np.vectorize peut être utilisé comme un décorateur"
   ]
  },
  {
   "cell_type": "code",
   "execution_count": 60,
   "id": "5504c907",
   "metadata": {},
   "outputs": [
    {
     "name": "stdout",
     "output_type": "stream",
     "text": [
      "Bonjour (2,)\n"
     ]
    },
    {
     "data": {
      "text/plain": [
       "4"
      ]
     },
     "execution_count": 60,
     "metadata": {},
     "output_type": "execute_result"
    }
   ],
   "source": [
    "def dit_bonjour(f):\n",
    "    def nouvelle_fonction(*args, **kwd):\n",
    "        print('Bonjour', args)\n",
    "        return f(*args, **kwd)\n",
    "    return nouvelle_fonction\n",
    "\n",
    "@dit_bonjour\n",
    "def f(x):\n",
    "    return x**2\n",
    "\n",
    "f(2)"
   ]
  },
  {
   "cell_type": "code",
   "execution_count": null,
   "id": "302a9feb",
   "metadata": {},
   "outputs": [],
   "source": [
    "f(2)"
   ]
  },
  {
   "cell_type": "code",
   "execution_count": 62,
   "id": "96c01d75",
   "metadata": {},
   "outputs": [
    {
     "name": "stdout",
     "output_type": "stream",
     "text": [
      "Bonjour (2,)\n",
      "Hello!\n"
     ]
    },
    {
     "data": {
      "text/plain": [
       "4"
      ]
     },
     "execution_count": 62,
     "metadata": {},
     "output_type": "execute_result"
    }
   ],
   "source": [
    "def dit_qqc(mot):\n",
    "    def mon_decorateur(f):\n",
    "        def nouvelle_fonction(*args, **kwd):\n",
    "            print(mot)\n",
    "            return f(*args, **kwd)\n",
    "        return nouvelle_fonction\n",
    "    return mon_decorateur\n",
    "\n",
    "@dit_bonjour\n",
    "@dit_qqc('Hello!')\n",
    "def f(x):\n",
    "    return 2*x\n",
    "\n",
    "f(2)"
   ]
  },
  {
   "cell_type": "code",
   "execution_count": 68,
   "id": "e6f043b2",
   "metadata": {},
   "outputs": [
    {
     "name": "stdout",
     "output_type": "stream",
     "text": [
      "COUCOU\n",
      "4\n",
      "BONJOUR\n",
      "8\n"
     ]
    }
   ],
   "source": [
    "import time\n",
    "\n",
    "def cache(f):\n",
    "    the_cache = {}\n",
    "    def nouvelle_fonction(x):\n",
    "        if x not in the_cache.keys():\n",
    "            the_cache[x] = f(x)\n",
    "        return the_cache[x]\n",
    "    return nouvelle_fonction\n",
    "\n",
    "@cache\n",
    "def f(x):\n",
    "    time.sleep(2)\n",
    "    print('COUCOU')\n",
    "    return x**2\n",
    "\n",
    "@cache\n",
    "def g(x):\n",
    "    time.sleep(2)\n",
    "    print('BONJOUR')\n",
    "    return x**3\n",
    "\n",
    "print(f(2))\n",
    "print(g(2))\n"
   ]
  },
  {
   "cell_type": "code",
   "execution_count": 64,
   "id": "2649d56c",
   "metadata": {},
   "outputs": [
    {
     "name": "stdout",
     "output_type": "stream",
     "text": [
      "COUCOU\n"
     ]
    },
    {
     "data": {
      "text/plain": [
       "4"
      ]
     },
     "execution_count": 64,
     "metadata": {},
     "output_type": "execute_result"
    }
   ],
   "source": [
    "f(2)"
   ]
  },
  {
   "cell_type": "code",
   "execution_count": 65,
   "id": "3aa64bf2",
   "metadata": {},
   "outputs": [
    {
     "data": {
      "text/plain": [
       "4"
      ]
     },
     "execution_count": 65,
     "metadata": {},
     "output_type": "execute_result"
    }
   ],
   "source": [
    "f(2)"
   ]
  },
  {
   "cell_type": "code",
   "execution_count": null,
   "id": "daca7c90",
   "metadata": {},
   "outputs": [],
   "source": []
  }
 ],
 "metadata": {
  "kernelspec": {
   "display_name": "Python 3",
   "language": "python",
   "name": "python3"
  },
  "language_info": {
   "codemirror_mode": {
    "name": "ipython",
    "version": 3
   },
   "file_extension": ".py",
   "mimetype": "text/x-python",
   "name": "python",
   "nbconvert_exporter": "python",
   "pygments_lexer": "ipython3",
   "version": "3.8.8"
  },
  "varInspector": {
   "cols": {
    "lenName": 16,
    "lenType": 16,
    "lenVar": 40
   },
   "kernels_config": {
    "python": {
     "delete_cmd_postfix": "",
     "delete_cmd_prefix": "del ",
     "library": "var_list.py",
     "varRefreshCmd": "print(var_dic_list())"
    },
    "r": {
     "delete_cmd_postfix": ") ",
     "delete_cmd_prefix": "rm(",
     "library": "var_list.r",
     "varRefreshCmd": "cat(var_dic_list()) "
    }
   },
   "types_to_exclude": [
    "module",
    "function",
    "builtin_function_or_method",
    "instance",
    "_Feature"
   ],
   "window_display": false
  }
 },
 "nbformat": 4,
 "nbformat_minor": 5
}
