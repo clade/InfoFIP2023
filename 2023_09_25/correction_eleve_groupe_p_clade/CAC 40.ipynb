{
 "cells": [
  {
   "cell_type": "code",
   "execution_count": 42,
   "id": "f1b9b263",
   "metadata": {},
   "outputs": [
    {
     "name": "stdout",
     "output_type": "stream",
     "text": [
      "Date,Open,High,Low,Close,Adj Close,Volume\n",
      "\n"
     ]
    }
   ],
   "source": [
    "f = open(\"^FCHI(4).csv\")\n",
    "data = f.readlines()\n",
    "print(data[0])\n",
    "data = data[1:]"
   ]
  },
  {
   "cell_type": "code",
   "execution_count": 40,
   "id": "a6c780d4",
   "metadata": {},
   "outputs": [
    {
     "name": "stdout",
     "output_type": "stream",
     "text": [
      "2022-09-26,5744.490234,5828.049805,5736.000000,5769.390137,5769.390137,78603600\n",
      "2022-09-27,5809.819824,5852.609863,5753.819824,5753.819824,5753.819824,85032200\n",
      "2022-09-28,5692.540039,5773.080078,5651.490234,5765.009766,5765.009766,106668700\n",
      "2022-09-29,5746.290039,5746.290039,5628.419922,5676.870117,5676.870117,102422800\n",
      "2022-09-30,5712.200195,5770.779785,5688.339844,5762.339844,5762.339844,102731500\n",
      "2022-10-03,5697.470215,5804.270020,5654.439941,5794.149902,5794.149902,80848100\n",
      "2022-10-04,5859.450195,6039.689941,5852.919922,6039.689941,6039.689941,95391900\n",
      "2022-10-05,6006.120117,6034.930176,5953.549805,5985.459961,5985.459961,75121600\n",
      "2022-10-06,6004.109863,6018.470215,5917.270020,5936.419922,5936.419922,63735200\n",
      "2022-10-07,5911.959961,5956.950195,5855.660156,5866.939941,5866.939941,65700300\n"
     ]
    }
   ],
   "source": [
    "for line in data[:10]:\n",
    "    print(line.strip())"
   ]
  },
  {
   "cell_type": "code",
   "execution_count": 50,
   "id": "3cb75791",
   "metadata": {},
   "outputs": [
    {
     "data": {
      "text/plain": [
       "7581.259766"
      ]
     },
     "execution_count": 50,
     "metadata": {},
     "output_type": "execute_result"
    }
   ],
   "source": [
    "list_high = []\n",
    "for line in data:\n",
    "    date, open_value, high, low, close, adj_Close, volume = line.split(',')\n",
    "    list_high.append(float(high))\n",
    "max(list_high)\n"
   ]
  },
  {
   "cell_type": "code",
   "execution_count": 56,
   "id": "64a743ee",
   "metadata": {},
   "outputs": [
    {
     "data": {
      "text/plain": [
       "'2023-09-25'"
      ]
     },
     "execution_count": 56,
     "metadata": {},
     "output_type": "execute_result"
    }
   ],
   "source": [
    "def date(j, m, a):\n",
    "    return f'{a}-{m:02d}-{j:02d}'\n",
    "date(25, 9, 2023)\n"
   ]
  },
  {
   "cell_type": "code",
   "execution_count": 36,
   "id": "18a9fb88",
   "metadata": {},
   "outputs": [
    {
     "data": {
      "text/plain": [
       "'5852.919922'"
      ]
     },
     "execution_count": 36,
     "metadata": {},
     "output_type": "execute_result"
    }
   ],
   "source": [
    "def plus_bas(j, m, a):\n",
    "    for line in data :\n",
    "        if line.split(',')[0] == date(j, m, a) :\n",
    "            return line.split(',')[3]\n",
    "    print(\"Cette journée n'existe pas\")\n",
    "    \n",
    "plus_bas(4, 10, 2022)"
   ]
  },
  {
   "cell_type": "code",
   "execution_count": 53,
   "id": "1fbc085c",
   "metadata": {},
   "outputs": [],
   "source": [
    "dico = {}\n",
    "for line in data:\n",
    "    date, open_value, high, low, close, adj_Close, volume = line.split(',')\n",
    "    dico[date] = {'high':float(high), 'volume':float(volume), 'low':float(low)}\n"
   ]
  },
  {
   "cell_type": "code",
   "execution_count": 58,
   "id": "f1a73c35",
   "metadata": {},
   "outputs": [
    {
     "data": {
      "text/plain": [
       "{'high': 7270.060059, 'volume': 60321000.0, 'low': 7199.109863}"
      ]
     },
     "execution_count": 58,
     "metadata": {},
     "output_type": "execute_result"
    }
   ],
   "source": [
    "dico[date(21, 9, 2023)]"
   ]
  },
  {
   "cell_type": "code",
   "execution_count": null,
   "id": "c8715603",
   "metadata": {},
   "outputs": [],
   "source": []
  }
 ],
 "metadata": {
  "kernelspec": {
   "display_name": "Python 3",
   "language": "python",
   "name": "python3"
  },
  "language_info": {
   "codemirror_mode": {
    "name": "ipython",
    "version": 3
   },
   "file_extension": ".py",
   "mimetype": "text/x-python",
   "name": "python",
   "nbconvert_exporter": "python",
   "pygments_lexer": "ipython3",
   "version": "3.8.8"
  },
  "varInspector": {
   "cols": {
    "lenName": 16,
    "lenType": 16,
    "lenVar": 40
   },
   "kernels_config": {
    "python": {
     "delete_cmd_postfix": "",
     "delete_cmd_prefix": "del ",
     "library": "var_list.py",
     "varRefreshCmd": "print(var_dic_list())"
    },
    "r": {
     "delete_cmd_postfix": ") ",
     "delete_cmd_prefix": "rm(",
     "library": "var_list.r",
     "varRefreshCmd": "cat(var_dic_list()) "
    }
   },
   "types_to_exclude": [
    "module",
    "function",
    "builtin_function_or_method",
    "instance",
    "_Feature"
   ],
   "window_display": false
  }
 },
 "nbformat": 4,
 "nbformat_minor": 5
}
