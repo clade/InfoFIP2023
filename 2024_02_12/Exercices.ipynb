{
 "cells": [
  {
   "cell_type": "code",
   "execution_count": 12,
   "id": "fd2d84ce",
   "metadata": {},
   "outputs": [
    {
     "data": {
      "text/plain": [
       "1"
      ]
     },
     "execution_count": 12,
     "metadata": {},
     "output_type": "execute_result"
    }
   ],
   "source": [
    "import dataclasses\n",
    "\n",
    "@dataclasses.dataclass\n",
    "class Vecteur():\n",
    "    x : float\n",
    "    y : float\n",
    "    z : float\n",
    "\n",
    "    def __add__(self, other):\n",
    "        if isinstance(other, Vecteur):\n",
    "            return Vecteur(self.x+other.x, self.y+other.y, self.z+other.z)\n",
    "        return NotImplemented\n",
    "    \n",
    "    def __getitem__(self, val):\n",
    "        if val==0:\n",
    "            return self.x\n",
    "        if val==1:\n",
    "            return self.y\n",
    "        if val==2:\n",
    "            return self.z\n",
    "        raise IndexError()\n",
    "        \n",
    "v = Vecteur(1, 2, 3.4)\n",
    "v1 = Vecteur(1, 2, 3.4)\n",
    "\n",
    "v + v1\n",
    "\n",
    "v[0]\n"
   ]
  },
  {
   "cell_type": "code",
   "execution_count": 3,
   "id": "1e19a362",
   "metadata": {},
   "outputs": [
    {
     "data": {
      "text/html": [
       "<table>\n",
       "<thead>\n",
       "<tr><th>Auteur</th><th>Titre</th><th>Année</th></tr>\n",
       "</thead>\n",
       "<tbody>\n",
       "<tr><td>F. Dupont</td><td>A very nice book</td><td>2014</td></tr>\n",
       "<tr><td>A. Einstein</td><td>A very smart book</td><td>1923</td></tr>\n",
       "<tr><td>D. Duck</td><td>A very stupid comic</td><td>1937</td></tr>\n",
       "</tbody>\n",
       "</table>"
      ],
      "text/plain": [
       "Bibliographie(book_list=[Livre(titre='A very nice book', auteur='F. Dupont', annee=2014), Livre(titre='A very smart book', auteur='A. Einstein', annee=1923), Livre(titre='A very stupid comic', auteur='D. Duck', annee=1937)])"
      ]
     },
     "execution_count": 3,
     "metadata": {},
     "output_type": "execute_result"
    }
   ],
   "source": [
    "import dataclasses\n",
    "import json\n",
    "\n",
    "@dataclasses.dataclass\n",
    "class Livre():\n",
    "    titre : str\n",
    "    auteur : str\n",
    "    annee : int\n",
    "        \n",
    "    def convert_to_dict(self):\n",
    "        return {'titre':self.titre, 'auteur':self.auteur, 'annee':self.annee}\n",
    "    \n",
    "    @classmethod\n",
    "    def from_dict(cls, dct):\n",
    "        return cls(titre=dct['titre'], auteur=dct['auteur'], annee=dct['annee'])\n",
    "    \n",
    "    def to_html_table_line(self):\n",
    "        return f\"<tr><td>{self.auteur}</td><td>{self.titre}</td><td>{self.annee}</td></tr>\"\n",
    "\n",
    "        \n",
    "livre1 = Livre(\"A very nice book\", \"F. Dupont\", 2014)\n",
    "livre2 = Livre(\"A very smart book\", \"A. Einstein\", 1923)\n",
    "livre3 = Livre(\"A very stupid comic\", \"D. Duck\", 1937)\n",
    "\n",
    "\n",
    "bibio_html_template=\"\"\"<table>\n",
    "<thead>\n",
    "<tr><th>Auteur</th><th>Titre</th><th>Année</th></tr>\n",
    "</thead>\n",
    "<tbody>\n",
    "{content}\n",
    "</tbody>\n",
    "</table>\"\"\"\n",
    "\n",
    "\n",
    "@dataclasses.dataclass\n",
    "class Bibliographie:\n",
    "    book_list : list\n",
    "\n",
    "    def save_to_json(self, filename):\n",
    "        with open(filename, 'w') as f:\n",
    "            json.dump(self._convert_to_list_of_dict(), f, indent=2)\n",
    "    \n",
    "    def _convert_to_list_of_dict(self):\n",
    "        return [item.convert_to_dict() for item in self.book_list]\n",
    "    \n",
    "    @classmethod\n",
    "    def from_list_of_dict(cls, lst):\n",
    "        return cls([Livre.from_dict(item) for item in lst])\n",
    "    \n",
    "    @classmethod\n",
    "    def load_from_json(cls, filename):\n",
    "        with open(filename) as f:\n",
    "            return cls.from_list_of_dict(json.load(f))\n",
    "\n",
    "    def to_html_table(self):\n",
    "        content = '\\n'.join([livre.to_html_table_line() for livre in self.book_list])\n",
    "        return bibio_html_template.format(content=content)\n",
    "        \n",
    "    _repr_html_ = to_html_table\n",
    "        \n",
    "bibliographie = Bibliographie([livre1, livre2, livre3])\n",
    "\n",
    "bibliographie"
   ]
  },
  {
   "cell_type": "code",
   "execution_count": null,
   "id": "0df9c2b4",
   "metadata": {},
   "outputs": [],
   "source": []
  }
 ],
 "metadata": {
  "kernelspec": {
   "display_name": "Python 3",
   "language": "python",
   "name": "python3"
  },
  "language_info": {
   "codemirror_mode": {
    "name": "ipython",
    "version": 3
   },
   "file_extension": ".py",
   "mimetype": "text/x-python",
   "name": "python",
   "nbconvert_exporter": "python",
   "pygments_lexer": "ipython3",
   "version": "3.8.8"
  },
  "varInspector": {
   "cols": {
    "lenName": 16,
    "lenType": 16,
    "lenVar": 40
   },
   "kernels_config": {
    "python": {
     "delete_cmd_postfix": "",
     "delete_cmd_prefix": "del ",
     "library": "var_list.py",
     "varRefreshCmd": "print(var_dic_list())"
    },
    "r": {
     "delete_cmd_postfix": ") ",
     "delete_cmd_prefix": "rm(",
     "library": "var_list.r",
     "varRefreshCmd": "cat(var_dic_list()) "
    }
   },
   "types_to_exclude": [
    "module",
    "function",
    "builtin_function_or_method",
    "instance",
    "_Feature"
   ],
   "window_display": false
  }
 },
 "nbformat": 4,
 "nbformat_minor": 5
}
