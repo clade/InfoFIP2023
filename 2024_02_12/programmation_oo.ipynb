{
 "cells": [
  {
   "cell_type": "markdown",
   "metadata": {},
   "source": [
    "# Programmation orientée objet\n",
    "\n",
    "Comment créer se propres objets en Python. \n",
    "\n",
    "## Vocabulaire\n",
    "\n",
    "En python tout ce que l'on manipule est un objet : \n",
    "* Nombre, liste, dictionnaire, ...\n",
    "* Tableau numpy\n",
    "* Fonction, module, ....\n",
    "\n",
    "Un objet possède des **attributs**. Exemple : \n",
    "\n",
    "    z = 1.1J\n",
    "    z.real\n",
    "    a = np.array([1, 2, 4])\n",
    "    a.shape\n",
    "    \n",
    "Un objet possède des **méthodes**. Exemple :\n",
    "\n",
    "    a.mean()\n",
    "    a.conjugate()\n",
    "    z.conjugate()\n",
    "    \n",
    "Les méthodes sont des fonctions attachées à l'objet. La méthode conjugate d'un tableau n'est pas la même que la méthode conjugate d'un complexe\n",
    "\n",
    "## Comment créer un objet\n",
    "\n",
    "### Créer un nombre complexe\n"
   ]
  },
  {
   "cell_type": "code",
   "execution_count": 126,
   "metadata": {},
   "outputs": [],
   "source": [
    "from math import sqrt, atan2, cos, sin, pi\n",
    "\n",
    "class Complex:\n",
    "    def __init__(self, partie_reelle, partie_imaginaire=0):\n",
    "        self.re = partie_reelle\n",
    "        self.im = partie_imaginaire\n",
    "        \n",
    "    def conjugate(self):\n",
    "        return Complex(self.re, -self.im)\n",
    "    \n",
    "    def __str__(self):\n",
    "        if self.im==0:\n",
    "            return f'{self.re}'\n",
    "        if self.im>0:\n",
    "            return f'{self.re} + {self.im}J'\n",
    "        if self.im<0:\n",
    "            return f'{self.re} - {-self.im}J'\n",
    "        \n",
    "    def __repr__(self):\n",
    "        return f'Complex({self.re}, {self.im})'\n",
    "    \n",
    "    def _make_other_complex(self, other):\n",
    "        if isinstance(other, (int, float)):\n",
    "            return Complex(other, 0)\n",
    "        return other\n",
    "    \n",
    "    def __add__(self, other):\n",
    "        other = self._make_other_complex(other)\n",
    "        if isinstance(other, Complex):\n",
    "            return Complex(self.re + other.re, self.im + other.im)\n",
    "        return NotImplemented\n",
    "\n",
    "    def __sub__(self, other):\n",
    "        other = self._make_other_complex(other)\n",
    "        if isinstance(other, Complex):\n",
    "            return Complex(self.re - other.re, self.im - other.im)\n",
    "        return NotImplemented\n",
    "    \n",
    "    def __truediv__(self, other):\n",
    "        other = self._make_other_complex(other)\n",
    "        if isinstance(other, Complex):\n",
    "            return Complex.from_polar(self.r/other.r, self.phase - other.phase)\n",
    "        return NotImplemented\n",
    "            \n",
    "\n",
    "    def __eq__(self, other):\n",
    "        other = self._make_other_complex(other)\n",
    "        if isinstance(other, Complex):\n",
    "            return other.re==self.re and other.im==self.im\n",
    "        return NotImplemented\n",
    "    \n",
    "    def __radd__(self, other):\n",
    "        return self + other\n",
    "    \n",
    "    @property\n",
    "    def r(self):\n",
    "        return sqrt(self.re**2 + self.im**2)\n",
    "    \n",
    "    @property\n",
    "    def phase(self):\n",
    "        return atan2(self.im, self.re)\n",
    "\n",
    "    @classmethod\n",
    "    def from_polar(cls, r, phase):\n",
    "        return Complex(r*cos(phase), r*sin(phase))"
   ]
  },
  {
   "cell_type": "code",
   "execution_count": 127,
   "metadata": {},
   "outputs": [
    {
     "data": {
      "text/plain": [
       "0.4636476090008061"
      ]
     },
     "execution_count": 127,
     "metadata": {},
     "output_type": "execute_result"
    }
   ],
   "source": [
    "z1 = Complex(1, 0.5)\n",
    "z2 = Complex(2.3, 1.3)\n",
    "\n",
    "z1.phase"
   ]
  },
  {
   "cell_type": "code",
   "execution_count": 128,
   "metadata": {},
   "outputs": [
    {
     "data": {
      "text/plain": [
       "Complex(0.42263610315186245, -0.021489971346704898)"
      ]
     },
     "execution_count": 128,
     "metadata": {},
     "output_type": "execute_result"
    }
   ],
   "source": [
    "z1/z2"
   ]
  },
  {
   "cell_type": "code",
   "execution_count": 96,
   "metadata": {},
   "outputs": [
    {
     "name": "stdout",
     "output_type": "stream",
     "text": [
      "1 + 0.5J\n"
     ]
    }
   ],
   "source": [
    "z = Complex(1, 0.5)\n",
    "\n",
    "print(z)"
   ]
  },
  {
   "cell_type": "code",
   "execution_count": 68,
   "metadata": {},
   "outputs": [
    {
     "name": "stdout",
     "output_type": "stream",
     "text": [
      "1 - 0.5J\n"
     ]
    }
   ],
   "source": [
    "z_conj = z.conjugate()\n",
    "z_conj.im\n",
    "print(z_conj)"
   ]
  },
  {
   "cell_type": "code",
   "execution_count": 69,
   "metadata": {},
   "outputs": [
    {
     "name": "stdout",
     "output_type": "stream",
     "text": [
      "1 + 0.5J\n"
     ]
    },
    {
     "data": {
      "text/plain": [
       "'1 + 0.5J'"
      ]
     },
     "execution_count": 69,
     "metadata": {},
     "output_type": "execute_result"
    }
   ],
   "source": [
    "print(z)\n",
    "str(z)"
   ]
  },
  {
   "cell_type": "code",
   "execution_count": 71,
   "metadata": {},
   "outputs": [
    {
     "data": {
      "text/plain": [
       "True"
      ]
     },
     "execution_count": 71,
     "metadata": {},
     "output_type": "execute_result"
    }
   ],
   "source": [
    "isinstance(z, object)"
   ]
  },
  {
   "cell_type": "code",
   "execution_count": null,
   "metadata": {},
   "outputs": [],
   "source": []
  },
  {
   "cell_type": "code",
   "execution_count": 55,
   "metadata": {},
   "outputs": [
    {
     "data": {
      "text/plain": [
       "'Complex(1, 0.5)'"
      ]
     },
     "execution_count": 55,
     "metadata": {},
     "output_type": "execute_result"
    }
   ],
   "source": [
    "repr(z)"
   ]
  },
  {
   "cell_type": "code",
   "execution_count": 20,
   "metadata": {},
   "outputs": [
    {
     "name": "stdout",
     "output_type": "stream",
     "text": [
      "Bonjour\n"
     ]
    }
   ],
   "source": [
    "s = 'Bonjour'\n",
    "print(s)"
   ]
  },
  {
   "cell_type": "code",
   "execution_count": 21,
   "metadata": {},
   "outputs": [
    {
     "data": {
      "text/plain": [
       "'Bonjour'"
      ]
     },
     "execution_count": 21,
     "metadata": {},
     "output_type": "execute_result"
    }
   ],
   "source": [
    "s"
   ]
  },
  {
   "cell_type": "code",
   "execution_count": 26,
   "metadata": {},
   "outputs": [
    {
     "name": "stdout",
     "output_type": "stream",
     "text": [
      "['Bonjour, Hello', array([1, 2])]\n"
     ]
    }
   ],
   "source": [
    "import numpy as np\n",
    "l = ['Bonjour, Hello', np.array([1, 2])]\n",
    "\n",
    "print(l)"
   ]
  },
  {
   "cell_type": "code",
   "execution_count": 24,
   "metadata": {},
   "outputs": [
    {
     "name": "stdout",
     "output_type": "stream",
     "text": [
      "[1, 2]\n"
     ]
    }
   ],
   "source": [
    "print(l)"
   ]
  },
  {
   "cell_type": "code",
   "execution_count": null,
   "metadata": {},
   "outputs": [],
   "source": []
  },
  {
   "cell_type": "code",
   "execution_count": null,
   "metadata": {},
   "outputs": [],
   "source": []
  },
  {
   "cell_type": "code",
   "execution_count": null,
   "metadata": {},
   "outputs": [],
   "source": []
  },
  {
   "cell_type": "code",
   "execution_count": null,
   "metadata": {},
   "outputs": [],
   "source": []
  },
  {
   "cell_type": "markdown",
   "metadata": {},
   "source": [
    "### Dataclass"
   ]
  },
  {
   "cell_type": "code",
   "execution_count": 13,
   "metadata": {},
   "outputs": [
    {
     "data": {
      "text/plain": [
       "Book(titre='A very nice book', auteur='F. Dupont', annee=2014)"
      ]
     },
     "execution_count": 13,
     "metadata": {},
     "output_type": "execute_result"
    }
   ],
   "source": [
    "import dataclasses\n",
    "\n",
    "@dataclasses.dataclass\n",
    "class Book():\n",
    "    titre : str\n",
    "    auteur : str\n",
    "    annee : int\n",
    "        \n",
    "book1 = Book(\"A very nice book\", \"F. Dupont\", 2014)\n",
    "book1"
   ]
  },
  {
   "cell_type": "code",
   "execution_count": null,
   "metadata": {},
   "outputs": [],
   "source": []
  },
  {
   "cell_type": "code",
   "execution_count": null,
   "metadata": {},
   "outputs": [],
   "source": []
  },
  {
   "cell_type": "markdown",
   "metadata": {},
   "source": [
    "### Instrumentation\n",
    "\n",
    "Exemple : oscilloscope (c.f. TP)\n",
    "\n",
    "Inconvénients de la méthode fonctionnelle : \n",
    "\n",
    "* L'utilisateur doit importer beaucoup de fonction\n",
    "* Les fonctions dépendent de l'instrument, il faut donc connaitre l'instrument pour savoir quelle fonction utiliser\n",
    "* Il faut gérer les arguments des fonctions."
   ]
  },
  {
   "cell_type": "code",
   "execution_count": 33,
   "metadata": {},
   "outputs": [
    {
     "data": {
      "text/plain": [
       "{'compagnie': 'TEKTRONIX', 'model': 'DPO3014', 'serial': 'C012048'}"
      ]
     },
     "execution_count": 33,
     "metadata": {},
     "output_type": "execute_result"
    }
   ],
   "source": [
    "from fake_scpi import FakeSCPI\n",
    "inst = FakeSCPI()\n",
    "\n",
    "def set_frequency(inst, freq=1000):\n",
    "    command = f'FREQ {freq:.3f}'\n",
    "    inst.write(command)\n",
    "\n",
    "def get_frequency(inst):\n",
    "    command = f'FREQ?'\n",
    "    return float(inst.query(command))\n",
    "\n",
    "def get_model_identification(inst):\n",
    "    res = inst.query(\"*IDN?\")\n",
    "    comp, model, serial, _ = res.split(',') \n",
    "    dic = {'compagnie':comp,\n",
    "          'model':model,\n",
    "          'serial':serial}\n",
    "    return dic\n",
    "\n",
    "set_frequency(inst, 100)\n",
    "get_frequency(inst)\n",
    "get_model_identification(inst)"
   ]
  },
  {
   "cell_type": "code",
   "execution_count": 46,
   "metadata": {},
   "outputs": [],
   "source": [
    "class Instrument():\n",
    "    def __init__(self, conn):\n",
    "        self._conn = conn\n",
    "        \n",
    "    def get_model_identification(self):\n",
    "        res = self._conn.query(\"*IDN?\")\n",
    "        comp, model, serial, _ = res.split(',') \n",
    "        dic = {'compagnie':comp,\n",
    "              'model':model,\n",
    "              'serial':serial}\n",
    "        return dic\n",
    "    \n",
    "    @property\n",
    "    def idn(self):\n",
    "        return self.get_model_identification()\n",
    "\n",
    "class GBF(Instrument):\n",
    "    frequency = property(lambda self:self.get_frequency(), lambda self, val:self.set_frequency(val))\n",
    "    \n",
    "    def get_frequency(self):\n",
    "        raise Exception()\n",
    "    \n",
    "class TektronixGBF(GBF):\n",
    "    def set_frequency(self, freq=1000):\n",
    "        command = f'FREQ {freq:.3f}'\n",
    "        self._conn.write(command)\n",
    "\n",
    "    def get_frequency(self):\n",
    "        command = f'FREQ?'\n",
    "        return float(self._conn.query(command))\n",
    "    \n",
    "        \n",
    "class AgilentGBF(GBF):\n",
    "    def set_frequency(self, freq=1000):\n",
    "        command = f'FRE {freq:.3f}'\n",
    "        self._conn.write(command)\n",
    "\n",
    "    def get_frequency(self):\n",
    "        command = f'FRE?'\n",
    "        return float(self._conn.query(command))\n",
    "\n",
    "\n",
    "    \n",
    "gbf = TektronixGBF(FakeSCPI())"
   ]
  },
  {
   "cell_type": "code",
   "execution_count": 47,
   "metadata": {},
   "outputs": [
    {
     "data": {
      "text/plain": [
       "True"
      ]
     },
     "execution_count": 47,
     "metadata": {},
     "output_type": "execute_result"
    }
   ],
   "source": [
    "isinstance(gbf, GBF)"
   ]
  },
  {
   "cell_type": "code",
   "execution_count": 48,
   "metadata": {},
   "outputs": [
    {
     "data": {
      "text/plain": [
       "10.0"
      ]
     },
     "execution_count": 48,
     "metadata": {},
     "output_type": "execute_result"
    }
   ],
   "source": [
    "gbf.frequency = 10\n",
    "gbf.frequency"
   ]
  },
  {
   "cell_type": "code",
   "execution_count": null,
   "metadata": {},
   "outputs": [],
   "source": []
  },
  {
   "cell_type": "code",
   "execution_count": null,
   "metadata": {},
   "outputs": [],
   "source": []
  },
  {
   "cell_type": "code",
   "execution_count": null,
   "metadata": {},
   "outputs": [],
   "source": []
  },
  {
   "cell_type": "code",
   "execution_count": null,
   "metadata": {},
   "outputs": [],
   "source": []
  },
  {
   "cell_type": "code",
   "execution_count": null,
   "metadata": {},
   "outputs": [],
   "source": []
  },
  {
   "cell_type": "code",
   "execution_count": null,
   "metadata": {},
   "outputs": [],
   "source": []
  },
  {
   "cell_type": "markdown",
   "metadata": {},
   "source": [
    "## Nouveaux concepts\n",
    "\n",
    "\n",
    "\n",
    "### Méthodes spéciales\n",
    "\n",
    "- `__init__`\n",
    "- `__repr__`, `__str__`\n",
    "\n",
    "Lorsque c'est possible, `__repr__` doit représenté au mieux l'objet. Souvent il s'agit d'une chaine de caractère qui en étant évaluée renvoie un objet similaire. La méthode `__str__` renvoie `__repr__` par défaut. Sinon, elle doit être plus simple.\n",
    "\n",
    "Opérateur unaire et binaire\n",
    "\n",
    "- `__neg__`\n",
    "- `__add__`, `__sub__`, `__mul__`, `__truediv__`, `__mod__`, `__pow__`\n",
    "- `__radd__`, ...\n",
    "- `__eq__` (==), `__ne__` (!=), `__lt__` (<), `__le__` (<=), `__gt__`, `__ge__`\n",
    "- `__or__` (|), `__and__` (&), `__xor__`(^)\n",
    "- `__matmul__` (@)\n",
    "\n",
    "\n",
    "Emulateur de contenu\n",
    "\n",
    "- a[key] => `a.__getitem__(key)`\n",
    "- a[key] = val => `a.__setitem__(key, val)`\n",
    "- del a[key] => `a.__delitem__(key)`\n",
    "- len(a) => `a.__len__()`\n",
    "- for elm in a => `for elm in a.__iter__()`\n",
    "\n",
    "Emulateur de fonction \n",
    "\n",
    "- obj(a, b) => `obj.__call__(a, b)`\n",
    "\n",
    "### Attributs et property\n",
    "\n",
    "- Attributs de class vs attributs d'objets\n",
    "- property\n",
    "\n",
    "### Héritage\n",
    "\n",
    "- isinstance permet de tester si un objet est une instance d'une classe. "
   ]
  },
  {
   "cell_type": "code",
   "execution_count": null,
   "metadata": {},
   "outputs": [],
   "source": []
  },
  {
   "cell_type": "code",
   "execution_count": 51,
   "metadata": {},
   "outputs": [],
   "source": [
    "class Test():\n",
    "    def __init__(self, val):\n",
    "        self._val = val\n",
    "    def __getitem__(self, val):\n",
    "        if isinstance(val, slice):\n",
    "            return self._val[slice.start]\n",
    "        print(type(val), val)\n",
    "        \n",
    "t = Test()"
   ]
  },
  {
   "cell_type": "code",
   "execution_count": 65,
   "metadata": {},
   "outputs": [
    {
     "name": "stdout",
     "output_type": "stream",
     "text": [
      "<class 'ellipsis'> Ellipsis\n"
     ]
    }
   ],
   "source": [
    "t[...]"
   ]
  },
  {
   "cell_type": "code",
   "execution_count": 61,
   "metadata": {},
   "outputs": [],
   "source": [
    "a = slice(1, 2, 4)\n"
   ]
  },
  {
   "cell_type": "code",
   "execution_count": 64,
   "metadata": {},
   "outputs": [
    {
     "data": {
      "text/plain": [
       "4"
      ]
     },
     "execution_count": 64,
     "metadata": {},
     "output_type": "execute_result"
    }
   ],
   "source": [
    "a.step"
   ]
  },
  {
   "cell_type": "code",
   "execution_count": 76,
   "metadata": {},
   "outputs": [
    {
     "name": "stdout",
     "output_type": "stream",
     "text": [
      "1\n",
      "5\n",
      "9\n"
     ]
    }
   ],
   "source": [
    "class Range():\n",
    "    def __init__(self, start, stop, step):\n",
    "        self.start = start\n",
    "        self.step = step\n",
    "        self.stop = stop\n",
    "        \n",
    "    def __iter__(self):\n",
    "        i = self.start\n",
    "        while i<self.stop:\n",
    "            yield i\n",
    "            i = i + self.step\n",
    "    \n",
    "for i in Range(1, 10, 4):\n",
    "    print(i)"
   ]
  },
  {
   "cell_type": "code",
   "execution_count": 70,
   "metadata": {},
   "outputs": [
    {
     "name": "stdout",
     "output_type": "stream",
     "text": [
      "A\n",
      "10\n",
      "B\n",
      "20\n",
      "C\n"
     ]
    }
   ],
   "source": [
    "def f():\n",
    "    print('A')\n",
    "    yield 10\n",
    "    print('B')\n",
    "    yield 20\n",
    "    print('C')\n",
    "    \n",
    "for elm in f():\n",
    "    print(elm)"
   ]
  },
  {
   "cell_type": "code",
   "execution_count": 72,
   "metadata": {},
   "outputs": [
    {
     "name": "stdout",
     "output_type": "stream",
     "text": [
      "0\n",
      "3\n",
      "6\n",
      "9\n"
     ]
    }
   ],
   "source": [
    "def my_range(start, stop, step):\n",
    "    i = start\n",
    "    while i<stop:\n",
    "        yield i\n",
    "        i = i + step\n",
    "        \n",
    "for elm in my_range(0, 10, 3):\n",
    "    print(elm)"
   ]
  },
  {
   "cell_type": "code",
   "execution_count": 73,
   "metadata": {},
   "outputs": [],
   "source": [
    "def tensor_product(l1, l2):\n",
    "    for elm1 in l1:\n",
    "        for elm2 in l2:\n",
    "            yield elm1, elm2"
   ]
  },
  {
   "cell_type": "code",
   "execution_count": 74,
   "metadata": {},
   "outputs": [
    {
     "name": "stdout",
     "output_type": "stream",
     "text": [
      "(0, 0)\n",
      "(0, 1)\n",
      "(1, 0)\n",
      "(1, 1)\n",
      "(2, 0)\n",
      "(2, 1)\n",
      "(3, 0)\n",
      "(3, 1)\n"
     ]
    }
   ],
   "source": [
    "for elm in tensor_product(range(4), range(2)):\n",
    "    print(elm)"
   ]
  },
  {
   "cell_type": "code",
   "execution_count": 77,
   "metadata": {},
   "outputs": [
    {
     "name": "stdout",
     "output_type": "stream",
     "text": [
      "bonjour\n"
     ]
    }
   ],
   "source": [
    "class Test:\n",
    "    def __call__(self):\n",
    "        print('bonjour')\n",
    "        \n",
    "t = Test()\n",
    "t()"
   ]
  },
  {
   "cell_type": "code",
   "execution_count": null,
   "metadata": {},
   "outputs": [],
   "source": []
  },
  {
   "cell_type": "code",
   "execution_count": 87,
   "metadata": {},
   "outputs": [
    {
     "name": "stdout",
     "output_type": "stream",
     "text": [
      "2\n"
     ]
    }
   ],
   "source": [
    "class Test:\n",
    "    a = 1    \n",
    "    def __init__(self, b=None):\n",
    "        if b is not None:\n",
    "            self.b = b\n",
    "\n",
    "class Test10(Test):\n",
    "    b = 10\n",
    "    \n",
    "class Test20(Test):\n",
    "    b = 20\n",
    "    \n",
    "            \n",
    "t = Test10(2)\n",
    "\n",
    "print(t.b)"
   ]
  },
  {
   "cell_type": "code",
   "execution_count": 95,
   "metadata": {},
   "outputs": [],
   "source": [
    "class Biblio:\n",
    "    def __init__(self, liste_livre=None):\n",
    "        if liste_livre is None:\n",
    "            liste_livre = []\n",
    "        self.liste_livre = liste_livre\n",
    "        \n",
    "    \n",
    "    def append(self, livre):\n",
    "        self.liste_livre.append(livre)"
   ]
  },
  {
   "cell_type": "code",
   "execution_count": 96,
   "metadata": {},
   "outputs": [
    {
     "name": "stdout",
     "output_type": "stream",
     "text": [
      "['Bonjour']\n"
     ]
    }
   ],
   "source": [
    "bib = Biblio()\n",
    "\n",
    "bib.append('Bonjour')\n",
    "print(bib.liste_livre)"
   ]
  },
  {
   "cell_type": "code",
   "execution_count": 97,
   "metadata": {},
   "outputs": [
    {
     "name": "stdout",
     "output_type": "stream",
     "text": [
      "['Hello']\n"
     ]
    }
   ],
   "source": [
    "bib2 = Biblio()\n",
    "\n",
    "bib2.append('Hello')\n",
    "print(bib2.liste_livre)"
   ]
  },
  {
   "cell_type": "code",
   "execution_count": 5,
   "metadata": {},
   "outputs": [
    {
     "data": {
      "text/plain": [
       "2"
      ]
     },
     "execution_count": 5,
     "metadata": {},
     "output_type": "execute_result"
    }
   ],
   "source": []
  },
  {
   "cell_type": "markdown",
   "metadata": {},
   "source": [
    "## Descripteur\n",
    "\n",
    "Mieux comprendre les méthodes et les property...\n",
    "\n",
    "<code>\n",
    "    descr.__get__(self, obj, type=None) -> value\n",
    "    descr.__set__(self, obj, value) -> None\n",
    "    descr.__delete__(self, obj) -> None\n",
    "</code>\n",
    "\n",
    "Si un atribut de la classe défini la méthode `__get__` alors il devient un descripteur. Cette méthode est appelé à la place de l'attribut. "
   ]
  },
  {
   "cell_type": "code",
   "execution_count": 111,
   "metadata": {},
   "outputs": [
    {
     "name": "stdout",
     "output_type": "stream",
     "text": [
      "12.0\n"
     ]
    }
   ],
   "source": [
    "#    def set_frequency(self, freq=1000):\n",
    "#        command = f'FREQ {freq:.3f}'\n",
    "#        self._conn.write(command)\n",
    "\n",
    "#    def get_frequency(self):\n",
    "#        command = f'FREQ?'\n",
    "#        return float(self._conn.query(command))\n",
    "\n",
    "\n",
    "\n",
    "class Descripteur:\n",
    "    def __init__(self, param):\n",
    "        self.param = param\n",
    "    \n",
    "    def __get__(self, obj, type=None):\n",
    "        command = f'{self.param}?'\n",
    "        return float(obj._conn.query(command))\n",
    "\n",
    "    def __set__(self, obj, val):\n",
    "        command = f'{self.param} {val:.3f}'\n",
    "        obj._conn.write(command)\n",
    "\n",
    "    \n",
    "    \n",
    "class Instrument():\n",
    "    def __init__(self, conn):\n",
    "        self._conn = conn\n",
    "        \n",
    "    frequency = Descripteur('FREQ')\n",
    "    amplitude = Descripteur('AMP')\n",
    "\n",
    "    \n",
    "gbf = Instrument(FakeSCPI())\n",
    "gbf.frequency = 12\n",
    "print(gbf.frequency)"
   ]
  },
  {
   "cell_type": "code",
   "execution_count": 103,
   "metadata": {},
   "outputs": [
    {
     "name": "stdout",
     "output_type": "stream",
     "text": [
      "Coucou\n"
     ]
    }
   ],
   "source": [
    "type(t).__dict__['a'].__get__(t)"
   ]
  },
  {
   "cell_type": "code",
   "execution_count": 107,
   "metadata": {},
   "outputs": [
    {
     "data": {
      "text/plain": [
       "<method-wrapper '__get__' of function object at 0x7fe0336c9e50>"
      ]
     },
     "execution_count": 107,
     "metadata": {},
     "output_type": "execute_result"
    }
   ],
   "source": [
    "def f():\n",
    "    print('Bonjour')\n",
    "    \n",
    "f.__get__"
   ]
  },
  {
   "cell_type": "code",
   "execution_count": null,
   "metadata": {},
   "outputs": [],
   "source": []
  },
  {
   "cell_type": "code",
   "execution_count": null,
   "metadata": {},
   "outputs": [],
   "source": []
  },
  {
   "cell_type": "markdown",
   "metadata": {},
   "source": [
    "## Créer une class directement / metaclass\n",
    "\n",
    "* On peut créer une classe avec la fonction type : `type(name, bases, namespace)`\n",
    "\n",
    "* On peut remplacer cette fonction avec l'argument optionnel metaclass : \n",
    "\n",
    "<code>\n",
    "    class MyClass(metaclass=type):\n",
    "        pass\n",
    "</code>"
   ]
  },
  {
   "cell_type": "code",
   "execution_count": 29,
   "metadata": {},
   "outputs": [],
   "source": [
    "t = Test()"
   ]
  },
  {
   "cell_type": "code",
   "execution_count": 32,
   "metadata": {},
   "outputs": [
    {
     "data": {
      "text/plain": [
       "10"
      ]
     },
     "execution_count": 32,
     "metadata": {},
     "output_type": "execute_result"
    }
   ],
   "source": [
    "t.get_a()"
   ]
  },
  {
   "cell_type": "code",
   "execution_count": 31,
   "metadata": {},
   "outputs": [],
   "source": [
    "t._a = 10"
   ]
  },
  {
   "cell_type": "code",
   "execution_count": null,
   "metadata": {},
   "outputs": [],
   "source": []
  }
 ],
 "metadata": {
  "kernelspec": {
   "display_name": "Python 3",
   "language": "python",
   "name": "python3"
  },
  "language_info": {
   "codemirror_mode": {
    "name": "ipython",
    "version": 3
   },
   "file_extension": ".py",
   "mimetype": "text/x-python",
   "name": "python",
   "nbconvert_exporter": "python",
   "pygments_lexer": "ipython3",
   "version": "3.8.8"
  },
  "varInspector": {
   "cols": {
    "lenName": 16,
    "lenType": 16,
    "lenVar": 40
   },
   "kernels_config": {
    "python": {
     "delete_cmd_postfix": "",
     "delete_cmd_prefix": "del ",
     "library": "var_list.py",
     "varRefreshCmd": "print(var_dic_list())"
    },
    "r": {
     "delete_cmd_postfix": ") ",
     "delete_cmd_prefix": "rm(",
     "library": "var_list.r",
     "varRefreshCmd": "cat(var_dic_list()) "
    }
   },
   "types_to_exclude": [
    "module",
    "function",
    "builtin_function_or_method",
    "instance",
    "_Feature"
   ],
   "window_display": false
  }
 },
 "nbformat": 4,
 "nbformat_minor": 2
}
