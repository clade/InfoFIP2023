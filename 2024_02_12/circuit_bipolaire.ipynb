{
 "cells": [
  {
   "cell_type": "code",
   "execution_count": 1,
   "id": "1ab19aba",
   "metadata": {},
   "outputs": [],
   "source": [
    "from dataclasses import dataclass\n",
    "from math import pi\n",
    "\n",
    "class BipolarCircuit(object):\n",
    "    def __add__(self, other):\n",
    "        return Serial(self, other)\n",
    "    \n",
    "    def __or__(self, other):\n",
    "        return Parallel(self, other)\n",
    "        \n",
    "class Combination(BipolarCircuit):\n",
    "    def __init__(self, *args):\n",
    "        self.args = self.simplify_args(args)\n",
    "    \n",
    "    def simplify_args(self, args):\n",
    "        new_args = ()\n",
    "        for item in args:\n",
    "            if isinstance(item, self.__class__):\n",
    "                new_args = new_args + item.args\n",
    "            else: \n",
    "                new_args = new_args + (item,)\n",
    "        return new_args\n",
    "        \n",
    "    def __repr__(self):\n",
    "        args_str = ', '.join([repr(item) for item in self.args])\n",
    "        return f'{self.__class__.__name__}({args_str})'\n",
    "\n",
    "class Serial(Combination):\n",
    "    def impedance(self, frequency):\n",
    "        return sum([item.impedance(frequency) for item in self.args])\n",
    "\n",
    "class Parallel(Combination):\n",
    "    def impedance(self, frequency):\n",
    "        return 1/sum([1/item.impedance(frequency) for item in self.args])\n",
    "\n",
    "class Device(BipolarCircuit):\n",
    "    def __init__(self, value):\n",
    "        self.value = value\n",
    "        \n",
    "    def __repr__(self):\n",
    "        return f\"{self.__class__.__name__}({self.value})\"\n",
    "\n",
    "\n",
    "class Resistor(Device):\n",
    "    def impedance(self, frequency):\n",
    "        return self.value\n",
    "    \n",
    "class Capacitor(Device):\n",
    "    def impedance(self, frequency):\n",
    "        return 1/(1J*self.value*2*pi*frequency)\n",
    "\n",
    "class Inductor(Device):\n",
    "    def impedance(self, frequency):\n",
    "        return 1J*self.value*2*pi*frequency\n"
   ]
  },
  {
   "cell_type": "code",
   "execution_count": 2,
   "id": "5b601074",
   "metadata": {},
   "outputs": [],
   "source": [
    "R1 = Resistor(10)\n",
    "R2 = Resistor(5)\n",
    "L1 = Inductor(15E-6)\n",
    "C1 = Capacitor(10E-6)"
   ]
  },
  {
   "cell_type": "code",
   "execution_count": 3,
   "id": "83b4de6b",
   "metadata": {},
   "outputs": [
    {
     "data": {
      "text/plain": [
       "Serial(Parallel(Inductor(1.5e-05), Resistor(10), Capacitor(1e-05)), Resistor(5))"
      ]
     },
     "execution_count": 3,
     "metadata": {},
     "output_type": "execute_result"
    }
   ],
   "source": [
    "Serial(Parallel(L1, R1, C1), R2)"
   ]
  },
  {
   "cell_type": "code",
   "execution_count": 6,
   "id": "5af54e86",
   "metadata": {},
   "outputs": [
    {
     "data": {
      "text/plain": [
       "Serial(Parallel(Inductor(1.5e-05), Resistor(10), Capacitor(1e-05)), Resistor(5))"
      ]
     },
     "execution_count": 6,
     "metadata": {},
     "output_type": "execute_result"
    }
   ],
   "source": [
    "circuit = (L1|R1|C1) + R2\n",
    "circuit"
   ]
  },
  {
   "cell_type": "code",
   "execution_count": 9,
   "id": "a8fe42c5",
   "metadata": {},
   "outputs": [
    {
     "data": {
      "text/plain": [
       "Text(0, 0.5, 'phase [rad]')"
      ]
     },
     "execution_count": 9,
     "metadata": {},
     "output_type": "execute_result"
    },
    {
     "data": {
      "image/png": "[encoded data removed]",
      "text/plain": [
       "<Figure size 432x288 with 2 Axes>"
      ]
     },
     "metadata": {
      "needs_background": "light"
     },
     "output_type": "display_data"
    }
   ],
   "source": [
    "import numpy as np\n",
    "from matplotlib.pyplot import figure\n",
    "\n",
    "Tfreq = np.logspace(3, 5, 201)\n",
    "Z = circuit.impedance(Tfreq)\n",
    "\n",
    "fig = figure()\n",
    "ax1, ax2 = fig.subplots(2, 1, sharex=True)\n",
    "\n",
    "ax1.loglog(Tfreq, np.abs(Z))\n",
    "ax2.semilogx(Tfreq, np.angle(Z))\n",
    "\n",
    "ax2.set_xlabel('Frequence [Hz]')\n",
    "ax1.set_ylabel('Gain')\n",
    "ax2.set_ylabel('phase [rad]')"
   ]
  },
  {
   "cell_type": "code",
   "execution_count": 12,
   "id": "90abbdf7",
   "metadata": {},
   "outputs": [
    {
     "data": {
      "text/plain": [
       "__main__.Resistor"
      ]
     },
     "execution_count": 12,
     "metadata": {},
     "output_type": "execute_result"
    }
   ],
   "source": [
    "R.__class__"
   ]
  },
  {
   "cell_type": "code",
   "execution_count": null,
   "id": "001d4c69",
   "metadata": {},
   "outputs": [],
   "source": []
  }
 ],
 "metadata": {
  "kernelspec": {
   "display_name": "Python 3",
   "language": "python",
   "name": "python3"
  },
  "language_info": {
   "codemirror_mode": {
    "name": "ipython",
    "version": 3
   },
   "file_extension": ".py",
   "mimetype": "text/x-python",
   "name": "python",
   "nbconvert_exporter": "python",
   "pygments_lexer": "ipython3",
   "version": "3.8.8"
  },
  "varInspector": {
   "cols": {
    "lenName": 16,
    "lenType": 16,
    "lenVar": 40
   },
   "kernels_config": {
    "python": {
     "delete_cmd_postfix": "",
     "delete_cmd_prefix": "del ",
     "library": "var_list.py",
     "varRefreshCmd": "print(var_dic_list())"
    },
    "r": {
     "delete_cmd_postfix": ") ",
     "delete_cmd_prefix": "rm(",
     "library": "var_list.r",
     "varRefreshCmd": "cat(var_dic_list()) "
    }
   },
   "types_to_exclude": [
    "module",
    "function",
    "builtin_function_or_method",
    "instance",
    "_Feature"
   ],
   "window_display": false
  }
 },
 "nbformat": 4,
 "nbformat_minor": 5
}
