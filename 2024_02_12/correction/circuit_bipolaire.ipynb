{
 "cells": [
  {
   "cell_type": "code",
   "execution_count": 1,
   "id": "1b1484cb",
   "metadata": {},
   "outputs": [
    {
     "name": "stdout",
     "output_type": "stream",
     "text": [
      "R(10)\n"
     ]
    },
    {
     "data": {
      "text/plain": [
       "Parallel(Resistance(10), Condensateur(1e-05))"
      ]
     },
     "execution_count": 1,
     "metadata": {},
     "output_type": "execute_result"
    }
   ],
   "source": [
    "import math\n",
    "import sympy\n",
    "\n",
    "class CircuitBipolaire(object):\n",
    "    def admittance(self, freq):\n",
    "        return 1/self.impedance(freq)\n",
    "    \n",
    "    def __add__(self, other):\n",
    "        return Serie(self, other)\n",
    "\n",
    "    def __or__(self, other):\n",
    "        return Parallel(self, other)\n",
    "    \n",
    "class CircuitElementaire(CircuitBipolaire):\n",
    "    def __init__(self, val):\n",
    "        self.val = val\n",
    "    \n",
    "    def __repr__(self):\n",
    "        return f'{self.__class__.__name__}({self.val})' \n",
    "    \n",
    "    def __str__(self):\n",
    "        initiale = self.__class__.__name__[0]\n",
    "        return f'{initiale}({self.val})' \n",
    "\n",
    "\n",
    "class Resistance(CircuitElementaire):\n",
    "    def impedance(self, freq):\n",
    "        return self.val\n",
    "\n",
    "class Condensateur(CircuitElementaire):\n",
    "    def impedance(self, freq):\n",
    "        return 1/(2*self.val*math.pi*freq*1J)\n",
    "    \n",
    "class Inductance(CircuitElementaire):\n",
    "    def impedance(self, freq):\n",
    "        return (2*self.val*math.pi*freq*1J)\n",
    "\n",
    "    \n",
    "class CircuitCompose(CircuitBipolaire):\n",
    "    def __init__(self, circ1, circ2):\n",
    "        self.circ1 = circ1\n",
    "        self.circ2 = circ2\n",
    "        \n",
    "    def __repr__(self):\n",
    "        return f'{self.__class__.__name__}({self.circ1!r}, {self.circ2!r})' \n",
    "\n",
    "class Parallel(CircuitCompose):\n",
    "    def impedance(self, freq):\n",
    "        Z1, Z2 = self.circ1.impedance(freq), self.circ2.impedance(freq)\n",
    "        return Z1*Z2/(Z1+Z2)\n",
    "        \n",
    "    def __str__(self):\n",
    "        return f'({self.circ1!s} | {self.circ2!s})'\n",
    "\n",
    "class Serie(CircuitCompose):\n",
    "    def impedance(self, freq):\n",
    "        return self.circ1.impedance(freq) + self.circ2.impedance(freq)\n",
    "\n",
    "    def __str__(self):\n",
    "        return f'({self.circ1!s} + {self.circ2!s})'\n",
    "\n",
    "    \n",
    "\n",
    "R1 = Resistance(10)\n",
    "C1 = Condensateur(10E-6)\n",
    "print(R1) # R(10)\n",
    "Parallel(R1, C1).impedance(1000)\n",
    "R1|C1"
   ]
  },
  {
   "cell_type": "code",
   "execution_count": 2,
   "id": "bf86ecc4",
   "metadata": {},
   "outputs": [],
   "source": [
    "R1 = Resistance(10)\n",
    "R2 = Resistance(5)\n",
    "L1 = Inductance(15E-6)\n",
    "C1 = Condensateur(10E-6)\n",
    "circuit = R2 + (L1|R1|C1)"
   ]
  },
  {
   "cell_type": "code",
   "execution_count": 3,
   "id": "f39d9a00",
   "metadata": {},
   "outputs": [
    {
     "data": {
      "text/plain": [
       "Text(0.5, 0, 'Frequency (Hz)')"
      ]
     },
     "execution_count": 3,
     "metadata": {},
     "output_type": "execute_result"
    },
    {
     "data": {
      "image/png": "[encoded data removed]",
      "text/plain": [
       "<Figure size 432x288 with 2 Axes>"
      ]
     },
     "metadata": {
      "needs_background": "light"
     },
     "output_type": "display_data"
    }
   ],
   "source": [
    "import numpy as np\n",
    "from matplotlib.pyplot import figure\n",
    "fig = figure()\n",
    "ax1, ax2 = fig.subplots(2, 1, sharex=True)\n",
    "\n",
    "Tfreq = np.logspace(3, 5, 201)\n",
    "Z = circuit.impedance(Tfreq)\n",
    "\n",
    "ax1.loglog(Tfreq, np.abs(Z)**2)\n",
    "ax1.set_ylabel('$|Z|^2$')\n",
    "ax2.semilogx(Tfreq, np.angle(Z))\n",
    "ax2.set_ylabel('$\\phi$')\n",
    "ax2.set_xlabel('Frequency (Hz)')\n"
   ]
  },
  {
   "cell_type": "code",
   "execution_count": null,
   "id": "22016d5e",
   "metadata": {},
   "outputs": [],
   "source": []
  }
 ],
 "metadata": {
  "kernelspec": {
   "display_name": "Python 3",
   "language": "python",
   "name": "python3"
  },
  "language_info": {
   "codemirror_mode": {
    "name": "ipython",
    "version": 3
   },
   "file_extension": ".py",
   "mimetype": "text/x-python",
   "name": "python",
   "nbconvert_exporter": "python",
   "pygments_lexer": "ipython3",
   "version": "3.8.8"
  },
  "varInspector": {
   "cols": {
    "lenName": 16,
    "lenType": 16,
    "lenVar": 40
   },
   "kernels_config": {
    "python": {
     "delete_cmd_postfix": "",
     "delete_cmd_prefix": "del ",
     "library": "var_list.py",
     "varRefreshCmd": "print(var_dic_list())"
    },
    "r": {
     "delete_cmd_postfix": ") ",
     "delete_cmd_prefix": "rm(",
     "library": "var_list.r",
     "varRefreshCmd": "cat(var_dic_list()) "
    }
   },
   "types_to_exclude": [
    "module",
    "function",
    "builtin_function_or_method",
    "instance",
    "_Feature"
   ],
   "window_display": false
  }
 },
 "nbformat": 4,
 "nbformat_minor": 5
}
