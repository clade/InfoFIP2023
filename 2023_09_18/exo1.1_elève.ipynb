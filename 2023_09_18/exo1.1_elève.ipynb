{
 "cells": [
  {
   "cell_type": "markdown",
   "id": "aed8e7ec",
   "metadata": {},
   "source": [
    "# Relativité\n",
    "Tout le monde connait la formule $E= mc^2$. Mais que vaut exactement l'énergie de masse d'une pomme de 200g ?"
   ]
  },
  {
   "cell_type": "code",
   "execution_count": 1,
   "id": "fa1a1460",
   "metadata": {},
   "outputs": [
    {
     "name": "stdout",
     "output_type": "stream",
     "text": [
      "L'énergie de masse d'une pomme est 1.800e+16 J\n"
     ]
    }
   ],
   "source": [
    "masse_d_une_pomme = 0.2\n",
    "c = 3E8\n",
    "\n",
    "energie_masse_pomme = masse_d_une_pomme*c**2\n",
    "print(f\"L'énergie de masse d'une pomme est {energie_masse_pomme:.3e} J\")"
   ]
  },
  {
   "cell_type": "code",
   "execution_count": null,
   "id": "711f92dc",
   "metadata": {},
   "outputs": [],
   "source": []
  }
 ],
 "metadata": {
  "kernelspec": {
   "display_name": "Python 3",
   "language": "python",
   "name": "python3"
  },
  "language_info": {
   "codemirror_mode": {
    "name": "ipython",
    "version": 3
   },
   "file_extension": ".py",
   "mimetype": "text/x-python",
   "name": "python",
   "nbconvert_exporter": "python",
   "pygments_lexer": "ipython3",
   "version": "3.8.8"
  },
  "varInspector": {
   "cols": {
    "lenName": 16,
    "lenType": 16,
    "lenVar": 40
   },
   "kernels_config": {
    "python": {
     "delete_cmd_postfix": "",
     "delete_cmd_prefix": "del ",
     "library": "var_list.py",
     "varRefreshCmd": "print(var_dic_list())"
    },
    "r": {
     "delete_cmd_postfix": ") ",
     "delete_cmd_prefix": "rm(",
     "library": "var_list.r",
     "varRefreshCmd": "cat(var_dic_list()) "
    }
   },
   "types_to_exclude": [
    "module",
    "function",
    "builtin_function_or_method",
    "instance",
    "_Feature"
   ],
   "window_display": false
  }
 },
 "nbformat": 4,
 "nbformat_minor": 5
}
