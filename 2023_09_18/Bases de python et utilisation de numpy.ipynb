{
 "cells": [
  {
   "cell_type": "markdown",
   "metadata": {},
   "source": [
    "# Objectifs du cours\n",
    "\n",
    "* Python I : Outils de bases pour les scientifiques\n",
    "* Python II : Programmation orientée objet. Projet informatique (second semestre)\n",
    "\n",
    "Python I : \n",
    "\n",
    "* Utilisation de numpy (aujourd'hui)\n",
    "* Approfondissement de Python\n",
    "* Statistiques, ajustement de courbes\n",
    "* Equations différentielles et calcul numérique avec la libraire scipy.\n",
    "* Transformée de Fourier\n",
    "\n",
    "* TP (interfaçage instruments, date à préciser)."
   ]
  },
  {
   "cell_type": "markdown",
   "metadata": {
    "collapsed": true,
    "extensions": {
     "jupyter_dashboards": {
      "version": 1,
      "views": {
       "grid_default": {
        "col": 0,
        "height": 11,
        "hidden": false,
        "row": 10,
        "width": 12
       },
       "report_default": {}
      }
     }
    },
    "nbpresent": {
     "id": "3e40f331-3e82-4c39-be42-29befb1a98c4"
    },
    "slideshow": {
     "slide_type": "slide"
    }
   },
   "source": [
    "## Installation de Python\n",
    "\n",
    "* Il existe plusieurs interpréteurs open source de Python. Le principal est CPython\n",
    "* Il est fortement conseillé d'installer Anaconda et Python >3.6 (quelque soit le système d'exploitation)\n",
    "\n",
    "## Comment exécuter Python\n",
    "\n",
    "* **Jupyter notebook** : très pratique (compte rendu de TP, exercices, cours). Pas pour des projets\n",
    "* Spyder : éditeur de texte adapté à Python et l'environnement scientifique (à la matlab)\n",
    "* IPython (inclus dans spyder) : terminal interactif. Faire des essais avant de copier dans un programme\n",
    "* Console : interface graphique, test automatique, ...\n",
    "\n",
    "Rq : les TDs et l'examen se font sur des jupyter notebooks"
   ]
  },
  {
   "cell_type": "markdown",
   "metadata": {
    "extensions": {
     "jupyter_dashboards": {
      "version": 1,
      "views": {
       "grid_default": {
        "col": 0,
        "height": 5,
        "hidden": false,
        "row": 21,
        "width": 12
       },
       "report_default": {}
      }
     }
    },
    "slideshow": {
     "slide_type": "slide"
    }
   },
   "source": [
    "# Plan du cours\n",
    "\n",
    "Aujourd'hui : Bases de python. \n",
    "\n",
    "* Quelques types de bases de python\n",
    "* Structures de contrôle\n",
    "* numpy\n",
    "* matplotlib"
   ]
  },
  {
   "cell_type": "markdown",
   "metadata": {
    "slideshow": {
     "slide_type": "slide"
    }
   },
   "source": [
    "# Types de données"
   ]
  },
  {
   "cell_type": "markdown",
   "metadata": {
    "extensions": {
     "jupyter_dashboards": {
      "version": 1,
      "views": {
       "grid_default": {
        "col": 8,
        "height": 8,
        "hidden": false,
        "row": 47,
        "width": null
       },
       "report_default": {}
      }
     }
    },
    "slideshow": {
     "slide_type": "slide"
    }
   },
   "source": [
    "## Nombres\n",
    "\n",
    "* entiers : pas de limite de tailles\n",
    "* réels : flottant (float). Par défaut 64bits, précision relative de environ $10^{-15}$\n",
    "* Complexe : deux réels ; `a = 1 + 3J`\n",
    "* +, -, \\*, /, \\*\\* (puissance)\n",
    "* Modulo, division entière"
   ]
  },
  {
   "cell_type": "code",
   "execution_count": 3,
   "metadata": {},
   "outputs": [
    {
     "data": {
      "text/plain": [
       "44601490397061246283071436545296723011960832"
      ]
     },
     "execution_count": 3,
     "metadata": {},
     "output_type": "execute_result"
    }
   ],
   "source": [
    "2**145"
   ]
  },
  {
   "cell_type": "code",
   "execution_count": 9,
   "metadata": {},
   "outputs": [
    {
     "data": {
      "text/plain": [
       "1.1102230246251565e-15"
      ]
     },
     "execution_count": 9,
     "metadata": {},
     "output_type": "execute_result"
    }
   ],
   "source": [
    "# Précision\n",
    "(1.0 + 1E-15) - 1"
   ]
  },
  {
   "cell_type": "code",
   "execution_count": 10,
   "metadata": {},
   "outputs": [
    {
     "data": {
      "text/plain": [
       "1.1102230246251565e-15"
      ]
     },
     "execution_count": 10,
     "metadata": {},
     "output_type": "execute_result"
    }
   ],
   "source": [
    "2**(-52)*5"
   ]
  },
  {
   "cell_type": "code",
   "execution_count": 11,
   "metadata": {},
   "outputs": [
    {
     "name": "stdout",
     "output_type": "stream",
     "text": [
      "16\n"
     ]
    }
   ],
   "source": [
    "a = 4\n",
    "print(a**2)"
   ]
  },
  {
   "cell_type": "code",
   "execution_count": 12,
   "metadata": {
    "extensions": {
     "jupyter_dashboards": {
      "version": 1,
      "views": {
       "grid_default": {
        "hidden": true
       },
       "report_default": {}
      }
     }
    }
   },
   "outputs": [
    {
     "name": "stdout",
     "output_type": "stream",
     "text": [
      "3.0\n"
     ]
    }
   ],
   "source": [
    "z = 1 + 3J\n",
    "print(z.imag)"
   ]
  },
  {
   "cell_type": "code",
   "execution_count": 13,
   "metadata": {},
   "outputs": [
    {
     "data": {
      "text/plain": [
       "1.0"
      ]
     },
     "execution_count": 13,
     "metadata": {},
     "output_type": "execute_result"
    }
   ],
   "source": [
    "z.real"
   ]
  },
  {
   "cell_type": "code",
   "execution_count": 14,
   "metadata": {},
   "outputs": [
    {
     "data": {
      "text/plain": [
       "3.0"
      ]
     },
     "execution_count": 14,
     "metadata": {},
     "output_type": "execute_result"
    }
   ],
   "source": [
    "(1+3J).imag"
   ]
  },
  {
   "cell_type": "code",
   "execution_count": 15,
   "metadata": {},
   "outputs": [],
   "source": [
    "un_nom_de_variable = 9"
   ]
  },
  {
   "cell_type": "code",
   "execution_count": null,
   "metadata": {},
   "outputs": [],
   "source": []
  },
  {
   "cell_type": "code",
   "execution_count": 16,
   "metadata": {},
   "outputs": [
    {
     "name": "stdout",
     "output_type": "stream",
     "text": [
      "1\n",
      "2\n"
     ]
    }
   ],
   "source": [
    "# Modulo et division entière\n",
    "print(5%2)\n",
    "print(5//2)"
   ]
  },
  {
   "cell_type": "markdown",
   "metadata": {
    "extensions": {
     "jupyter_dashboards": {
      "version": 1,
      "views": {
       "grid_default": {
        "col": 0,
        "height": 5,
        "hidden": false,
        "row": 55,
        "width": 12
       },
       "report_default": {}
      }
     }
    },
    "slideshow": {
     "slide_type": "slide"
    }
   },
   "source": [
    "## Booléens \n",
    "\n",
    "* `True` et `False`\n",
    "* Comparaison : `>`, `>=`, `==`, `<=`,  `<`, `!=`\n",
    "* Opérations : and, or et not (attention aux priorités)\n",
    "* \"évaluation paresseuse\""
   ]
  },
  {
   "cell_type": "code",
   "execution_count": 17,
   "metadata": {},
   "outputs": [
    {
     "data": {
      "text/plain": [
       "False"
      ]
     },
     "execution_count": 17,
     "metadata": {},
     "output_type": "execute_result"
    }
   ],
   "source": [
    "(3>4)"
   ]
  },
  {
   "cell_type": "code",
   "execution_count": 19,
   "metadata": {},
   "outputs": [
    {
     "name": "stdout",
     "output_type": "stream",
     "text": [
      "True\n",
      "False\n",
      "True\n",
      "True\n"
     ]
    }
   ],
   "source": [
    "# Priorité  ??? Il faut toujours mettre des parenthèses\n",
    "print(True or False and False)\n",
    "print( (True or False) and False)\n",
    "print(True or (False and False))\n",
    "print(False and False or True)"
   ]
  },
  {
   "cell_type": "code",
   "execution_count": 22,
   "metadata": {
    "extensions": {
     "jupyter_dashboards": {
      "version": 1,
      "views": {
       "grid_default": {
        "hidden": true
       },
       "report_default": {}
      }
     }
    },
    "scrolled": true
   },
   "outputs": [
    {
     "data": {
      "text/plain": [
       "False"
      ]
     },
     "execution_count": 22,
     "metadata": {},
     "output_type": "execute_result"
    }
   ],
   "source": [
    "from math import sqrt\n",
    "x = -1\n",
    "\n",
    "# a and b => si a return b else return False\n",
    "x>=0 and sqrt(x)>2\n",
    "#if x>0:\n",
    "#    return sqrt(x)\n",
    "# else:\n",
    "#    return False\n",
    "# (x>=0) & (sqrt(x)>2)"
   ]
  },
  {
   "cell_type": "markdown",
   "metadata": {
    "extensions": {
     "jupyter_dashboards": {
      "version": 1,
      "views": {
       "grid_default": {
        "col": 4,
        "height": 4,
        "hidden": false,
        "row": 51,
        "width": 4
       },
       "report_default": {}
      }
     }
    },
    "slideshow": {
     "slide_type": "slide"
    }
   },
   "source": [
    "## Chaînes de caractères (str)\n",
    "* Plusieurs façon d'écrire une chaine : \", ', \"\"\", ''' .\n",
    "* Caractère spéciaux : \\\\n (retour à la ligne), \\\\t (tabulation)\n",
    "* Unicode\n",
    "* Concaténation \n",
    "* Quelques méthodes sur les chaînes\n",
    "* Formatage de chaîne de caractère"
   ]
  },
  {
   "cell_type": "code",
   "execution_count": 23,
   "metadata": {
    "extensions": {
     "jupyter_dashboards": {
      "version": 1,
      "views": {
       "grid_default": {
        "col": 0,
        "height": 4,
        "hidden": false,
        "row": 60,
        "width": 4
       },
       "report_default": {}
      }
     }
    }
   },
   "outputs": [
    {
     "name": "stdout",
     "output_type": "stream",
     "text": [
      "e\n",
      "err\n",
      "Bonjour Pierre\n"
     ]
    },
    {
     "data": {
      "text/plain": [
       "\"Aujourd'hui\""
      ]
     },
     "execution_count": 23,
     "metadata": {},
     "output_type": "execute_result"
    }
   ],
   "source": [
    "s0 = 'Bonjour'\n",
    "s1 = \"Pierre\"\n",
    "s2 = \"Aujourd'hui\"\n",
    "print(s1[2])\n",
    "print(s1[2:5])\n",
    "print(s0 + ' ' + s1) # Concaténation\n",
    "'Aujourd\\'hui'"
   ]
  },
  {
   "cell_type": "code",
   "execution_count": 24,
   "metadata": {},
   "outputs": [
    {
     "name": "stdout",
     "output_type": "stream",
     "text": [
      "Une chaine\n",
      "sur plusieurs \n",
      "lignes\n"
     ]
    }
   ],
   "source": [
    "s3 = \"\"\"Une chaine\n",
    "sur plusieurs \n",
    "lignes\"\"\"\n",
    "\n",
    "print(s3)"
   ]
  },
  {
   "cell_type": "code",
   "execution_count": null,
   "metadata": {},
   "outputs": [],
   "source": []
  },
  {
   "cell_type": "code",
   "execution_count": 28,
   "metadata": {},
   "outputs": [
    {
     "name": "stdout",
     "output_type": "stream",
     "text": [
      "Rayon γ\n",
      "Rayon γ\n"
     ]
    },
    {
     "data": {
      "text/plain": [
       "13"
      ]
     },
     "execution_count": 28,
     "metadata": {},
     "output_type": "execute_result"
    }
   ],
   "source": [
    "print(\"Rayon \\u03B3\")\n",
    "print(\"Rayon γ\")\n",
    "α = 13\n",
    "α"
   ]
  },
  {
   "cell_type": "code",
   "execution_count": 26,
   "metadata": {},
   "outputs": [
    {
     "data": {
      "text/plain": [
       "'ℏ'"
      ]
     },
     "execution_count": 26,
     "metadata": {},
     "output_type": "execute_result"
    }
   ],
   "source": [
    "'\\u210F'\n"
   ]
  },
  {
   "cell_type": "code",
   "execution_count": 27,
   "metadata": {},
   "outputs": [
    {
     "data": {
      "text/plain": [
       "'Constante de Planck réduite : ℏ'"
      ]
     },
     "execution_count": 27,
     "metadata": {},
     "output_type": "execute_result"
    }
   ],
   "source": [
    "'Constante de Planck réduite : ℏ'"
   ]
  },
  {
   "cell_type": "code",
   "execution_count": 29,
   "metadata": {},
   "outputs": [],
   "source": [
    "ℏ = 1E-34"
   ]
  },
  {
   "cell_type": "code",
   "execution_count": 30,
   "metadata": {},
   "outputs": [
    {
     "name": "stdout",
     "output_type": "stream",
     "text": [
      "1\n"
     ]
    }
   ],
   "source": [
    "Α = 1\n",
    "A = 2\n",
    "print(Α)"
   ]
  },
  {
   "cell_type": "code",
   "execution_count": null,
   "metadata": {},
   "outputs": [],
   "source": []
  },
  {
   "cell_type": "code",
   "execution_count": 31,
   "metadata": {},
   "outputs": [
    {
     "data": {
      "text/plain": [
       "'PIERRE'"
      ]
     },
     "execution_count": 31,
     "metadata": {},
     "output_type": "execute_result"
    }
   ],
   "source": [
    "s1 = 'pierre'\n",
    "s1.upper()"
   ]
  },
  {
   "cell_type": "code",
   "execution_count": 34,
   "metadata": {},
   "outputs": [
    {
     "data": {
      "text/plain": [
       "-1"
      ]
     },
     "execution_count": 34,
     "metadata": {},
     "output_type": "execute_result"
    }
   ],
   "source": [
    "s1.find('u')"
   ]
  },
  {
   "cell_type": "code",
   "execution_count": 35,
   "metadata": {},
   "outputs": [
    {
     "name": "stdout",
     "output_type": "stream",
     "text": [
      "Brnjrur\n"
     ]
    }
   ],
   "source": [
    "# Quelques méthodes \n",
    "s = 'Bonjour'\n",
    "print(s.replace('o', 'r'))"
   ]
  },
  {
   "cell_type": "code",
   "execution_count": 37,
   "metadata": {},
   "outputs": [
    {
     "name": "stdout",
     "output_type": "stream",
     "text": [
      "['1', '2', '4', '3']\n",
      "1, 45\n"
     ]
    }
   ],
   "source": [
    "s = \"1;2;4;3\"\n",
    "print(s.split(';'))\n",
    "print(', '.join(['1', '45']))"
   ]
  },
  {
   "cell_type": "code",
   "execution_count": 38,
   "metadata": {},
   "outputs": [
    {
     "name": "stdout",
     "output_type": "stream",
     "text": [
      "True\n"
     ]
    }
   ],
   "source": [
    "s = 'monfichier.txt'\n",
    "print(s.endswith('.txt'))"
   ]
  },
  {
   "cell_type": "markdown",
   "metadata": {},
   "source": [
    "### Formatage\n",
    "Mettre une variable dans une chaîne de caractère\n",
    "\n",
    "On utilise la méthode .format (ancienne syntaxe avec le %). On utilise des accolades. \n",
    "\n",
    "On peut préciser: \n",
    "* le nom de l'argument (keyword argument)\n",
    "* le type d'écriture : entier (d), virgule fixe (f), notation scientifique\n",
    "* la précision\n",
    "\n",
    "Exemple {name:8.3f} : \n",
    "* argument : name\n",
    "* virgule fixe\n",
    "* taille totale 8\n",
    "* 3 chiffres après la virgule\n",
    "\n"
   ]
  },
  {
   "cell_type": "code",
   "execution_count": 47,
   "metadata": {},
   "outputs": [
    {
     "name": "stdout",
     "output_type": "stream",
     "text": [
      "a = 0.0013445450934802944 m/s\n"
     ]
    }
   ],
   "source": [
    "a = 1.3445450934802943892384E-3\n",
    "\n",
    "print('a = ' + str(a) + ' m/s')"
   ]
  },
  {
   "cell_type": "code",
   "execution_count": 49,
   "metadata": {},
   "outputs": [
    {
     "data": {
      "text/plain": [
       "'a = 0.001 m/s et b = 23.4 m'"
      ]
     },
     "execution_count": 49,
     "metadata": {},
     "output_type": "execute_result"
    }
   ],
   "source": [
    "'a = {a:.3f} m/s et b = {b} m'.format(a=a, b=23.4)"
   ]
  },
  {
   "cell_type": "code",
   "execution_count": 55,
   "metadata": {},
   "outputs": [
    {
     "name": "stdout",
     "output_type": "stream",
     "text": [
      "La valeur de pi est 3.1416;\n",
      "La vitesse de la lumière est c=299792458.000 m/s\n",
      "La valeur de pi est 3.142\n"
     ]
    }
   ],
   "source": [
    "# Formatage \n",
    "from math import pi\n",
    "print('La valeur de pi est {:.4f};'.format(pi))\n",
    "\n",
    "c = 299792458\n",
    "print('La vitesse de la lumière est c={c:.3f} m/s'.format(c=c))\n",
    "\n",
    "# Format string\n",
    "print(f'La valeur de pi est {pi:.3f}')"
   ]
  },
  {
   "cell_type": "code",
   "execution_count": null,
   "metadata": {},
   "outputs": [],
   "source": []
  },
  {
   "cell_type": "markdown",
   "metadata": {
    "extensions": {
     "jupyter_dashboards": {
      "version": 1,
      "views": {
       "grid_default": {
        "col": 0,
        "height": 6,
        "hidden": false,
        "row": 64,
        "width": 12
       },
       "report_default": {}
      }
     }
    },
    "slideshow": {
     "slide_type": "slide"
    }
   },
   "source": [
    "## Les listes\n",
    "\n",
    "* Elles peuvent contenir n'importe quel type de donnée\n",
    "* Les indices commencent par 0\n",
    "* Index négatif : par la fin (modulo la taille de la liste)\n",
    "* iterateur : par exemple `range`. "
   ]
  },
  {
   "cell_type": "code",
   "execution_count": 57,
   "metadata": {
    "extensions": {
     "jupyter_dashboards": {
      "version": 1,
      "views": {
       "grid_default": {
        "col": 4,
        "height": 4,
        "hidden": false,
        "row": 60,
        "width": 4
       },
       "report_default": {}
      }
     }
    }
   },
   "outputs": [
    {
     "name": "stdout",
     "output_type": "stream",
     "text": [
      "3.1415\n"
     ]
    }
   ],
   "source": [
    "l = ['Pierre', 34, 3.1415]\n",
    "print(l[-1])\n",
    "l.append(25)"
   ]
  },
  {
   "cell_type": "markdown",
   "metadata": {},
   "source": [
    "La méthode .append() modifie la liste. C'est toujours la même liste (comme on rajoute une page dans un classeur)."
   ]
  },
  {
   "cell_type": "code",
   "execution_count": 58,
   "metadata": {},
   "outputs": [
    {
     "data": {
      "text/plain": [
       "['Pierre', 34, 3.1415, 25]"
      ]
     },
     "execution_count": 58,
     "metadata": {},
     "output_type": "execute_result"
    }
   ],
   "source": [
    "l"
   ]
  },
  {
   "cell_type": "code",
   "execution_count": null,
   "metadata": {},
   "outputs": [],
   "source": []
  },
  {
   "cell_type": "markdown",
   "metadata": {
    "extensions": {
     "jupyter_dashboards": {
      "version": 1,
      "views": {
       "grid_default": {
        "col": 0,
        "height": 5,
        "hidden": false,
        "row": 70,
        "width": 12
       },
       "report_default": {}
      }
     }
    },
    "slideshow": {
     "slide_type": "slide"
    }
   },
   "source": [
    "## Créer une liste à partir d'une autre liste\n",
    "\n",
    "* Boucle `for`\n",
    "* Liste comprehension []\n",
    "* `list.append` : méthode de l'objet liste"
   ]
  },
  {
   "cell_type": "code",
   "execution_count": 60,
   "metadata": {
    "extensions": {
     "jupyter_dashboards": {
      "version": 1,
      "views": {
       "grid_default": {
        "col": 8,
        "height": 4,
        "hidden": false,
        "row": 60,
        "width": 4
       },
       "report_default": {}
      }
     }
    }
   },
   "outputs": [
    {
     "name": "stdout",
     "output_type": "stream",
     "text": [
      "[1, 1156, 529, 4.0]\n"
     ]
    },
    {
     "data": {
      "text/plain": [
       "[1, 1156, 529, 4.0]"
      ]
     },
     "execution_count": 60,
     "metadata": {},
     "output_type": "execute_result"
    }
   ],
   "source": [
    "liste_initiale = [1, 34, 23, 2.]\n",
    "\n",
    "liste_finale = []\n",
    "for elm in liste_initiale:\n",
    "#    print(elm)\n",
    "    liste_finale.append(elm**2)\n",
    "print(liste_finale)\n",
    "\n",
    "[elm**2 for elm in liste_initiale]"
   ]
  },
  {
   "cell_type": "markdown",
   "metadata": {},
   "source": [
    "## Parcourir une liste\n",
    "* ``for``\n",
    "* enumerate\n",
    "* zip"
   ]
  },
  {
   "cell_type": "code",
   "execution_count": 61,
   "metadata": {},
   "outputs": [
    {
     "name": "stdout",
     "output_type": "stream",
     "text": [
      "Dupont\n",
      "Martin\n",
      "Dubois\n",
      "Le nom numéro 0 est Dupont\n",
      "Le nom numéro 1 est Martin\n",
      "Le nom numéro 2 est Dubois\n"
     ]
    }
   ],
   "source": [
    "ma_liste = ['Dupont', 'Martin', 'Dubois']\n",
    "for name in ma_liste:\n",
    "    print(name)\n",
    "    \n",
    "for i, name in enumerate(ma_liste):\n",
    "    print(f'Le nom numéro {i} est {name}')"
   ]
  },
  {
   "cell_type": "code",
   "execution_count": 62,
   "metadata": {},
   "outputs": [
    {
     "name": "stdout",
     "output_type": "stream",
     "text": [
      "Dupont a 12 ans.\n",
      "Martin a 35 ans.\n",
      "Dubois a 23 ans.\n"
     ]
    }
   ],
   "source": [
    "liste_age = [12, 35, 23]\n",
    "for age, name in zip(liste_age, ma_liste):\n",
    "    print(f\"{name} a {age} ans.\")"
   ]
  },
  {
   "cell_type": "markdown",
   "metadata": {
    "extensions": {
     "jupyter_dashboards": {
      "version": 1,
      "views": {
       "grid_default": {
        "col": 0,
        "height": 6,
        "hidden": false,
        "row": 36,
        "width": 12
       },
       "report_default": {}
      }
     }
    },
    "slideshow": {
     "slide_type": "slide"
    }
   },
   "source": [
    "# Structures de contrôle\n",
    "\n",
    "## Boucles \n",
    "* while\n",
    "* for (voir les listes)\n",
    "\n",
    "## Tests \n",
    "* if, elif, else\n",
    "\n",
    "## Fonctions \n",
    "\n",
    "```\n",
    "def nom_fonction(arg1, arg2, ...):\n",
    "       ...\n",
    "       return out1, out2\n",
    "```\n",
    "\n",
    "* Argument optionel, argument nommé\n",
    "* Il peut y avoir plusieurs return au sein d'une fonction\n",
    "* Documentation ≠ commentaire"
   ]
  },
  {
   "cell_type": "code",
   "execution_count": 71,
   "metadata": {
    "extensions": {
     "jupyter_dashboards": {
      "version": 1,
      "views": {
       "grid_default": {
        "hidden": true
       },
       "report_default": {}
      }
     }
    },
    "slideshow": {
     "slide_type": "-"
    }
   },
   "outputs": [],
   "source": [
    "def exponentielle(x, precision=1E-9):\n",
    "    \"\"\" Calcul de la fonction e**x\n",
    "    \n",
    "    parametre : \n",
    "        x : nombre\"\"\"\n",
    "    if x==0:\n",
    "        return 1\n",
    "    result = 0\n",
    "    n = 1\n",
    "    term = 1 # Initial value\n",
    "    while abs(term)>precision :\n",
    "        result = result + term\n",
    "        term = term * x/n\n",
    "        n = n + 1\n",
    "    return result\n",
    "    "
   ]
  },
  {
   "cell_type": "code",
   "execution_count": 72,
   "metadata": {
    "extensions": {
     "jupyter_dashboards": {
      "version": 1,
      "views": {
       "grid_default": {
        "hidden": true
       },
       "report_default": {}
      }
     }
    },
    "slideshow": {
     "slide_type": "-"
    }
   },
   "outputs": [
    {
     "data": {
      "text/plain": [
       "2.7182818284467594"
      ]
     },
     "execution_count": 72,
     "metadata": {},
     "output_type": "execute_result"
    }
   ],
   "source": [
    "exponentielle(precision=1E-10, x=1)"
   ]
  },
  {
   "cell_type": "code",
   "execution_count": 73,
   "metadata": {},
   "outputs": [],
   "source": [
    "exponentielle?"
   ]
  },
  {
   "cell_type": "markdown",
   "metadata": {},
   "source": [
    "# Règles typographyques\n",
    "\n",
    "## Variables\n",
    "* Des noms explicites\n",
    "* mots en lettres minucules séparés par des ```_``` pour les variables et les fonctions\n",
    "* Possibilité d'utiliser des majuscules pour des constantes.\n",
    "\n",
    "\n",
    "## Code\n",
    "* indentations de 4 espaces (touche tabulation par défaut)\n",
    "* lignes vides avant et après chaque fonction\n",
    "* espace autour du ```=``` pour les variables (mais pas pour les arguments par défauts d'une fonctions)\n",
    "* éviter les lignes trops longues : soit avec des variables intermédiaires soit en distribuant la fonction sur plusieurs lignes ( le plus simple est de le faire avec des parenthèses)."
   ]
  },
  {
   "cell_type": "code",
   "execution_count": 74,
   "metadata": {},
   "outputs": [
    {
     "data": {
      "text/plain": [
       "13"
      ]
     },
     "execution_count": 74,
     "metadata": {},
     "output_type": "execute_result"
    }
   ],
   "source": [
    "( 1 + \n",
    "2 + \n",
    "4 + 6)"
   ]
  },
  {
   "cell_type": "code",
   "execution_count": null,
   "metadata": {},
   "outputs": [],
   "source": []
  },
  {
   "cell_type": "markdown",
   "metadata": {},
   "source": [
    "# Les tableaux `numpy`\n",
    "\n",
    "* `numpy` est la librairie qui permet de manipuler de larges tableaux de données\n",
    "* Elle évite de devoir faire des boucles\n",
    "* Elle contient des fonctions qui ne sont pas dans math\n",
    "* En pratique, on n'utilise jamais le module math\n",
    "\n",
    "## Plusieurs utilisations :\n",
    "* simulations numériques\n",
    "* données expérimentales\n",
    "* graph\n",
    "\n",
    "## Remarque:\n",
    "Taille fixée à la création. Tous les éléments de même type et de type fini (int64 pour les entiers)"
   ]
  },
  {
   "cell_type": "code",
   "execution_count": 75,
   "metadata": {},
   "outputs": [],
   "source": [
    "from numpy import *\n",
    "import numpy as np"
   ]
  },
  {
   "cell_type": "code",
   "execution_count": 76,
   "metadata": {},
   "outputs": [
    {
     "name": "stdout",
     "output_type": "stream",
     "text": [
      "[0 1 2 3 4 5 6 7 8 9]\n"
     ]
    },
    {
     "data": {
      "text/plain": [
       "array([ 0.        ,  0.84147098,  0.90929743,  0.14112001, -0.7568025 ,\n",
       "       -0.95892427, -0.2794155 ,  0.6569866 ,  0.98935825,  0.41211849])"
      ]
     },
     "execution_count": 76,
     "metadata": {},
     "output_type": "execute_result"
    }
   ],
   "source": [
    "# Examples\n",
    "a = np.arange(10)\n",
    "print(a)\n",
    "np.sin(a)"
   ]
  },
  {
   "cell_type": "code",
   "execution_count": 77,
   "metadata": {},
   "outputs": [
    {
     "ename": "TypeError",
     "evalue": "only size-1 arrays can be converted to Python scalars",
     "output_type": "error",
     "traceback": [
      "\u001b[0;31m---------------------------------------------------------------------------\u001b[0m",
      "\u001b[0;31mTypeError\u001b[0m                                 Traceback (most recent call last)",
      "\u001b[0;32m<ipython-input-77-73cf66873dd5>\u001b[0m in \u001b[0;36m<module>\u001b[0;34m\u001b[0m\n\u001b[1;32m      3\u001b[0m \u001b[0;34m\u001b[0m\u001b[0m\n\u001b[1;32m      4\u001b[0m \u001b[0ma\u001b[0m \u001b[0;34m=\u001b[0m \u001b[0mnp\u001b[0m\u001b[0;34m.\u001b[0m\u001b[0marray\u001b[0m\u001b[0;34m(\u001b[0m\u001b[0;34m[\u001b[0m\u001b[0;36m1\u001b[0m\u001b[0;34m,\u001b[0m \u001b[0;36m5\u001b[0m\u001b[0;34m,\u001b[0m \u001b[0;36m9\u001b[0m\u001b[0;34m]\u001b[0m\u001b[0;34m)\u001b[0m\u001b[0;34m\u001b[0m\u001b[0;34m\u001b[0m\u001b[0m\n\u001b[0;32m----> 5\u001b[0;31m \u001b[0mmath\u001b[0m\u001b[0;34m.\u001b[0m\u001b[0msin\u001b[0m\u001b[0;34m(\u001b[0m\u001b[0ma\u001b[0m\u001b[0;34m)\u001b[0m\u001b[0;34m\u001b[0m\u001b[0;34m\u001b[0m\u001b[0m\n\u001b[0m",
      "\u001b[0;31mTypeError\u001b[0m: only size-1 arrays can be converted to Python scalars"
     ]
    }
   ],
   "source": [
    "# Il ne faut pas utiliser le module math avec des tableaux numpy\n",
    "import math\n",
    "\n",
    "a = np.array([1, 5, 9])\n",
    "math.sin(a)"
   ]
  },
  {
   "cell_type": "code",
   "execution_count": 79,
   "metadata": {},
   "outputs": [
    {
     "name": "stdout",
     "output_type": "stream",
     "text": [
      "752 µs ± 42.4 µs per loop (mean ± std. dev. of 7 runs, 1000 loops each)\n",
      "128 ms ± 931 µs per loop (mean ± std. dev. of 7 runs, 10 loops each)\n"
     ]
    }
   ],
   "source": [
    "# Comparaison de la vitesse entre une liste et un tableau \n",
    "a = np.random.rand(1000000)\n",
    "\n",
    "%timeit a**2\n",
    "\n",
    "def carre(x):\n",
    "    return [elm**2 for elm in x]\n",
    "b = list(a)\n",
    "\n",
    "%timeit carre(b)"
   ]
  },
  {
   "cell_type": "code",
   "execution_count": null,
   "metadata": {},
   "outputs": [],
   "source": [
    "# Boucle for avec un tableau\n",
    "def carre_boucle(x):\n",
    "    out = np.zeros(len(x))\n",
    "    for i in range(len(x)):\n",
    "        out[i] = x[i]**2\n",
    "    return out\n",
    "\n",
    "%timeit carre_boucle(b)"
   ]
  },
  {
   "cell_type": "markdown",
   "metadata": {},
   "source": [
    "# Avantages (et inconvénients) des tableaux\n",
    "* La taille et le type de donnée est fixé à la création du tableau\n",
    "\n"
   ]
  },
  {
   "cell_type": "code",
   "execution_count": 80,
   "metadata": {},
   "outputs": [
    {
     "data": {
      "text/plain": [
       "array([12,  2,  4])"
      ]
     },
     "execution_count": 80,
     "metadata": {},
     "output_type": "execute_result"
    }
   ],
   "source": [
    "a = np.array([1, 2, 4])\n",
    "a[0] = 12.424\n",
    "a"
   ]
  },
  {
   "cell_type": "code",
   "execution_count": 83,
   "metadata": {},
   "outputs": [
    {
     "data": {
      "text/plain": [
       "array([1.  , 3.14, 4.  ])"
      ]
     },
     "execution_count": 83,
     "metadata": {},
     "output_type": "execute_result"
    }
   ],
   "source": [
    "a = np.array([1, 2, 4], dtype='float')\n",
    "a = np.array([1., 2, 4])\n",
    "\n",
    "a[1] = 3.14\n",
    "\n",
    "a"
   ]
  },
  {
   "cell_type": "code",
   "execution_count": 82,
   "metadata": {},
   "outputs": [
    {
     "data": {
      "text/plain": [
       "array([0., 1., 2., 3., 4., 5., 6., 7., 8., 9.])"
      ]
     },
     "execution_count": 82,
     "metadata": {},
     "output_type": "execute_result"
    }
   ],
   "source": [
    "np.arange(10, dtype='float')"
   ]
  },
  {
   "cell_type": "markdown",
   "metadata": {},
   "source": [
    "# Création d'un tableau\n",
    "Il existe plusieurs fonctions pour créer un tableau.\n",
    "\n",
    "* array :  partir d'une liste\n",
    "* zeros, ones, eye\n",
    "* arange\n",
    "* linspace, logspace\n",
    "* np.random.rand, ...\n",
    "* loadtxt\n",
    "* load/save\n",
    "\n",
    "Le type est déterminé automatiquement. On peut le forcer avec l'argument dtype"
   ]
  },
  {
   "cell_type": "code",
   "execution_count": 84,
   "metadata": {},
   "outputs": [
    {
     "data": {
      "text/plain": [
       "array([0.        , 0.11111111, 0.22222222, 0.33333333, 0.44444444,\n",
       "       0.55555556, 0.66666667, 0.77777778, 0.88888889, 1.        ])"
      ]
     },
     "execution_count": 84,
     "metadata": {},
     "output_type": "execute_result"
    }
   ],
   "source": [
    "linspace(start=0, stop=1, num=10)"
   ]
  },
  {
   "cell_type": "code",
   "execution_count": 90,
   "metadata": {},
   "outputs": [],
   "source": [
    "# Intervalle entre 0 et 1 avec N points.\n",
    "# C'est inconsistant\n",
    "a = 0\n",
    "b = 1\n",
    "N = 1000\n",
    "dx = (b-a)/N\n",
    "x = np.linspace(a, b, N)"
   ]
  },
  {
   "cell_type": "code",
   "execution_count": 91,
   "metadata": {},
   "outputs": [],
   "source": [
    "x = a + np.arange(N)*dx\n",
    "x = np.linspace(a, b, N, endpoint=False)"
   ]
  },
  {
   "cell_type": "code",
   "execution_count": 92,
   "metadata": {},
   "outputs": [
    {
     "data": {
      "text/plain": [
       "array([  1.        ,   1.58489319,   2.51188643,   3.98107171,\n",
       "         6.30957344,  10.        ,  15.84893192,  25.11886432,\n",
       "        39.81071706,  63.09573445, 100.        ])"
      ]
     },
     "execution_count": 92,
     "metadata": {},
     "output_type": "execute_result"
    }
   ],
   "source": [
    "np.logspace(0, 2, 11)"
   ]
  },
  {
   "cell_type": "code",
   "execution_count": 93,
   "metadata": {},
   "outputs": [
    {
     "data": {
      "text/plain": [
       "array([1.15497303, 0.96218606, 0.85185124, 0.92848532, 0.80569157])"
      ]
     },
     "execution_count": 93,
     "metadata": {},
     "output_type": "execute_result"
    }
   ],
   "source": [
    "np.random.normal(loc=1, scale=.1, size=5)"
   ]
  },
  {
   "cell_type": "code",
   "execution_count": null,
   "metadata": {},
   "outputs": [],
   "source": [
    "a = np.random.normal(loc=1, scale=.1, size=5)\n",
    "np.savetxt('test.txt', a)\n",
    "\n",
    "b = np.loadtxt('test.txt')\n",
    "b"
   ]
  },
  {
   "cell_type": "code",
   "execution_count": null,
   "metadata": {},
   "outputs": [],
   "source": [
    "a = np.random.normal(loc=1, scale=.1, size=1000000)\n",
    "np.savetxt('test_long.txt', a)\n"
   ]
  },
  {
   "cell_type": "code",
   "execution_count": null,
   "metadata": {},
   "outputs": [],
   "source": [
    "%timeit np.loadtxt('test_long.txt')"
   ]
  },
  {
   "cell_type": "code",
   "execution_count": null,
   "metadata": {},
   "outputs": [],
   "source": [
    "np.loadtxt?"
   ]
  },
  {
   "cell_type": "code",
   "execution_count": null,
   "metadata": {},
   "outputs": [],
   "source": [
    "a = np.random.normal(loc=1, scale=.1, size=1000000)\n",
    "np.save('test_long.npy', a)\n"
   ]
  },
  {
   "cell_type": "code",
   "execution_count": null,
   "metadata": {},
   "outputs": [],
   "source": [
    "%timeit np.load('test_long.npy')"
   ]
  },
  {
   "cell_type": "markdown",
   "metadata": {},
   "source": [
    "# Créer une fonction vectorisée\n",
    "\n",
    "C'est une fonction qui calcule sur un tableau élément par élément\n",
    "\n"
   ]
  },
  {
   "cell_type": "code",
   "execution_count": null,
   "metadata": {},
   "outputs": [],
   "source": [
    "x = np.linspace(-1, 1, 51, endpoint=False)*np.pi"
   ]
  },
  {
   "cell_type": "code",
   "execution_count": null,
   "metadata": {},
   "outputs": [],
   "source": [
    "# Souvent il n'y a rien a faire\n",
    "np.sin(x)\n",
    "\n",
    "def ma_fonction(x):\n",
    "    return np.sin(x)**2 + np.cos(x)**2\n",
    "ma_fonction(x)"
   ]
  },
  {
   "cell_type": "code",
   "execution_count": null,
   "metadata": {},
   "outputs": [],
   "source": [
    "# Sinon, vectorize\n",
    "# Mais il existe des solutions pour éviter d'avoir à \n",
    "# l'utiliser (c.f. prochaine partie)\n",
    "def mafonction_simple(a):\n",
    "#    print('Bonjour')\n",
    "    if a>0:\n",
    "        return a\n",
    "    else:\n",
    "        return -a\n",
    "\n",
    "#mafonction_simple(np.linspace(-1, 1))\n",
    "mafonction = np.vectorize(mafonction_simple)\n",
    "mafonction(np.linspace(-1, 1))\n",
    "# On peut utiliser un décorateur"
   ]
  },
  {
   "cell_type": "code",
   "execution_count": null,
   "metadata": {},
   "outputs": [],
   "source": [
    "# Il faut connaitre l'origine de cette erreur\n",
    "if x>0:\n",
    "    print('Bonjour')"
   ]
  },
  {
   "cell_type": "markdown",
   "metadata": {},
   "source": [
    "## Fonctions utiles de numpy\n",
    "\n",
    "* Fonction mathématique véctorisée: `sin`, `cos`, `tan`, `exp`, `log`, `arcsin`, `arccos`, `arctan`, `arctan2`, ...\n",
    "* Fonction sur les tableaux : `mean`, `min`, `max`, `sum`, `prod`, `std`, `var`\n",
    "* Tri : `sort`, `argsort`\n",
    "\n",
    "De façon générale, toutes les opérations usuelles existent, il faut juste trouver le bonne fonction !\n",
    "\n"
   ]
  },
  {
   "cell_type": "code",
   "execution_count": null,
   "metadata": {},
   "outputs": [],
   "source": [
    "a = np.random.rand(10)\n",
    "a.max() # method\n",
    "np.max(a) # fonction"
   ]
  },
  {
   "cell_type": "code",
   "execution_count": null,
   "metadata": {},
   "outputs": [],
   "source": [
    "np.arctan2(-1, -1)"
   ]
  },
  {
   "cell_type": "markdown",
   "metadata": {},
   "source": [
    "# Indexer un tableau\n",
    "\n",
    "* Slices \n",
    "    * Tous les éléments sauf le premier\n",
    "    * Sauf le dernier\n",
    "    * Un élément sur deux\n",
    "* Indexer avec un tableau d'entier\n",
    "* Indexer avec un tableau de booléens\n"
   ]
  },
  {
   "cell_type": "code",
   "execution_count": null,
   "metadata": {},
   "outputs": [],
   "source": [
    "x = np.linspace(-1, 1, 51, endpoint=False)*np.pi\n",
    "x[2:9]"
   ]
  },
  {
   "cell_type": "code",
   "execution_count": null,
   "metadata": {},
   "outputs": [],
   "source": [
    "x[::2]"
   ]
  },
  {
   "cell_type": "code",
   "execution_count": null,
   "metadata": {},
   "outputs": [],
   "source": [
    "x[4:10:2]\n",
    "# x[start:stop:step], comme range ou arange"
   ]
  },
  {
   "cell_type": "code",
   "execution_count": null,
   "metadata": {},
   "outputs": [],
   "source": [
    "x = np.linspace(-1, 1, 51)\n",
    "x\n",
    "# tout sauf le dernier\n",
    "x[:-1]"
   ]
  },
  {
   "cell_type": "code",
   "execution_count": null,
   "metadata": {},
   "outputs": [],
   "source": [
    "# Les deux derniers\n",
    "x[-2:]"
   ]
  },
  {
   "cell_type": "code",
   "execution_count": null,
   "metadata": {},
   "outputs": [],
   "source": []
  },
  {
   "cell_type": "code",
   "execution_count": null,
   "metadata": {},
   "outputs": [],
   "source": [
    "# La différence entre deux éléments consécutifs (dérivée numérique)\n",
    "x[1:] - x[:-1]"
   ]
  },
  {
   "cell_type": "code",
   "execution_count": null,
   "metadata": {},
   "outputs": [],
   "source": [
    "# Indexer avec un tableau d'entier\n",
    "x[np.array([1, 5, 10])]"
   ]
  },
  {
   "cell_type": "code",
   "execution_count": null,
   "metadata": {},
   "outputs": [],
   "source": [
    "# Par exemple : argsort\n",
    "# Les trois éléments les plus petits\n",
    "x = np.random.rand(10)\n",
    "x"
   ]
  },
  {
   "cell_type": "code",
   "execution_count": null,
   "metadata": {},
   "outputs": [],
   "source": [
    "x.argsort()"
   ]
  },
  {
   "cell_type": "code",
   "execution_count": null,
   "metadata": {},
   "outputs": [],
   "source": [
    "x[x.argsort()][:3]"
   ]
  },
  {
   "cell_type": "code",
   "execution_count": null,
   "metadata": {},
   "outputs": [],
   "source": [
    "# Avec un tableau de booléens\n",
    "x = np.random.rand(5)\n",
    "x"
   ]
  },
  {
   "cell_type": "code",
   "execution_count": null,
   "metadata": {},
   "outputs": [],
   "source": [
    "x[np.array([True, False, False, True, True])]"
   ]
  },
  {
   "cell_type": "code",
   "execution_count": null,
   "metadata": {},
   "outputs": [],
   "source": [
    "x[x>0.5]"
   ]
  },
  {
   "cell_type": "code",
   "execution_count": null,
   "metadata": {},
   "outputs": [],
   "source": [
    "def val_abs(x):\n",
    "    res = np.zeros(len(x))\n",
    "    res[x>0] = x[x>0]\n",
    "    res[x<=0] = -x[x<=0]\n",
    "    return res"
   ]
  },
  {
   "cell_type": "code",
   "execution_count": null,
   "metadata": {},
   "outputs": [],
   "source": [
    "x[:, 1]"
   ]
  },
  {
   "cell_type": "markdown",
   "metadata": {
    "extensions": {
     "jupyter_dashboards": {
      "version": 1,
      "views": {
       "grid_default": {
        "col": 0,
        "height": 8,
        "hidden": false,
        "row": 112,
        "width": 12
       },
       "report_default": {}
      }
     }
    },
    "slideshow": {
     "slide_type": "slide"
    }
   },
   "source": [
    "# Tracer des graphs\n",
    "\n",
    "* Initialiser l'affichage\n",
    "    * c'est automatique dans spyder (à vérifier...)\n",
    "    * C'est automatique dans les jupyter. Il y a plusieurs modes\n",
    "    * Dans un script c'est plus compliqué (graph interactif ou pas, sortie pdf, ...)\n",
    "    \n",
    "\n",
    "* il faut importer les fonctions pour tracer."
   ]
  },
  {
   "cell_type": "code",
   "execution_count": 1,
   "metadata": {
    "extensions": {
     "jupyter_dashboards": {
      "version": 1,
      "views": {
       "grid_default": {
        "hidden": true
       },
       "report_default": {}
      }
     }
    }
   },
   "outputs": [],
   "source": [
    "# %matplotlib notebook\n",
    "import matplotlib.pyplot as plt\n",
    "from matplotlib.pyplot import *\n",
    "import numpy as np"
   ]
  },
  {
   "cell_type": "code",
   "execution_count": 3,
   "metadata": {
    "extensions": {
     "jupyter_dashboards": {
      "version": 1,
      "views": {
       "grid_default": {
        "col": 4,
        "height": 9,
        "hidden": false,
        "row": 120,
        "width": 4
       },
       "report_default": {}
      }
     }
    },
    "slideshow": {
     "slide_type": "slide"
    }
   },
   "outputs": [
    {
     "data": {
      "application/javascript": [
       "/* Put everything inside the global mpl namespace */\n",
       "/* global mpl */\n",
       "window.mpl = {};\n",
       "\n",
       "mpl.get_websocket_type = function () {\n",
       "    if (typeof WebSocket !== 'undefined') {\n",
       "        return WebSocket;\n",
       "    } else if (typeof MozWebSocket !== 'undefined') {\n",
       "        return MozWebSocket;\n",
       "    } else {\n",
       "        alert(\n",
       "            'Your browser does not have WebSocket support. ' +\n",
       "                'Please try Chrome, Safari or Firefox ≥ 6. ' +\n",
       "                'Firefox 4 and 5 are also supported but you ' +\n",
       "                'have to enable WebSockets in about:config.'\n",
       "        );\n",
       "    }\n",
       "};\n",
       "\n",
       "mpl.figure = function (figure_id, websocket, ondownload, parent_element) {\n",
       "    this.id = figure_id;\n",
       "\n",
       "    this.ws = websocket;\n",
       "\n",
       "    this.supports_binary = this.ws.binaryType !== undefined;\n",
       "\n",
       "    if (!this.supports_binary) {\n",
       "        var warnings = document.getElementById('mpl-warnings');\n",
       "        if (warnings) {\n",
       "            warnings.style.display = 'block';\n",
       "            warnings.textContent =\n",
       "                'This browser does not support binary websocket messages. ' +\n",
       "                'Performance may be slow.';\n",
       "        }\n",
       "    }\n",
       "\n",
       "    this.imageObj = new Image();\n",
       "\n",
       "    this.context = undefined;\n",
       "    this.message = undefined;\n",
       "    this.canvas = undefined;\n",
       "    this.rubberband_canvas = undefined;\n",
       "    this.rubberband_context = undefined;\n",
       "    this.format_dropdown = undefined;\n",
       "\n",
       "    this.image_mode = 'full';\n",
       "\n",
       "    this.root = document.createElement('div');\n",
       "    this.root.setAttribute('style', 'display: inline-block');\n",
       "    this._root_extra_style(this.root);\n",
       "\n",
       "    parent_element.appendChild(this.root);\n",
       "\n",
       "    this._init_header(this);\n",
       "    this._init_canvas(this);\n",
       "    this._init_toolbar(this);\n",
       "\n",
       "    var fig = this;\n",
       "\n",
       "    this.waiting = false;\n",
       "\n",
       "    this.ws.onopen = function () {\n",
       "        fig.send_message('supports_binary', { value: fig.supports_binary });\n",
       "        fig.send_message('send_image_mode', {});\n",
       "        if (fig.ratio !== 1) {\n",
       "            fig.send_message('set_device_pixel_ratio', {\n",
       "                device_pixel_ratio: fig.ratio,\n",
       "            });\n",
       "        }\n",
       "        fig.send_message('refresh', {});\n",
       "    };\n",
       "\n",
       "    this.imageObj.onload = function () {\n",
       "        if (fig.image_mode === 'full') {\n",
       "            // Full images could contain transparency (where diff images\n",
       "            // almost always do), so we need to clear the canvas so that\n",
       "            // there is no ghosting.\n",
       "            fig.context.clearRect(0, 0, fig.canvas.width, fig.canvas.height);\n",
       "        }\n",
       "        fig.context.drawImage(fig.imageObj, 0, 0);\n",
       "    };\n",
       "\n",
       "    this.imageObj.onunload = function () {\n",
       "        fig.ws.close();\n",
       "    };\n",
       "\n",
       "    this.ws.onmessage = this._make_on_message_function(this);\n",
       "\n",
       "    this.ondownload = ondownload;\n",
       "};\n",
       "\n",
       "mpl.figure.prototype._init_header = function () {\n",
       "    var titlebar = document.createElement('div');\n",
       "    titlebar.classList =\n",
       "        'ui-dialog-titlebar ui-widget-header ui-corner-all ui-helper-clearfix';\n",
       "    var titletext = document.createElement('div');\n",
       "    titletext.classList = 'ui-dialog-title';\n",
       "    titletext.setAttribute(\n",
       "        'style',\n",
       "        'width: 100%; text-align: center; padding: 3px;'\n",
       "    );\n",
       "    titlebar.appendChild(titletext);\n",
       "    this.root.appendChild(titlebar);\n",
       "    this.header = titletext;\n",
       "};\n",
       "\n",
       "mpl.figure.prototype._canvas_extra_style = function (_canvas_div) {};\n",
       "\n",
       "mpl.figure.prototype._root_extra_style = function (_canvas_div) {};\n",
       "\n",
       "mpl.figure.prototype._init_canvas = function () {\n",
       "    var fig = this;\n",
       "\n",
       "    var canvas_div = (this.canvas_div = document.createElement('div'));\n",
       "    canvas_div.setAttribute('tabindex', '0');\n",
       "    canvas_div.setAttribute(\n",
       "        'style',\n",
       "        'border: 1px solid #ddd;' +\n",
       "            'box-sizing: content-box;' +\n",
       "            'clear: both;' +\n",
       "            'min-height: 1px;' +\n",
       "            'min-width: 1px;' +\n",
       "            'outline: 0;' +\n",
       "            'overflow: hidden;' +\n",
       "            'position: relative;' +\n",
       "            'resize: both;' +\n",
       "            'z-index: 2;'\n",
       "    );\n",
       "\n",
       "    function on_keyboard_event_closure(name) {\n",
       "        return function (event) {\n",
       "            return fig.key_event(event, name);\n",
       "        };\n",
       "    }\n",
       "\n",
       "    canvas_div.addEventListener(\n",
       "        'keydown',\n",
       "        on_keyboard_event_closure('key_press')\n",
       "    );\n",
       "    canvas_div.addEventListener(\n",
       "        'keyup',\n",
       "        on_keyboard_event_closure('key_release')\n",
       "    );\n",
       "\n",
       "    this._canvas_extra_style(canvas_div);\n",
       "    this.root.appendChild(canvas_div);\n",
       "\n",
       "    var canvas = (this.canvas = document.createElement('canvas'));\n",
       "    canvas.classList.add('mpl-canvas');\n",
       "    canvas.setAttribute(\n",
       "        'style',\n",
       "        'box-sizing: content-box;' +\n",
       "            'pointer-events: none;' +\n",
       "            'position: relative;' +\n",
       "            'z-index: 0;'\n",
       "    );\n",
       "\n",
       "    this.context = canvas.getContext('2d');\n",
       "\n",
       "    var backingStore =\n",
       "        this.context.backingStorePixelRatio ||\n",
       "        this.context.webkitBackingStorePixelRatio ||\n",
       "        this.context.mozBackingStorePixelRatio ||\n",
       "        this.context.msBackingStorePixelRatio ||\n",
       "        this.context.oBackingStorePixelRatio ||\n",
       "        this.context.backingStorePixelRatio ||\n",
       "        1;\n",
       "\n",
       "    this.ratio = (window.devicePixelRatio || 1) / backingStore;\n",
       "\n",
       "    var rubberband_canvas = (this.rubberband_canvas = document.createElement(\n",
       "        'canvas'\n",
       "    ));\n",
       "    rubberband_canvas.setAttribute(\n",
       "        'style',\n",
       "        'box-sizing: content-box;' +\n",
       "            'left: 0;' +\n",
       "            'pointer-events: none;' +\n",
       "            'position: absolute;' +\n",
       "            'top: 0;' +\n",
       "            'z-index: 1;'\n",
       "    );\n",
       "\n",
       "    // Apply a ponyfill if ResizeObserver is not implemented by browser.\n",
       "    if (this.ResizeObserver === undefined) {\n",
       "        if (window.ResizeObserver !== undefined) {\n",
       "            this.ResizeObserver = window.ResizeObserver;\n",
       "        } else {\n",
       "            var obs = _JSXTOOLS_RESIZE_OBSERVER({});\n",
       "            this.ResizeObserver = obs.ResizeObserver;\n",
       "        }\n",
       "    }\n",
       "\n",
       "    this.resizeObserverInstance = new this.ResizeObserver(function (entries) {\n",
       "        var nentries = entries.length;\n",
       "        for (var i = 0; i < nentries; i++) {\n",
       "            var entry = entries[i];\n",
       "            var width, height;\n",
       "            if (entry.contentBoxSize) {\n",
       "                if (entry.contentBoxSize instanceof Array) {\n",
       "                    // Chrome 84 implements new version of spec.\n",
       "                    width = entry.contentBoxSize[0].inlineSize;\n",
       "                    height = entry.contentBoxSize[0].blockSize;\n",
       "                } else {\n",
       "                    // Firefox implements old version of spec.\n",
       "                    width = entry.contentBoxSize.inlineSize;\n",
       "                    height = entry.contentBoxSize.blockSize;\n",
       "                }\n",
       "            } else {\n",
       "                // Chrome <84 implements even older version of spec.\n",
       "                width = entry.contentRect.width;\n",
       "                height = entry.contentRect.height;\n",
       "            }\n",
       "\n",
       "            // Keep the size of the canvas and rubber band canvas in sync with\n",
       "            // the canvas container.\n",
       "            if (entry.devicePixelContentBoxSize) {\n",
       "                // Chrome 84 implements new version of spec.\n",
       "                canvas.setAttribute(\n",
       "                    'width',\n",
       "                    entry.devicePixelContentBoxSize[0].inlineSize\n",
       "                );\n",
       "                canvas.setAttribute(\n",
       "                    'height',\n",
       "                    entry.devicePixelContentBoxSize[0].blockSize\n",
       "                );\n",
       "            } else {\n",
       "                canvas.setAttribute('width', width * fig.ratio);\n",
       "                canvas.setAttribute('height', height * fig.ratio);\n",
       "            }\n",
       "            /* This rescales the canvas back to display pixels, so that it\n",
       "             * appears correct on HiDPI screens. */\n",
       "            canvas.style.width = width + 'px';\n",
       "            canvas.style.height = height + 'px';\n",
       "\n",
       "            rubberband_canvas.setAttribute('width', width);\n",
       "            rubberband_canvas.setAttribute('height', height);\n",
       "\n",
       "            // And update the size in Python. We ignore the initial 0/0 size\n",
       "            // that occurs as the element is placed into the DOM, which should\n",
       "            // otherwise not happen due to the minimum size styling.\n",
       "            if (fig.ws.readyState == 1 && width != 0 && height != 0) {\n",
       "                fig.request_resize(width, height);\n",
       "            }\n",
       "        }\n",
       "    });\n",
       "    this.resizeObserverInstance.observe(canvas_div);\n",
       "\n",
       "    function on_mouse_event_closure(name) {\n",
       "        /* User Agent sniffing is bad, but WebKit is busted:\n",
       "         * https://bugs.webkit.org/show_bug.cgi?id=144526\n",
       "         * https://bugs.webkit.org/show_bug.cgi?id=181818\n",
       "         * The worst that happens here is that they get an extra browser\n",
       "         * selection when dragging, if this check fails to catch them.\n",
       "         */\n",
       "        var UA = navigator.userAgent;\n",
       "        var isWebKit = /AppleWebKit/.test(UA) && !/Chrome/.test(UA);\n",
       "        if(isWebKit) {\n",
       "            return function (event) {\n",
       "                /* This prevents the web browser from automatically changing to\n",
       "                 * the text insertion cursor when the button is pressed. We\n",
       "                 * want to control all of the cursor setting manually through\n",
       "                 * the 'cursor' event from matplotlib */\n",
       "                event.preventDefault()\n",
       "                return fig.mouse_event(event, name);\n",
       "            };\n",
       "        } else {\n",
       "            return function (event) {\n",
       "                return fig.mouse_event(event, name);\n",
       "            };\n",
       "        }\n",
       "    }\n",
       "\n",
       "    canvas_div.addEventListener(\n",
       "        'mousedown',\n",
       "        on_mouse_event_closure('button_press')\n",
       "    );\n",
       "    canvas_div.addEventListener(\n",
       "        'mouseup',\n",
       "        on_mouse_event_closure('button_release')\n",
       "    );\n",
       "    canvas_div.addEventListener(\n",
       "        'dblclick',\n",
       "        on_mouse_event_closure('dblclick')\n",
       "    );\n",
       "    // Throttle sequential mouse events to 1 every 20ms.\n",
       "    canvas_div.addEventListener(\n",
       "        'mousemove',\n",
       "        on_mouse_event_closure('motion_notify')\n",
       "    );\n",
       "\n",
       "    canvas_div.addEventListener(\n",
       "        'mouseenter',\n",
       "        on_mouse_event_closure('figure_enter')\n",
       "    );\n",
       "    canvas_div.addEventListener(\n",
       "        'mouseleave',\n",
       "        on_mouse_event_closure('figure_leave')\n",
       "    );\n",
       "\n",
       "    canvas_div.addEventListener('wheel', function (event) {\n",
       "        if (event.deltaY < 0) {\n",
       "            event.step = 1;\n",
       "        } else {\n",
       "            event.step = -1;\n",
       "        }\n",
       "        on_mouse_event_closure('scroll')(event);\n",
       "    });\n",
       "\n",
       "    canvas_div.appendChild(canvas);\n",
       "    canvas_div.appendChild(rubberband_canvas);\n",
       "\n",
       "    this.rubberband_context = rubberband_canvas.getContext('2d');\n",
       "    this.rubberband_context.strokeStyle = '#000000';\n",
       "\n",
       "    this._resize_canvas = function (width, height, forward) {\n",
       "        if (forward) {\n",
       "            canvas_div.style.width = width + 'px';\n",
       "            canvas_div.style.height = height + 'px';\n",
       "        }\n",
       "    };\n",
       "\n",
       "    // Disable right mouse context menu.\n",
       "    canvas_div.addEventListener('contextmenu', function (_e) {\n",
       "        event.preventDefault();\n",
       "        return false;\n",
       "    });\n",
       "\n",
       "    function set_focus() {\n",
       "        canvas.focus();\n",
       "        canvas_div.focus();\n",
       "    }\n",
       "\n",
       "    window.setTimeout(set_focus, 100);\n",
       "};\n",
       "\n",
       "mpl.figure.prototype._init_toolbar = function () {\n",
       "    var fig = this;\n",
       "\n",
       "    var toolbar = document.createElement('div');\n",
       "    toolbar.classList = 'mpl-toolbar';\n",
       "    this.root.appendChild(toolbar);\n",
       "\n",
       "    function on_click_closure(name) {\n",
       "        return function (_event) {\n",
       "            return fig.toolbar_button_onclick(name);\n",
       "        };\n",
       "    }\n",
       "\n",
       "    function on_mouseover_closure(tooltip) {\n",
       "        return function (event) {\n",
       "            if (!event.currentTarget.disabled) {\n",
       "                return fig.toolbar_button_onmouseover(tooltip);\n",
       "            }\n",
       "        };\n",
       "    }\n",
       "\n",
       "    fig.buttons = {};\n",
       "    var buttonGroup = document.createElement('div');\n",
       "    buttonGroup.classList = 'mpl-button-group';\n",
       "    for (var toolbar_ind in mpl.toolbar_items) {\n",
       "        var name = mpl.toolbar_items[toolbar_ind][0];\n",
       "        var tooltip = mpl.toolbar_items[toolbar_ind][1];\n",
       "        var image = mpl.toolbar_items[toolbar_ind][2];\n",
       "        var method_name = mpl.toolbar_items[toolbar_ind][3];\n",
       "\n",
       "        if (!name) {\n",
       "            /* Instead of a spacer, we start a new button group. */\n",
       "            if (buttonGroup.hasChildNodes()) {\n",
       "                toolbar.appendChild(buttonGroup);\n",
       "            }\n",
       "            buttonGroup = document.createElement('div');\n",
       "            buttonGroup.classList = 'mpl-button-group';\n",
       "            continue;\n",
       "        }\n",
       "\n",
       "        var button = (fig.buttons[name] = document.createElement('button'));\n",
       "        button.classList = 'mpl-widget';\n",
       "        button.setAttribute('role', 'button');\n",
       "        button.setAttribute('aria-disabled', 'false');\n",
       "        button.addEventListener('click', on_click_closure(method_name));\n",
       "        button.addEventListener('mouseover', on_mouseover_closure(tooltip));\n",
       "\n",
       "        var icon_img = document.createElement('img');\n",
       "        icon_img.src = '_images/' + image + '.png';\n",
       "        icon_img.srcset = '_images/' + image + '_large.png 2x';\n",
       "        icon_img.alt = tooltip;\n",
       "        button.appendChild(icon_img);\n",
       "\n",
       "        buttonGroup.appendChild(button);\n",
       "    }\n",
       "\n",
       "    if (buttonGroup.hasChildNodes()) {\n",
       "        toolbar.appendChild(buttonGroup);\n",
       "    }\n",
       "\n",
       "    var fmt_picker = document.createElement('select');\n",
       "    fmt_picker.classList = 'mpl-widget';\n",
       "    toolbar.appendChild(fmt_picker);\n",
       "    this.format_dropdown = fmt_picker;\n",
       "\n",
       "    for (var ind in mpl.extensions) {\n",
       "        var fmt = mpl.extensions[ind];\n",
       "        var option = document.createElement('option');\n",
       "        option.selected = fmt === mpl.default_extension;\n",
       "        option.innerHTML = fmt;\n",
       "        fmt_picker.appendChild(option);\n",
       "    }\n",
       "\n",
       "    var status_bar = document.createElement('span');\n",
       "    status_bar.classList = 'mpl-message';\n",
       "    toolbar.appendChild(status_bar);\n",
       "    this.message = status_bar;\n",
       "};\n",
       "\n",
       "mpl.figure.prototype.request_resize = function (x_pixels, y_pixels) {\n",
       "    // Request matplotlib to resize the figure. Matplotlib will then trigger a resize in the client,\n",
       "    // which will in turn request a refresh of the image.\n",
       "    this.send_message('resize', { width: x_pixels, height: y_pixels });\n",
       "};\n",
       "\n",
       "mpl.figure.prototype.send_message = function (type, properties) {\n",
       "    properties['type'] = type;\n",
       "    properties['figure_id'] = this.id;\n",
       "    this.ws.send(JSON.stringify(properties));\n",
       "};\n",
       "\n",
       "mpl.figure.prototype.send_draw_message = function () {\n",
       "    if (!this.waiting) {\n",
       "        this.waiting = true;\n",
       "        this.ws.send(JSON.stringify({ type: 'draw', figure_id: this.id }));\n",
       "    }\n",
       "};\n",
       "\n",
       "mpl.figure.prototype.handle_save = function (fig, _msg) {\n",
       "    var format_dropdown = fig.format_dropdown;\n",
       "    var format = format_dropdown.options[format_dropdown.selectedIndex].value;\n",
       "    fig.ondownload(fig, format);\n",
       "};\n",
       "\n",
       "mpl.figure.prototype.handle_resize = function (fig, msg) {\n",
       "    var size = msg['size'];\n",
       "    if (size[0] !== fig.canvas.width || size[1] !== fig.canvas.height) {\n",
       "        fig._resize_canvas(size[0], size[1], msg['forward']);\n",
       "        fig.send_message('refresh', {});\n",
       "    }\n",
       "};\n",
       "\n",
       "mpl.figure.prototype.handle_rubberband = function (fig, msg) {\n",
       "    var x0 = msg['x0'] / fig.ratio;\n",
       "    var y0 = (fig.canvas.height - msg['y0']) / fig.ratio;\n",
       "    var x1 = msg['x1'] / fig.ratio;\n",
       "    var y1 = (fig.canvas.height - msg['y1']) / fig.ratio;\n",
       "    x0 = Math.floor(x0) + 0.5;\n",
       "    y0 = Math.floor(y0) + 0.5;\n",
       "    x1 = Math.floor(x1) + 0.5;\n",
       "    y1 = Math.floor(y1) + 0.5;\n",
       "    var min_x = Math.min(x0, x1);\n",
       "    var min_y = Math.min(y0, y1);\n",
       "    var width = Math.abs(x1 - x0);\n",
       "    var height = Math.abs(y1 - y0);\n",
       "\n",
       "    fig.rubberband_context.clearRect(\n",
       "        0,\n",
       "        0,\n",
       "        fig.canvas.width / fig.ratio,\n",
       "        fig.canvas.height / fig.ratio\n",
       "    );\n",
       "\n",
       "    fig.rubberband_context.strokeRect(min_x, min_y, width, height);\n",
       "};\n",
       "\n",
       "mpl.figure.prototype.handle_figure_label = function (fig, msg) {\n",
       "    // Updates the figure title.\n",
       "    fig.header.textContent = msg['label'];\n",
       "};\n",
       "\n",
       "mpl.figure.prototype.handle_cursor = function (fig, msg) {\n",
       "    fig.canvas_div.style.cursor = msg['cursor'];\n",
       "};\n",
       "\n",
       "mpl.figure.prototype.handle_message = function (fig, msg) {\n",
       "    fig.message.textContent = msg['message'];\n",
       "};\n",
       "\n",
       "mpl.figure.prototype.handle_draw = function (fig, _msg) {\n",
       "    // Request the server to send over a new figure.\n",
       "    fig.send_draw_message();\n",
       "};\n",
       "\n",
       "mpl.figure.prototype.handle_image_mode = function (fig, msg) {\n",
       "    fig.image_mode = msg['mode'];\n",
       "};\n",
       "\n",
       "mpl.figure.prototype.handle_history_buttons = function (fig, msg) {\n",
       "    for (var key in msg) {\n",
       "        if (!(key in fig.buttons)) {\n",
       "            continue;\n",
       "        }\n",
       "        fig.buttons[key].disabled = !msg[key];\n",
       "        fig.buttons[key].setAttribute('aria-disabled', !msg[key]);\n",
       "    }\n",
       "};\n",
       "\n",
       "mpl.figure.prototype.handle_navigate_mode = function (fig, msg) {\n",
       "    if (msg['mode'] === 'PAN') {\n",
       "        fig.buttons['Pan'].classList.add('active');\n",
       "        fig.buttons['Zoom'].classList.remove('active');\n",
       "    } else if (msg['mode'] === 'ZOOM') {\n",
       "        fig.buttons['Pan'].classList.remove('active');\n",
       "        fig.buttons['Zoom'].classList.add('active');\n",
       "    } else {\n",
       "        fig.buttons['Pan'].classList.remove('active');\n",
       "        fig.buttons['Zoom'].classList.remove('active');\n",
       "    }\n",
       "};\n",
       "\n",
       "mpl.figure.prototype.updated_canvas_event = function () {\n",
       "    // Called whenever the canvas gets updated.\n",
       "    this.send_message('ack', {});\n",
       "};\n",
       "\n",
       "// A function to construct a web socket function for onmessage handling.\n",
       "// Called in the figure constructor.\n",
       "mpl.figure.prototype._make_on_message_function = function (fig) {\n",
       "    return function socket_on_message(evt) {\n",
       "        if (evt.data instanceof Blob) {\n",
       "            var img = evt.data;\n",
       "            if (img.type !== 'image/png') {\n",
       "                /* FIXME: We get \"Resource interpreted as Image but\n",
       "                 * transferred with MIME type text/plain:\" errors on\n",
       "                 * Chrome.  But how to set the MIME type?  It doesn't seem\n",
       "                 * to be part of the websocket stream */\n",
       "                img.type = 'image/png';\n",
       "            }\n",
       "\n",
       "            /* Free the memory for the previous frames */\n",
       "            if (fig.imageObj.src) {\n",
       "                (window.URL || window.webkitURL).revokeObjectURL(\n",
       "                    fig.imageObj.src\n",
       "                );\n",
       "            }\n",
       "\n",
       "            fig.imageObj.src = (window.URL || window.webkitURL).createObjectURL(\n",
       "                img\n",
       "            );\n",
       "            fig.updated_canvas_event();\n",
       "            fig.waiting = false;\n",
       "            return;\n",
       "        } else if (\n",
       "            typeof evt.data === 'string' &&\n",
       "            evt.data.slice(0, 21) === 'data:image/png;base64'\n",
       "        ) {\n",
       "            fig.imageObj.src = evt.data;\n",
       "            fig.updated_canvas_event();\n",
       "            fig.waiting = false;\n",
       "            return;\n",
       "        }\n",
       "\n",
       "        var msg = JSON.parse(evt.data);\n",
       "        var msg_type = msg['type'];\n",
       "\n",
       "        // Call the  \"handle_{type}\" callback, which takes\n",
       "        // the figure and JSON message as its only arguments.\n",
       "        try {\n",
       "            var callback = fig['handle_' + msg_type];\n",
       "        } catch (e) {\n",
       "            console.log(\n",
       "                \"No handler for the '\" + msg_type + \"' message type: \",\n",
       "                msg\n",
       "            );\n",
       "            return;\n",
       "        }\n",
       "\n",
       "        if (callback) {\n",
       "            try {\n",
       "                // console.log(\"Handling '\" + msg_type + \"' message: \", msg);\n",
       "                callback(fig, msg);\n",
       "            } catch (e) {\n",
       "                console.log(\n",
       "                    \"Exception inside the 'handler_\" + msg_type + \"' callback:\",\n",
       "                    e,\n",
       "                    e.stack,\n",
       "                    msg\n",
       "                );\n",
       "            }\n",
       "        }\n",
       "    };\n",
       "};\n",
       "\n",
       "function getModifiers(event) {\n",
       "    var mods = [];\n",
       "    if (event.ctrlKey) {\n",
       "        mods.push('ctrl');\n",
       "    }\n",
       "    if (event.altKey) {\n",
       "        mods.push('alt');\n",
       "    }\n",
       "    if (event.shiftKey) {\n",
       "        mods.push('shift');\n",
       "    }\n",
       "    if (event.metaKey) {\n",
       "        mods.push('meta');\n",
       "    }\n",
       "    return mods;\n",
       "}\n",
       "\n",
       "/*\n",
       " * return a copy of an object with only non-object keys\n",
       " * we need this to avoid circular references\n",
       " * https://stackoverflow.com/a/24161582/3208463\n",
       " */\n",
       "function simpleKeys(original) {\n",
       "    return Object.keys(original).reduce(function (obj, key) {\n",
       "        if (typeof original[key] !== 'object') {\n",
       "            obj[key] = original[key];\n",
       "        }\n",
       "        return obj;\n",
       "    }, {});\n",
       "}\n",
       "\n",
       "mpl.figure.prototype.mouse_event = function (event, name) {\n",
       "    if (name === 'button_press') {\n",
       "        this.canvas.focus();\n",
       "        this.canvas_div.focus();\n",
       "    }\n",
       "\n",
       "    // from https://stackoverflow.com/q/1114465\n",
       "    var boundingRect = this.canvas.getBoundingClientRect();\n",
       "    var x = (event.clientX - boundingRect.left) * this.ratio;\n",
       "    var y = (event.clientY - boundingRect.top) * this.ratio;\n",
       "\n",
       "    this.send_message(name, {\n",
       "        x: x,\n",
       "        y: y,\n",
       "        button: event.button,\n",
       "        step: event.step,\n",
       "        modifiers: getModifiers(event),\n",
       "        guiEvent: simpleKeys(event),\n",
       "    });\n",
       "\n",
       "    return false;\n",
       "};\n",
       "\n",
       "mpl.figure.prototype._key_event_extra = function (_event, _name) {\n",
       "    // Handle any extra behaviour associated with a key event\n",
       "};\n",
       "\n",
       "mpl.figure.prototype.key_event = function (event, name) {\n",
       "    // Prevent repeat events\n",
       "    if (name === 'key_press') {\n",
       "        if (event.key === this._key) {\n",
       "            return;\n",
       "        } else {\n",
       "            this._key = event.key;\n",
       "        }\n",
       "    }\n",
       "    if (name === 'key_release') {\n",
       "        this._key = null;\n",
       "    }\n",
       "\n",
       "    var value = '';\n",
       "    if (event.ctrlKey && event.key !== 'Control') {\n",
       "        value += 'ctrl+';\n",
       "    }\n",
       "    else if (event.altKey && event.key !== 'Alt') {\n",
       "        value += 'alt+';\n",
       "    }\n",
       "    else if (event.shiftKey && event.key !== 'Shift') {\n",
       "        value += 'shift+';\n",
       "    }\n",
       "\n",
       "    value += 'k' + event.key;\n",
       "\n",
       "    this._key_event_extra(event, name);\n",
       "\n",
       "    this.send_message(name, { key: value, guiEvent: simpleKeys(event) });\n",
       "    return false;\n",
       "};\n",
       "\n",
       "mpl.figure.prototype.toolbar_button_onclick = function (name) {\n",
       "    if (name === 'download') {\n",
       "        this.handle_save(this, null);\n",
       "    } else {\n",
       "        this.send_message('toolbar_button', { name: name });\n",
       "    }\n",
       "};\n",
       "\n",
       "mpl.figure.prototype.toolbar_button_onmouseover = function (tooltip) {\n",
       "    this.message.textContent = tooltip;\n",
       "};\n",
       "\n",
       "///////////////// REMAINING CONTENT GENERATED BY embed_js.py /////////////////\n",
       "// prettier-ignore\n",
       "var _JSXTOOLS_RESIZE_OBSERVER=function(A){var t,i=new WeakMap,n=new WeakMap,a=new WeakMap,r=new WeakMap,o=new Set;function s(e){if(!(this instanceof s))throw new TypeError(\"Constructor requires 'new' operator\");i.set(this,e)}function h(){throw new TypeError(\"Function is not a constructor\")}function c(e,t,i,n){e=0 in arguments?Number(arguments[0]):0,t=1 in arguments?Number(arguments[1]):0,i=2 in arguments?Number(arguments[2]):0,n=3 in arguments?Number(arguments[3]):0,this.right=(this.x=this.left=e)+(this.width=i),this.bottom=(this.y=this.top=t)+(this.height=n),Object.freeze(this)}function d(){t=requestAnimationFrame(d);var s=new WeakMap,p=new Set;o.forEach((function(t){r.get(t).forEach((function(i){var r=t instanceof window.SVGElement,o=a.get(t),d=r?0:parseFloat(o.paddingTop),f=r?0:parseFloat(o.paddingRight),l=r?0:parseFloat(o.paddingBottom),u=r?0:parseFloat(o.paddingLeft),g=r?0:parseFloat(o.borderTopWidth),m=r?0:parseFloat(o.borderRightWidth),w=r?0:parseFloat(o.borderBottomWidth),b=u+f,F=d+l,v=(r?0:parseFloat(o.borderLeftWidth))+m,W=g+w,y=r?0:t.offsetHeight-W-t.clientHeight,E=r?0:t.offsetWidth-v-t.clientWidth,R=b+v,z=F+W,M=r?t.width:parseFloat(o.width)-R-E,O=r?t.height:parseFloat(o.height)-z-y;if(n.has(t)){var k=n.get(t);if(k[0]===M&&k[1]===O)return}n.set(t,[M,O]);var S=Object.create(h.prototype);S.target=t,S.contentRect=new c(u,d,M,O),s.has(i)||(s.set(i,[]),p.add(i)),s.get(i).push(S)}))})),p.forEach((function(e){i.get(e).call(e,s.get(e),e)}))}return s.prototype.observe=function(i){if(i instanceof window.Element){r.has(i)||(r.set(i,new Set),o.add(i),a.set(i,window.getComputedStyle(i)));var n=r.get(i);n.has(this)||n.add(this),cancelAnimationFrame(t),t=requestAnimationFrame(d)}},s.prototype.unobserve=function(i){if(i instanceof window.Element&&r.has(i)){var n=r.get(i);n.has(this)&&(n.delete(this),n.size||(r.delete(i),o.delete(i))),n.size||r.delete(i),o.size||cancelAnimationFrame(t)}},A.DOMRectReadOnly=c,A.ResizeObserver=s,A.ResizeObserverEntry=h,A}; // eslint-disable-line\n",
       "mpl.toolbar_items = [[\"Home\", \"Reset original view\", \"fa fa-home\", \"home\"], [\"Back\", \"Back to previous view\", \"fa fa-arrow-left\", \"back\"], [\"Forward\", \"Forward to next view\", \"fa fa-arrow-right\", \"forward\"], [\"\", \"\", \"\", \"\"], [\"Pan\", \"Left button pans, Right button zooms\\nx/y fixes axis, CTRL fixes aspect\", \"fa fa-arrows\", \"pan\"], [\"Zoom\", \"Zoom to rectangle\\nx/y fixes axis\", \"fa fa-square-o\", \"zoom\"], [\"\", \"\", \"\", \"\"], [\"Download\", \"Download plot\", \"fa fa-floppy-o\", \"download\"]];\n",
       "\n",
       "mpl.extensions = [\"eps\", \"jpeg\", \"pgf\", \"pdf\", \"png\", \"ps\", \"raw\", \"svg\", \"tif\", \"webp\"];\n",
       "\n",
       "mpl.default_extension = \"png\";/* global mpl */\n",
       "\n",
       "var comm_websocket_adapter = function (comm) {\n",
       "    // Create a \"websocket\"-like object which calls the given IPython comm\n",
       "    // object with the appropriate methods. Currently this is a non binary\n",
       "    // socket, so there is still some room for performance tuning.\n",
       "    var ws = {};\n",
       "\n",
       "    ws.binaryType = comm.kernel.ws.binaryType;\n",
       "    ws.readyState = comm.kernel.ws.readyState;\n",
       "    function updateReadyState(_event) {\n",
       "        if (comm.kernel.ws) {\n",
       "            ws.readyState = comm.kernel.ws.readyState;\n",
       "        } else {\n",
       "            ws.readyState = 3; // Closed state.\n",
       "        }\n",
       "    }\n",
       "    comm.kernel.ws.addEventListener('open', updateReadyState);\n",
       "    comm.kernel.ws.addEventListener('close', updateReadyState);\n",
       "    comm.kernel.ws.addEventListener('error', updateReadyState);\n",
       "\n",
       "    ws.close = function () {\n",
       "        comm.close();\n",
       "    };\n",
       "    ws.send = function (m) {\n",
       "        //console.log('sending', m);\n",
       "        comm.send(m);\n",
       "    };\n",
       "    // Register the callback with on_msg.\n",
       "    comm.on_msg(function (msg) {\n",
       "        //console.log('receiving', msg['content']['data'], msg);\n",
       "        var data = msg['content']['data'];\n",
       "        if (data['blob'] !== undefined) {\n",
       "            data = {\n",
       "                data: new Blob(msg['buffers'], { type: data['blob'] }),\n",
       "            };\n",
       "        }\n",
       "        // Pass the mpl event to the overridden (by mpl) onmessage function.\n",
       "        ws.onmessage(data);\n",
       "    });\n",
       "    return ws;\n",
       "};\n",
       "\n",
       "mpl.mpl_figure_comm = function (comm, msg) {\n",
       "    // This is the function which gets called when the mpl process\n",
       "    // starts-up an IPython Comm through the \"matplotlib\" channel.\n",
       "\n",
       "    var id = msg.content.data.id;\n",
       "    // Get hold of the div created by the display call when the Comm\n",
       "    // socket was opened in Python.\n",
       "    var element = document.getElementById(id);\n",
       "    var ws_proxy = comm_websocket_adapter(comm);\n",
       "\n",
       "    function ondownload(figure, _format) {\n",
       "        window.open(figure.canvas.toDataURL());\n",
       "    }\n",
       "\n",
       "    var fig = new mpl.figure(id, ws_proxy, ondownload, element);\n",
       "\n",
       "    // Call onopen now - mpl needs it, as it is assuming we've passed it a real\n",
       "    // web socket which is closed, not our websocket->open comm proxy.\n",
       "    ws_proxy.onopen();\n",
       "\n",
       "    fig.parent_element = element;\n",
       "    fig.cell_info = mpl.find_output_cell(\"<div id='\" + id + \"'></div>\");\n",
       "    if (!fig.cell_info) {\n",
       "        console.error('Failed to find cell for figure', id, fig);\n",
       "        return;\n",
       "    }\n",
       "    fig.cell_info[0].output_area.element.on(\n",
       "        'cleared',\n",
       "        { fig: fig },\n",
       "        fig._remove_fig_handler\n",
       "    );\n",
       "};\n",
       "\n",
       "mpl.figure.prototype.handle_close = function (fig, msg) {\n",
       "    var width = fig.canvas.width / fig.ratio;\n",
       "    fig.cell_info[0].output_area.element.off(\n",
       "        'cleared',\n",
       "        fig._remove_fig_handler\n",
       "    );\n",
       "    fig.resizeObserverInstance.unobserve(fig.canvas_div);\n",
       "\n",
       "    // Update the output cell to use the data from the current canvas.\n",
       "    fig.push_to_output();\n",
       "    var dataURL = fig.canvas.toDataURL();\n",
       "    // Re-enable the keyboard manager in IPython - without this line, in FF,\n",
       "    // the notebook keyboard shortcuts fail.\n",
       "    IPython.keyboard_manager.enable();\n",
       "    fig.parent_element.innerHTML =\n",
       "        '<img src=\"' + dataURL + '\" width=\"' + width + '\">';\n",
       "    fig.close_ws(fig, msg);\n",
       "};\n",
       "\n",
       "mpl.figure.prototype.close_ws = function (fig, msg) {\n",
       "    fig.send_message('closing', msg);\n",
       "    // fig.ws.close()\n",
       "};\n",
       "\n",
       "mpl.figure.prototype.push_to_output = function (_remove_interactive) {\n",
       "    // Turn the data on the canvas into data in the output cell.\n",
       "    var width = this.canvas.width / this.ratio;\n",
       "    var dataURL = this.canvas.toDataURL();\n",
       "    this.cell_info[1]['text/html'] =\n",
       "        '<img src=\"' + dataURL + '\" width=\"' + width + '\">';\n",
       "};\n",
       "\n",
       "mpl.figure.prototype.updated_canvas_event = function () {\n",
       "    // Tell IPython that the notebook contents must change.\n",
       "    IPython.notebook.set_dirty(true);\n",
       "    this.send_message('ack', {});\n",
       "    var fig = this;\n",
       "    // Wait a second, then push the new image to the DOM so\n",
       "    // that it is saved nicely (might be nice to debounce this).\n",
       "    setTimeout(function () {\n",
       "        fig.push_to_output();\n",
       "    }, 1000);\n",
       "};\n",
       "\n",
       "mpl.figure.prototype._init_toolbar = function () {\n",
       "    var fig = this;\n",
       "\n",
       "    var toolbar = document.createElement('div');\n",
       "    toolbar.classList = 'btn-toolbar';\n",
       "    this.root.appendChild(toolbar);\n",
       "\n",
       "    function on_click_closure(name) {\n",
       "        return function (_event) {\n",
       "            return fig.toolbar_button_onclick(name);\n",
       "        };\n",
       "    }\n",
       "\n",
       "    function on_mouseover_closure(tooltip) {\n",
       "        return function (event) {\n",
       "            if (!event.currentTarget.disabled) {\n",
       "                return fig.toolbar_button_onmouseover(tooltip);\n",
       "            }\n",
       "        };\n",
       "    }\n",
       "\n",
       "    fig.buttons = {};\n",
       "    var buttonGroup = document.createElement('div');\n",
       "    buttonGroup.classList = 'btn-group';\n",
       "    var button;\n",
       "    for (var toolbar_ind in mpl.toolbar_items) {\n",
       "        var name = mpl.toolbar_items[toolbar_ind][0];\n",
       "        var tooltip = mpl.toolbar_items[toolbar_ind][1];\n",
       "        var image = mpl.toolbar_items[toolbar_ind][2];\n",
       "        var method_name = mpl.toolbar_items[toolbar_ind][3];\n",
       "\n",
       "        if (!name) {\n",
       "            /* Instead of a spacer, we start a new button group. */\n",
       "            if (buttonGroup.hasChildNodes()) {\n",
       "                toolbar.appendChild(buttonGroup);\n",
       "            }\n",
       "            buttonGroup = document.createElement('div');\n",
       "            buttonGroup.classList = 'btn-group';\n",
       "            continue;\n",
       "        }\n",
       "\n",
       "        button = fig.buttons[name] = document.createElement('button');\n",
       "        button.classList = 'btn btn-default';\n",
       "        button.href = '#';\n",
       "        button.title = name;\n",
       "        button.innerHTML = '<i class=\"fa ' + image + ' fa-lg\"></i>';\n",
       "        button.addEventListener('click', on_click_closure(method_name));\n",
       "        button.addEventListener('mouseover', on_mouseover_closure(tooltip));\n",
       "        buttonGroup.appendChild(button);\n",
       "    }\n",
       "\n",
       "    if (buttonGroup.hasChildNodes()) {\n",
       "        toolbar.appendChild(buttonGroup);\n",
       "    }\n",
       "\n",
       "    // Add the status bar.\n",
       "    var status_bar = document.createElement('span');\n",
       "    status_bar.classList = 'mpl-message pull-right';\n",
       "    toolbar.appendChild(status_bar);\n",
       "    this.message = status_bar;\n",
       "\n",
       "    // Add the close button to the window.\n",
       "    var buttongrp = document.createElement('div');\n",
       "    buttongrp.classList = 'btn-group inline pull-right';\n",
       "    button = document.createElement('button');\n",
       "    button.classList = 'btn btn-mini btn-primary';\n",
       "    button.href = '#';\n",
       "    button.title = 'Stop Interaction';\n",
       "    button.innerHTML = '<i class=\"fa fa-power-off icon-remove icon-large\"></i>';\n",
       "    button.addEventListener('click', function (_evt) {\n",
       "        fig.handle_close(fig, {});\n",
       "    });\n",
       "    button.addEventListener(\n",
       "        'mouseover',\n",
       "        on_mouseover_closure('Stop Interaction')\n",
       "    );\n",
       "    buttongrp.appendChild(button);\n",
       "    var titlebar = this.root.querySelector('.ui-dialog-titlebar');\n",
       "    titlebar.insertBefore(buttongrp, titlebar.firstChild);\n",
       "};\n",
       "\n",
       "mpl.figure.prototype._remove_fig_handler = function (event) {\n",
       "    var fig = event.data.fig;\n",
       "    if (event.target !== this) {\n",
       "        // Ignore bubbled events from children.\n",
       "        return;\n",
       "    }\n",
       "    fig.close_ws(fig, {});\n",
       "};\n",
       "\n",
       "mpl.figure.prototype._root_extra_style = function (el) {\n",
       "    el.style.boxSizing = 'content-box'; // override notebook setting of border-box.\n",
       "};\n",
       "\n",
       "mpl.figure.prototype._canvas_extra_style = function (el) {\n",
       "    // this is important to make the div 'focusable\n",
       "    el.setAttribute('tabindex', 0);\n",
       "    // reach out to IPython and tell the keyboard manager to turn it's self\n",
       "    // off when our div gets focus\n",
       "\n",
       "    // location in version 3\n",
       "    if (IPython.notebook.keyboard_manager) {\n",
       "        IPython.notebook.keyboard_manager.register_events(el);\n",
       "    } else {\n",
       "        // location in version 2\n",
       "        IPython.keyboard_manager.register_events(el);\n",
       "    }\n",
       "};\n",
       "\n",
       "mpl.figure.prototype._key_event_extra = function (event, _name) {\n",
       "    // Check for shift+enter\n",
       "    if (event.shiftKey && event.which === 13) {\n",
       "        this.canvas_div.blur();\n",
       "        // select the cell after this one\n",
       "        var index = IPython.notebook.find_cell_index(this.cell_info[0]);\n",
       "        IPython.notebook.select(index + 1);\n",
       "    }\n",
       "};\n",
       "\n",
       "mpl.figure.prototype.handle_save = function (fig, _msg) {\n",
       "    fig.ondownload(fig, null);\n",
       "};\n",
       "\n",
       "mpl.find_output_cell = function (html_output) {\n",
       "    // Return the cell and output element which can be found *uniquely* in the notebook.\n",
       "    // Note - this is a bit hacky, but it is done because the \"notebook_saving.Notebook\"\n",
       "    // IPython event is triggered only after the cells have been serialised, which for\n",
       "    // our purposes (turning an active figure into a static one), is too late.\n",
       "    var cells = IPython.notebook.get_cells();\n",
       "    var ncells = cells.length;\n",
       "    for (var i = 0; i < ncells; i++) {\n",
       "        var cell = cells[i];\n",
       "        if (cell.cell_type === 'code') {\n",
       "            for (var j = 0; j < cell.output_area.outputs.length; j++) {\n",
       "                var data = cell.output_area.outputs[j];\n",
       "                if (data.data) {\n",
       "                    // IPython >= 3 moved mimebundle to data attribute of output\n",
       "                    data = data.data;\n",
       "                }\n",
       "                if (data['text/html'] === html_output) {\n",
       "                    return [cell, data, j];\n",
       "                }\n",
       "            }\n",
       "        }\n",
       "    }\n",
       "};\n",
       "\n",
       "// Register the function which deals with the matplotlib target/channel.\n",
       "// The kernel may be null if the page has been refreshed.\n",
       "if (IPython.notebook.kernel !== null) {\n",
       "    IPython.notebook.kernel.comm_manager.register_target(\n",
       "        'matplotlib',\n",
       "        mpl.mpl_figure_comm\n",
       "    );\n",
       "}\n"
      ],
      "text/plain": [
       "<IPython.core.display.Javascript object>"
      ]
     },
     "metadata": {},
     "output_type": "display_data"
    },
    {
     "data": {
      "text/html": [
       "<img src=\"data:image/png;base64,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\" width=\"1000\">"
      ],
      "text/plain": [
       "<IPython.core.display.HTML object>"
      ]
     },
     "metadata": {},
     "output_type": "display_data"
    }
   ],
   "source": [
    "# Données\n",
    "X = np.linspace(-2,2, 100)\n",
    "Y = np.sin(X)**2*np.exp(-X**2)\n",
    "Y_noise = Y + .1*(np.random.rand(len(X))-0.5)\n",
    "\n",
    "# Graph\n",
    "plt.figure(figsize=(10, 6))\n",
    "plt.plot(X,Y, label=\"Theory\")\n",
    "plt.plot(X,Y_noise, 'o', label=\"Experiment\")\n",
    "plt.xlabel('Voltage [V]')\n",
    "plt.ylabel(r'$\\zeta$ [m]')\n",
    "plt.text(0, 0.15, r'$E = \\int_0^\\infty mc^2 dt$')\n",
    "\n",
    "plt.title(\"Nonsense graph\")\n",
    "plt.legend(loc='upper left')\n",
    "plt.grid(True)\n",
    "plt.savefig('ma_figure.pdf')\n",
    "plt.savefig('ma_figure.svg')"
   ]
  },
  {
   "cell_type": "code",
   "execution_count": null,
   "metadata": {},
   "outputs": [],
   "source": [
    "s = \"\"\"Bonjour\n",
    "Hello\n",
    "\"\"\"\n",
    "s = 'Bonjour\\nHello\\n'"
   ]
  },
  {
   "cell_type": "code",
   "execution_count": null,
   "metadata": {},
   "outputs": [],
   "source": [
    "r'$\\nu$'"
   ]
  },
  {
   "cell_type": "markdown",
   "metadata": {
    "extensions": {
     "jupyter_dashboards": {
      "version": 1,
      "views": {
       "grid_default": {
        "col": 0,
        "height": 9,
        "hidden": false,
        "row": 130,
        "width": 12
       },
       "report_default": {}
      }
     }
    },
    "slideshow": {
     "slide_type": "slide"
    }
   },
   "source": [
    "## Quelques commandes graphiques \n",
    "\n",
    "* ``plot(X,Y)``\n",
    "* ``loglog(X,Y)``, ``semilogx(X,Y)``, ``semilogy(X,Y)`` \n",
    "* ``errorbar(X,Y, xerr=sig_X, yerr=sig_Y, fmt='o')`` \n",
    "* ``xlabel('blabla')``, ``ylabel('blabla')``, ``title('blabla')``\n",
    "* ``xlim((x_inf, x_sup))``, ``ylim((y_inf, y_sup))`` pour zoomer sur une partie du graph\n",
    "* ``grid(True)`` pour tracer une grille\n",
    "* ``subplot(nx,ny,m)`` pour faires plusieurs plots\n",
    "* ``imshow(image)`` pour tracer une matrice en fausse couleur et ``colorbar()`` pour tracer l'échelle"
   ]
  },
  {
   "cell_type": "markdown",
   "metadata": {
    "extensions": {
     "jupyter_dashboards": {
      "version": 1,
      "views": {
       "grid_default": {
        "col": 0,
        "height": 4,
        "hidden": false,
        "row": 139,
        "width": 12
       },
       "report_default": {}
      }
     }
    },
    "slideshow": {
     "slide_type": "slide"
    }
   },
   "source": [
    "* ``text(x,y,s)``\n",
    "* ``savefig(nom_fichier)``. Pour sauver une figure. Le formet est déterminé par l'extension. Utiliser ``pdf`` ou `svg` si on veut modifier le fichier (avec Inkscape par exemple).\n",
    "\n",
    "Le site web de matplotlib regorge d'exemples avec tout type de graph."
   ]
  },
  {
   "cell_type": "code",
   "execution_count": null,
   "metadata": {},
   "outputs": [],
   "source": []
  }
 ],
 "metadata": {
  "kernelspec": {
   "display_name": "Python 3",
   "language": "python",
   "name": "python3"
  },
  "language_info": {
   "codemirror_mode": {
    "name": "ipython",
    "version": 3
   },
   "file_extension": ".py",
   "mimetype": "text/x-python",
   "name": "python",
   "nbconvert_exporter": "python",
   "pygments_lexer": "ipython3",
   "version": "3.8.8"
  },
  "varInspector": {
   "cols": {
    "lenName": 16,
    "lenType": 16,
    "lenVar": 40
   },
   "kernels_config": {
    "python": {
     "delete_cmd_postfix": "",
     "delete_cmd_prefix": "del ",
     "library": "var_list.py",
     "varRefreshCmd": "print(var_dic_list())"
    },
    "r": {
     "delete_cmd_postfix": ") ",
     "delete_cmd_prefix": "rm(",
     "library": "var_list.r",
     "varRefreshCmd": "cat(var_dic_list()) "
    }
   },
   "types_to_exclude": [
    "module",
    "function",
    "builtin_function_or_method",
    "instance",
    "_Feature"
   ],
   "window_display": false
  }
 },
 "nbformat": 4,
 "nbformat_minor": 4
}
