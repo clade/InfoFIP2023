{
 "cells": [
  {
   "cell_type": "code",
   "execution_count": 2,
   "id": "4d42ddc8",
   "metadata": {},
   "outputs": [
    {
     "data": {
      "text/plain": [
       "0.4999999999999998"
      ]
     },
     "execution_count": 2,
     "metadata": {},
     "output_type": "execute_result"
    }
   ],
   "source": [
    "import numpy as np\n",
    "def simpson_slow(f, a, b, N) :\n",
    "    dx = (b-a)/N\n",
    "    pts = np.linspace(a, b, N, endpoint=False)\n",
    "    I = 0\n",
    "    for x in pts :\n",
    "        I = I + dx*(f(x) + 4*f(x + dx/2) + f(x + dx))/6\n",
    "    return I\n",
    "\n",
    "def f(x):\n",
    "    return x\n",
    "\n",
    "simpson_slow(f, 0, 1, 1000)"
   ]
  },
  {
   "cell_type": "code",
   "execution_count": 4,
   "id": "ddc1853a",
   "metadata": {},
   "outputs": [
    {
     "data": {
      "text/plain": [
       "0.5"
      ]
     },
     "execution_count": 4,
     "metadata": {},
     "output_type": "execute_result"
    }
   ],
   "source": [
    "def simpson_fast(f, a, b, N):\n",
    "    dx = (b-a)/N\n",
    "    pts = np.linspace(a, b, N, endpoint=False)\n",
    "    terme = dx*(f(pts) + 4*f(pts + dx/2) + f(pts + dx))/6\n",
    "    return np.sum(terme)\n",
    "\n",
    "simpson_fast(f, 0, 1, 1000)"
   ]
  },
  {
   "cell_type": "code",
   "execution_count": 7,
   "id": "d75a46d5",
   "metadata": {},
   "outputs": [
    {
     "name": "stdout",
     "output_type": "stream",
     "text": [
      "1.51 ms ± 3.89 µs per loop (mean ± std. dev. of 7 runs, 1000 loops each)\n",
      "62.1 µs ± 837 ns per loop (mean ± std. dev. of 7 runs, 10000 loops each)\n"
     ]
    }
   ],
   "source": [
    "def f(x):\n",
    "    return 1/(1+x**2)\n",
    "\n",
    "%timeit simpson_slow(f, 0, 1, 1000)\n",
    "%timeit simpson_fast(f, 0, 1, 1000)"
   ]
  },
  {
   "cell_type": "code",
   "execution_count": 11,
   "id": "fc43281c",
   "metadata": {},
   "outputs": [
    {
     "data": {
      "image/png": "[encoded data removed]",
      "text/plain": [
       "<Figure size 432x288 with 1 Axes>"
      ]
     },
     "metadata": {
      "needs_background": "light"
     },
     "output_type": "display_data"
    }
   ],
   "source": [
    "import matplotlib.pyplot as plt\n",
    "\n",
    "I_th = np.pi/4\n",
    "nombres = np.logspace(0, 3, 100)\n",
    "y = [abs(I_th - simpson_fast(f, 0, 1, int(N))) for N in nombres]\n",
    "plt.loglog(nombres, y)\n",
    "plt.grid()\n",
    "plt.show()"
   ]
  },
  {
   "cell_type": "code",
   "execution_count": null,
   "id": "a7f45903",
   "metadata": {},
   "outputs": [],
   "source": []
  }
 ],
 "metadata": {
  "kernelspec": {
   "display_name": "Python 3",
   "language": "python",
   "name": "python3"
  },
  "language_info": {
   "codemirror_mode": {
    "name": "ipython",
    "version": 3
   },
   "file_extension": ".py",
   "mimetype": "text/x-python",
   "name": "python",
   "nbconvert_exporter": "python",
   "pygments_lexer": "ipython3",
   "version": "3.8.8"
  },
  "varInspector": {
   "cols": {
    "lenName": 16,
    "lenType": 16,
    "lenVar": 40
   },
   "kernels_config": {
    "python": {
     "delete_cmd_postfix": "",
     "delete_cmd_prefix": "del ",
     "library": "var_list.py",
     "varRefreshCmd": "print(var_dic_list())"
    },
    "r": {
     "delete_cmd_postfix": ") ",
     "delete_cmd_prefix": "rm(",
     "library": "var_list.r",
     "varRefreshCmd": "cat(var_dic_list()) "
    }
   },
   "types_to_exclude": [
    "module",
    "function",
    "builtin_function_or_method",
    "instance",
    "_Feature"
   ],
   "window_display": false
  }
 },
 "nbformat": 4,
 "nbformat_minor": 5
}
